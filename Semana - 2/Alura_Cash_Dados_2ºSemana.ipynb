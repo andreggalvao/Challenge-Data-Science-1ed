{
  "cells": [
    {
      "cell_type": "markdown",
      "metadata": {
        "id": "bUk-UUAxfNrF"
      },
      "source": [
        "## Bibliotecas"
      ]
    },
    {
      "cell_type": "code",
      "execution_count": 2,
      "metadata": {
        "id": "T9ZLfpYzewpM"
      },
      "outputs": [],
      "source": [
        "import pandas as pd\n",
        "import seaborn as sns\n",
        "import matplotlib.pyplot as plt\n",
        "import numpy as np\n"
      ]
    },
    {
      "cell_type": "code",
      "execution_count": 3,
      "metadata": {},
      "outputs": [],
      "source": [
        "#%pip install imbalanced-learn\n"
      ]
    },
    {
      "cell_type": "markdown",
      "metadata": {
        "id": "OhqTCSwcfTgH"
      },
      "source": [
        "## Importando dados"
      ]
    },
    {
      "cell_type": "code",
      "execution_count": 4,
      "metadata": {
        "colab": {
          "base_uri": "https://localhost:8080/",
          "height": 357
        },
        "id": "FVfqXBZxfPs1",
        "outputId": "1c90d5af-2538-47ce-9404-152c59b9bef3"
      },
      "outputs": [
        {
          "data": {
            "text/html": [
              "<div>\n",
              "<style scoped>\n",
              "    .dataframe tbody tr th:only-of-type {\n",
              "        vertical-align: middle;\n",
              "    }\n",
              "\n",
              "    .dataframe tbody tr th {\n",
              "        vertical-align: top;\n",
              "    }\n",
              "\n",
              "    .dataframe thead th {\n",
              "        text-align: right;\n",
              "    }\n",
              "</style>\n",
              "<table border=\"1\" class=\"dataframe\">\n",
              "  <thead>\n",
              "    <tr style=\"text-align: right;\">\n",
              "      <th></th>\n",
              "      <th>person_id</th>\n",
              "      <th>loan_id</th>\n",
              "      <th>cb_id</th>\n",
              "      <th>person_id.1</th>\n",
              "      <th>person_age</th>\n",
              "      <th>person_income</th>\n",
              "      <th>person_home_ownership</th>\n",
              "      <th>person_emp_length</th>\n",
              "      <th>loan_id.1</th>\n",
              "      <th>loan_intent</th>\n",
              "      <th>loan_grade</th>\n",
              "      <th>loan_amnt</th>\n",
              "      <th>loan_int_rate</th>\n",
              "      <th>loan_status</th>\n",
              "      <th>loan_percent_income</th>\n",
              "      <th>cb_id.1</th>\n",
              "      <th>cb_person_default_on_file</th>\n",
              "      <th>cb_person_cred_hist_length</th>\n",
              "    </tr>\n",
              "  </thead>\n",
              "  <tbody>\n",
              "    <tr>\n",
              "      <th>0</th>\n",
              "      <td>YIHuehGl-eWpc</td>\n",
              "      <td>IHcxHFyD-ddZE</td>\n",
              "      <td>CRO9thKh-NYDn</td>\n",
              "      <td>YIHuehGl-eWpc</td>\n",
              "      <td>29.0</td>\n",
              "      <td>175000.0</td>\n",
              "      <td>Mortgage</td>\n",
              "      <td>2.0</td>\n",
              "      <td>IHcxHFyD-ddZE</td>\n",
              "      <td>Homeimprovement</td>\n",
              "      <td>A</td>\n",
              "      <td>10000.0</td>\n",
              "      <td>NaN</td>\n",
              "      <td>0.0</td>\n",
              "      <td>0.06</td>\n",
              "      <td>CRO9thKh-NYDn</td>\n",
              "      <td>N</td>\n",
              "      <td>9.0</td>\n",
              "    </tr>\n",
              "    <tr>\n",
              "      <th>1</th>\n",
              "      <td>LmwskARR-HyA3</td>\n",
              "      <td>0YpSbTgj-CZKT</td>\n",
              "      <td>j3jnnG3T-iF3N</td>\n",
              "      <td>LmwskARR-HyA3</td>\n",
              "      <td>21.0</td>\n",
              "      <td>41900.0</td>\n",
              "      <td>Rent</td>\n",
              "      <td>2.0</td>\n",
              "      <td>0YpSbTgj-CZKT</td>\n",
              "      <td>Venture</td>\n",
              "      <td>C</td>\n",
              "      <td>16000.0</td>\n",
              "      <td>12.84</td>\n",
              "      <td>1.0</td>\n",
              "      <td>0.38</td>\n",
              "      <td>j3jnnG3T-iF3N</td>\n",
              "      <td>Y</td>\n",
              "      <td>2.0</td>\n",
              "    </tr>\n",
              "    <tr>\n",
              "      <th>2</th>\n",
              "      <td>bRYeof0L-cqHI</td>\n",
              "      <td>0T2YFLWb-IZze</td>\n",
              "      <td>0Y1a64ag-4RLW</td>\n",
              "      <td>bRYeof0L-cqHI</td>\n",
              "      <td>30.0</td>\n",
              "      <td>100000.0</td>\n",
              "      <td>Rent</td>\n",
              "      <td>13.0</td>\n",
              "      <td>0T2YFLWb-IZze</td>\n",
              "      <td>Debtconsolidation</td>\n",
              "      <td>A</td>\n",
              "      <td>12000.0</td>\n",
              "      <td>7.88</td>\n",
              "      <td>0.0</td>\n",
              "      <td>0.12</td>\n",
              "      <td>0Y1a64ag-4RLW</td>\n",
              "      <td>N</td>\n",
              "      <td>9.0</td>\n",
              "    </tr>\n",
              "    <tr>\n",
              "      <th>3</th>\n",
              "      <td>F9a6bBd9-Xe2o</td>\n",
              "      <td>8HuvzhAq-k7Xi</td>\n",
              "      <td>L42AQtMx-SEGR</td>\n",
              "      <td>F9a6bBd9-Xe2o</td>\n",
              "      <td>27.0</td>\n",
              "      <td>68000.0</td>\n",
              "      <td>Rent</td>\n",
              "      <td>4.0</td>\n",
              "      <td>8HuvzhAq-k7Xi</td>\n",
              "      <td>Homeimprovement</td>\n",
              "      <td>A</td>\n",
              "      <td>8700.0</td>\n",
              "      <td>7.88</td>\n",
              "      <td>0.0</td>\n",
              "      <td>0.13</td>\n",
              "      <td>L42AQtMx-SEGR</td>\n",
              "      <td>N</td>\n",
              "      <td>5.0</td>\n",
              "    </tr>\n",
              "    <tr>\n",
              "      <th>4</th>\n",
              "      <td>hBn6Nj78-fvgu</td>\n",
              "      <td>w1JRom7y-y1od</td>\n",
              "      <td>2SebLJsQ-lj5F</td>\n",
              "      <td>hBn6Nj78-fvgu</td>\n",
              "      <td>26.0</td>\n",
              "      <td>31200.0</td>\n",
              "      <td>Rent</td>\n",
              "      <td>8.0</td>\n",
              "      <td>w1JRom7y-y1od</td>\n",
              "      <td>Personal</td>\n",
              "      <td>A</td>\n",
              "      <td>5000.0</td>\n",
              "      <td>8.63</td>\n",
              "      <td>0.0</td>\n",
              "      <td>0.16</td>\n",
              "      <td>2SebLJsQ-lj5F</td>\n",
              "      <td>N</td>\n",
              "      <td>2.0</td>\n",
              "    </tr>\n",
              "  </tbody>\n",
              "</table>\n",
              "</div>"
            ],
            "text/plain": [
              "       person_id        loan_id          cb_id    person_id.1  person_age  \\\n",
              "0  YIHuehGl-eWpc  IHcxHFyD-ddZE  CRO9thKh-NYDn  YIHuehGl-eWpc        29.0   \n",
              "1  LmwskARR-HyA3  0YpSbTgj-CZKT  j3jnnG3T-iF3N  LmwskARR-HyA3        21.0   \n",
              "2  bRYeof0L-cqHI  0T2YFLWb-IZze  0Y1a64ag-4RLW  bRYeof0L-cqHI        30.0   \n",
              "3  F9a6bBd9-Xe2o  8HuvzhAq-k7Xi  L42AQtMx-SEGR  F9a6bBd9-Xe2o        27.0   \n",
              "4  hBn6Nj78-fvgu  w1JRom7y-y1od  2SebLJsQ-lj5F  hBn6Nj78-fvgu        26.0   \n",
              "\n",
              "   person_income person_home_ownership  person_emp_length      loan_id.1  \\\n",
              "0       175000.0              Mortgage                2.0  IHcxHFyD-ddZE   \n",
              "1        41900.0                  Rent                2.0  0YpSbTgj-CZKT   \n",
              "2       100000.0                  Rent               13.0  0T2YFLWb-IZze   \n",
              "3        68000.0                  Rent                4.0  8HuvzhAq-k7Xi   \n",
              "4        31200.0                  Rent                8.0  w1JRom7y-y1od   \n",
              "\n",
              "         loan_intent loan_grade  loan_amnt  loan_int_rate  loan_status  \\\n",
              "0    Homeimprovement          A    10000.0            NaN          0.0   \n",
              "1            Venture          C    16000.0          12.84          1.0   \n",
              "2  Debtconsolidation          A    12000.0           7.88          0.0   \n",
              "3    Homeimprovement          A     8700.0           7.88          0.0   \n",
              "4           Personal          A     5000.0           8.63          0.0   \n",
              "\n",
              "   loan_percent_income        cb_id.1 cb_person_default_on_file  \\\n",
              "0                 0.06  CRO9thKh-NYDn                         N   \n",
              "1                 0.38  j3jnnG3T-iF3N                         Y   \n",
              "2                 0.12  0Y1a64ag-4RLW                         N   \n",
              "3                 0.13  L42AQtMx-SEGR                         N   \n",
              "4                 0.16  2SebLJsQ-lj5F                         N   \n",
              "\n",
              "   cb_person_cred_hist_length  \n",
              "0                         9.0  \n",
              "1                         2.0  \n",
              "2                         9.0  \n",
              "3                         5.0  \n",
              "4                         2.0  "
            ]
          },
          "execution_count": 4,
          "metadata": {},
          "output_type": "execute_result"
        }
      ],
      "source": [
        "LINK = 'https://raw.githubusercontent.com/andreggalvao/Challenge-Data-Science-1ed/main/Dados/dados_juntos_ANDRE.csv'\n",
        "dados = pd.read_csv(LINK, sep = ',')\n",
        "dados.head()"
      ]
    },
    {
      "cell_type": "markdown",
      "metadata": {
        "id": "ZxQk6y4sfn3d"
      },
      "source": [
        "### Traduzindo e renomeando"
      ]
    },
    {
      "cell_type": "code",
      "execution_count": 5,
      "metadata": {
        "id": "fIO5rtyTfeRN"
      },
      "outputs": [],
      "source": [
        "dados.drop(columns = ['person_id.1', 'loan_id.1', 'cb_id.1'], inplace = True)\n",
        "dados.rename(columns = {'person_id': 'id_pessoa',\n",
        "                        'loan_id': 'id_emprestimo',\n",
        "                        'cb_id': 'id_historico',\n",
        "                        'person_age' : 'idade',\n",
        "                        'person_income' : 'renda',\n",
        "                        'person_home_ownership' : 'imovel',\n",
        "                        'person_emp_length' : 'tempo_trabalhado',\n",
        "                        'loan_intent': 'motivo_emprestimo',\n",
        "                        'loan_grade' : 'nota_emprestimo',\n",
        "                        'loan_amnt' : 'total_emprestado',\n",
        "                        'loan_int_rate' : 'taxa_juros',\n",
        "                        'loan_status' : 'inadimplencia',\n",
        "                        'loan_percent_income' : 'renda_alocada',\n",
        "                        'cb_person_default_on_file' : 'devedora',\n",
        "                        'cb_person_cred_hist_length' : 'relacionamento_bancario'\n",
        "                        }, inplace = True)"
      ]
    },
    {
      "cell_type": "code",
      "execution_count": 6,
      "metadata": {
        "colab": {
          "base_uri": "https://localhost:8080/"
        },
        "id": "yQG_n7l_ffL-",
        "outputId": "03e64f3d-5848-49ec-9af0-f440f3e3f675"
      },
      "outputs": [
        {
          "data": {
            "text/plain": [
              "Rent        17243\n",
              "Mortgage    14100\n",
              "Own          2717\n",
              "Other         110\n",
              "Name: imovel, dtype: int64"
            ]
          },
          "execution_count": 6,
          "metadata": {},
          "output_type": "execute_result"
        }
      ],
      "source": [
        "dados.imovel.value_counts()"
      ]
    },
    {
      "cell_type": "code",
      "execution_count": 7,
      "metadata": {
        "id": "89TJ7Hgcfsu8"
      },
      "outputs": [],
      "source": [
        "dados.replace({'Rent' : 'Alugado',\n",
        "               'Mortgage' : 'Financiado',\n",
        "               'Own' : 'Propria',\n",
        "               'Other' : 'Outro'},\n",
        "               inplace = True)"
      ]
    },
    {
      "cell_type": "code",
      "execution_count": 8,
      "metadata": {
        "colab": {
          "base_uri": "https://localhost:8080/"
        },
        "id": "zJswQHagftq8",
        "outputId": "452024b7-6bd2-4f6e-b2a2-4b9ab2e846a2"
      },
      "outputs": [
        {
          "data": {
            "text/plain": [
              "Education            6774\n",
              "Medical              6380\n",
              "Venture              5977\n",
              "Personal             5782\n",
              "Debtconsolidation    5476\n",
              "Homeimprovement      3797\n",
              "Name: motivo_emprestimo, dtype: int64"
            ]
          },
          "execution_count": 8,
          "metadata": {},
          "output_type": "execute_result"
        }
      ],
      "source": [
        "dados.motivo_emprestimo.value_counts()"
      ]
    },
    {
      "cell_type": "code",
      "execution_count": 9,
      "metadata": {
        "id": "D1QSAIWifxl7"
      },
      "outputs": [],
      "source": [
        "dados.motivo_emprestimo.value_counts()\n",
        "\n",
        "dados.replace({'Education' : 'Educacao',\n",
        "               'Medical' : 'Medico',\n",
        "               'Venture' : 'Empreendimento',\n",
        "               'Personal' : 'Pessoal',\n",
        "               'Debtconsolidation' : 'Dividas',\n",
        "               'Homeimprovement' : 'Reforma'},\n",
        "               inplace = True)\n"
      ]
    },
    {
      "cell_type": "markdown",
      "metadata": {
        "id": "OlbOrNhuf_JP"
      },
      "source": [
        "## Tratamento dos dados"
      ]
    },
    {
      "cell_type": "markdown",
      "metadata": {
        "id": "3zQXlC-pgI1b"
      },
      "source": [
        "*   Remoção dos nulos"
      ]
    },
    {
      "cell_type": "code",
      "execution_count": 10,
      "metadata": {
        "colab": {
          "base_uri": "https://localhost:8080/"
        },
        "id": "Wpt-iT8zfzG6",
        "outputId": "676c3368-ee4f-4ba4-efd3-b1222e979693"
      },
      "outputs": [
        {
          "name": "stdout",
          "output_type": "stream",
          "text": [
            "<class 'pandas.core.frame.DataFrame'>\n",
            "RangeIndex: 34501 entries, 0 to 34500\n",
            "Data columns (total 15 columns):\n",
            " #   Column                   Non-Null Count  Dtype  \n",
            "---  ------                   --------------  -----  \n",
            " 0   id_pessoa                34485 non-null  object \n",
            " 1   id_emprestimo            34501 non-null  object \n",
            " 2   id_historico             34501 non-null  object \n",
            " 3   idade                    34177 non-null  float64\n",
            " 4   renda                    34162 non-null  float64\n",
            " 5   imovel                   34170 non-null  object \n",
            " 6   tempo_trabalhado         33247 non-null  float64\n",
            " 7   motivo_emprestimo        34186 non-null  object \n",
            " 8   nota_emprestimo          34188 non-null  object \n",
            " 9   total_emprestado         34170 non-null  float64\n",
            " 10  taxa_juros               30871 non-null  float64\n",
            " 11  inadimplencia            34158 non-null  float64\n",
            " 12  renda_alocada            34182 non-null  float64\n",
            " 13  devedora                 34131 non-null  object \n",
            " 14  relacionamento_bancario  34497 non-null  float64\n",
            "dtypes: float64(8), object(7)\n",
            "memory usage: 3.9+ MB\n"
          ]
        }
      ],
      "source": [
        "dados.info()"
      ]
    },
    {
      "cell_type": "code",
      "execution_count": 11,
      "metadata": {
        "colab": {
          "base_uri": "https://localhost:8080/"
        },
        "id": "Of7urGPqf-s6",
        "outputId": "d92344e0-f015-46e5-84d7-c097e435c8a8"
      },
      "outputs": [
        {
          "data": {
            "text/plain": [
              "id_pessoa                    16\n",
              "id_emprestimo                 0\n",
              "id_historico                  0\n",
              "idade                       324\n",
              "renda                       339\n",
              "imovel                      331\n",
              "tempo_trabalhado           1254\n",
              "motivo_emprestimo           315\n",
              "nota_emprestimo             313\n",
              "total_emprestado            331\n",
              "taxa_juros                 3630\n",
              "inadimplencia               343\n",
              "renda_alocada               319\n",
              "devedora                    370\n",
              "relacionamento_bancario       4\n",
              "dtype: int64"
            ]
          },
          "execution_count": 11,
          "metadata": {},
          "output_type": "execute_result"
        }
      ],
      "source": [
        "dados.isna().sum()"
      ]
    },
    {
      "cell_type": "code",
      "execution_count": 12,
      "metadata": {
        "id": "BxMcaoDsgVLf"
      },
      "outputs": [],
      "source": [
        "#removendo os NaN de ID\n",
        "dados.dropna(subset = ['id_pessoa'], inplace = True)\n",
        "# os IDs não me interessam uma vez que não vão me trazer informações para o modelo, todos seram removidos.\n",
        "dados.drop(columns = ['id_pessoa', 'id_emprestimo', 'id_historico'], inplace = True)"
      ]
    },
    {
      "cell_type": "code",
      "execution_count": 13,
      "metadata": {
        "id": "JcX6TRTspnO_"
      },
      "outputs": [],
      "source": [
        "# Aproveitando que os imoveis possuem uma categoria genérica como Outros, vamos utilizada para substituir os NaN.\n",
        "values = {'imovel': 'Outro', }\n",
        "#Deletaremos os NaN em seguida\n",
        "dados.fillna(value=values, inplace = True)"
      ]
    },
    {
      "cell_type": "code",
      "execution_count": 14,
      "metadata": {
        "colab": {
          "base_uri": "https://localhost:8080/",
          "height": 332
        },
        "id": "Gc3S8RjthD4D",
        "outputId": "ed5d1e63-1e5a-4fdd-8cba-62753da8aa46"
      },
      "outputs": [
        {
          "data": {
            "text/html": [
              "<style type=\"text/css\">\n",
              "</style>\n",
              "<table id=\"T_b5111\">\n",
              "  <thead>\n",
              "    <tr>\n",
              "      <th class=\"blank level0\" >&nbsp;</th>\n",
              "      <th id=\"T_b5111_level0_col0\" class=\"col_heading level0 col0\" colspan=\"6\">mean</th>\n",
              "    </tr>\n",
              "    <tr>\n",
              "      <th class=\"index_name level1\" >motivo_emprestimo</th>\n",
              "      <th id=\"T_b5111_level1_col0\" class=\"col_heading level1 col0\" >Dividas</th>\n",
              "      <th id=\"T_b5111_level1_col1\" class=\"col_heading level1 col1\" >Educacao</th>\n",
              "      <th id=\"T_b5111_level1_col2\" class=\"col_heading level1 col2\" >Empreendimento</th>\n",
              "      <th id=\"T_b5111_level1_col3\" class=\"col_heading level1 col3\" >Medico</th>\n",
              "      <th id=\"T_b5111_level1_col4\" class=\"col_heading level1 col4\" >Pessoal</th>\n",
              "      <th id=\"T_b5111_level1_col5\" class=\"col_heading level1 col5\" >Reforma</th>\n",
              "    </tr>\n",
              "    <tr>\n",
              "      <th class=\"index_name level0\" >nota_emprestimo</th>\n",
              "      <th class=\"blank col0\" >&nbsp;</th>\n",
              "      <th class=\"blank col1\" >&nbsp;</th>\n",
              "      <th class=\"blank col2\" >&nbsp;</th>\n",
              "      <th class=\"blank col3\" >&nbsp;</th>\n",
              "      <th class=\"blank col4\" >&nbsp;</th>\n",
              "      <th class=\"blank col5\" >&nbsp;</th>\n",
              "    </tr>\n",
              "  </thead>\n",
              "  <tbody>\n",
              "    <tr>\n",
              "      <th id=\"T_b5111_level0_row0\" class=\"row_heading level0 row0\" >A</th>\n",
              "      <td id=\"T_b5111_row0_col0\" class=\"data row0 col0\" >7.44</td>\n",
              "      <td id=\"T_b5111_row0_col1\" class=\"data row0 col1\" >7.45</td>\n",
              "      <td id=\"T_b5111_row0_col2\" class=\"data row0 col2\" >7.42</td>\n",
              "      <td id=\"T_b5111_row0_col3\" class=\"data row0 col3\" >7.47</td>\n",
              "      <td id=\"T_b5111_row0_col4\" class=\"data row0 col4\" >7.40</td>\n",
              "      <td id=\"T_b5111_row0_col5\" class=\"data row0 col5\" >7.36</td>\n",
              "    </tr>\n",
              "    <tr>\n",
              "      <th id=\"T_b5111_level0_row1\" class=\"row_heading level0 row1\" >B</th>\n",
              "      <td id=\"T_b5111_row1_col0\" class=\"data row1 col0\" >10.97</td>\n",
              "      <td id=\"T_b5111_row1_col1\" class=\"data row1 col1\" >11.00</td>\n",
              "      <td id=\"T_b5111_row1_col2\" class=\"data row1 col2\" >10.99</td>\n",
              "      <td id=\"T_b5111_row1_col3\" class=\"data row1 col3\" >10.99</td>\n",
              "      <td id=\"T_b5111_row1_col4\" class=\"data row1 col4\" >10.99</td>\n",
              "      <td id=\"T_b5111_row1_col5\" class=\"data row1 col5\" >11.00</td>\n",
              "    </tr>\n",
              "    <tr>\n",
              "      <th id=\"T_b5111_level0_row2\" class=\"row_heading level0 row2\" >C</th>\n",
              "      <td id=\"T_b5111_row2_col0\" class=\"data row2 col0\" >13.37</td>\n",
              "      <td id=\"T_b5111_row2_col1\" class=\"data row2 col1\" >13.36</td>\n",
              "      <td id=\"T_b5111_row2_col2\" class=\"data row2 col2\" >13.46</td>\n",
              "      <td id=\"T_b5111_row2_col3\" class=\"data row2 col3\" >13.38</td>\n",
              "      <td id=\"T_b5111_row2_col4\" class=\"data row2 col4\" >13.41</td>\n",
              "      <td id=\"T_b5111_row2_col5\" class=\"data row2 col5\" >13.33</td>\n",
              "    </tr>\n",
              "    <tr>\n",
              "      <th id=\"T_b5111_level0_row3\" class=\"row_heading level0 row3\" >D</th>\n",
              "      <td id=\"T_b5111_row3_col0\" class=\"data row3 col0\" >15.27</td>\n",
              "      <td id=\"T_b5111_row3_col1\" class=\"data row3 col1\" >15.20</td>\n",
              "      <td id=\"T_b5111_row3_col2\" class=\"data row3 col2\" >15.25</td>\n",
              "      <td id=\"T_b5111_row3_col3\" class=\"data row3 col3\" >15.34</td>\n",
              "      <td id=\"T_b5111_row3_col4\" class=\"data row3 col4\" >15.26</td>\n",
              "      <td id=\"T_b5111_row3_col5\" class=\"data row3 col5\" >15.15</td>\n",
              "    </tr>\n",
              "    <tr>\n",
              "      <th id=\"T_b5111_level0_row4\" class=\"row_heading level0 row4\" >E</th>\n",
              "      <td id=\"T_b5111_row4_col0\" class=\"data row4 col0\" >16.94</td>\n",
              "      <td id=\"T_b5111_row4_col1\" class=\"data row4 col1\" >16.77</td>\n",
              "      <td id=\"T_b5111_row4_col2\" class=\"data row4 col2\" >16.49</td>\n",
              "      <td id=\"T_b5111_row4_col3\" class=\"data row4 col3\" >16.84</td>\n",
              "      <td id=\"T_b5111_row4_col4\" class=\"data row4 col4\" >16.89</td>\n",
              "      <td id=\"T_b5111_row4_col5\" class=\"data row4 col5\" >17.07</td>\n",
              "    </tr>\n",
              "    <tr>\n",
              "      <th id=\"T_b5111_level0_row5\" class=\"row_heading level0 row5\" >F</th>\n",
              "      <td id=\"T_b5111_row5_col0\" class=\"data row5 col0\" >18.57</td>\n",
              "      <td id=\"T_b5111_row5_col1\" class=\"data row5 col1\" >18.23</td>\n",
              "      <td id=\"T_b5111_row5_col2\" class=\"data row5 col2\" >18.52</td>\n",
              "      <td id=\"T_b5111_row5_col3\" class=\"data row5 col3\" >18.37</td>\n",
              "      <td id=\"T_b5111_row5_col4\" class=\"data row5 col4\" >19.25</td>\n",
              "      <td id=\"T_b5111_row5_col5\" class=\"data row5 col5\" >18.08</td>\n",
              "    </tr>\n",
              "    <tr>\n",
              "      <th id=\"T_b5111_level0_row6\" class=\"row_heading level0 row6\" >G</th>\n",
              "      <td id=\"T_b5111_row6_col0\" class=\"data row6 col0\" >20.33</td>\n",
              "      <td id=\"T_b5111_row6_col1\" class=\"data row6 col1\" >20.08</td>\n",
              "      <td id=\"T_b5111_row6_col2\" class=\"data row6 col2\" >20.66</td>\n",
              "      <td id=\"T_b5111_row6_col3\" class=\"data row6 col3\" >20.29</td>\n",
              "      <td id=\"T_b5111_row6_col4\" class=\"data row6 col4\" >19.89</td>\n",
              "      <td id=\"T_b5111_row6_col5\" class=\"data row6 col5\" >20.17</td>\n",
              "    </tr>\n",
              "  </tbody>\n",
              "</table>\n"
            ],
            "text/plain": [
              "<pandas.io.formats.style.Styler at 0x1e0c08b3f10>"
            ]
          },
          "execution_count": 14,
          "metadata": {},
          "output_type": "execute_result"
        }
      ],
      "source": [
        "# Os nulos da taxa_juros representam mais de 10% do dataset, vamos realizar algumas operações para \"salvar\" linhas\n",
        "# A nota de um empréstimo está atrelada ao risco que é proporcionalmente a sua taxa de juros\n",
        "# Com base nisso vamos estudar os juros baseado nas notas\n",
        "taxa_juros_por_nota_mean = pd.crosstab(dados.nota_emprestimo,\n",
        "                         dados.motivo_emprestimo,\n",
        "                         aggfunc = ['mean'],\n",
        "                         values = dados.taxa_juros)\n",
        "\n",
        "taxa_juros_por_nota_mean.style.format('{:.2f}')\n",
        "\n"
      ]
    },
    {
      "cell_type": "code",
      "execution_count": 15,
      "metadata": {
        "colab": {
          "base_uri": "https://localhost:8080/",
          "height": 332
        },
        "id": "JMP6aM9dsHbO",
        "outputId": "152d0a1b-7939-44a1-d462-980f7173ad9d"
      },
      "outputs": [
        {
          "data": {
            "text/html": [
              "<style type=\"text/css\">\n",
              "</style>\n",
              "<table id=\"T_7e11d\">\n",
              "  <thead>\n",
              "    <tr>\n",
              "      <th class=\"blank level0\" >&nbsp;</th>\n",
              "      <th id=\"T_7e11d_level0_col0\" class=\"col_heading level0 col0\" colspan=\"6\">std</th>\n",
              "    </tr>\n",
              "    <tr>\n",
              "      <th class=\"index_name level1\" >motivo_emprestimo</th>\n",
              "      <th id=\"T_7e11d_level1_col0\" class=\"col_heading level1 col0\" >Dividas</th>\n",
              "      <th id=\"T_7e11d_level1_col1\" class=\"col_heading level1 col1\" >Educacao</th>\n",
              "      <th id=\"T_7e11d_level1_col2\" class=\"col_heading level1 col2\" >Empreendimento</th>\n",
              "      <th id=\"T_7e11d_level1_col3\" class=\"col_heading level1 col3\" >Medico</th>\n",
              "      <th id=\"T_7e11d_level1_col4\" class=\"col_heading level1 col4\" >Pessoal</th>\n",
              "      <th id=\"T_7e11d_level1_col5\" class=\"col_heading level1 col5\" >Reforma</th>\n",
              "    </tr>\n",
              "    <tr>\n",
              "      <th class=\"index_name level0\" >nota_emprestimo</th>\n",
              "      <th class=\"blank col0\" >&nbsp;</th>\n",
              "      <th class=\"blank col1\" >&nbsp;</th>\n",
              "      <th class=\"blank col2\" >&nbsp;</th>\n",
              "      <th class=\"blank col3\" >&nbsp;</th>\n",
              "      <th class=\"blank col4\" >&nbsp;</th>\n",
              "      <th class=\"blank col5\" >&nbsp;</th>\n",
              "    </tr>\n",
              "  </thead>\n",
              "  <tbody>\n",
              "    <tr>\n",
              "      <th id=\"T_7e11d_level0_row0\" class=\"row_heading level0 row0\" >A</th>\n",
              "      <td id=\"T_7e11d_row0_col0\" class=\"data row0 col0\" >1.32</td>\n",
              "      <td id=\"T_7e11d_row0_col1\" class=\"data row0 col1\" >1.25</td>\n",
              "      <td id=\"T_7e11d_row0_col2\" class=\"data row0 col2\" >1.29</td>\n",
              "      <td id=\"T_7e11d_row0_col3\" class=\"data row0 col3\" >1.36</td>\n",
              "      <td id=\"T_7e11d_row0_col4\" class=\"data row0 col4\" >1.23</td>\n",
              "      <td id=\"T_7e11d_row0_col5\" class=\"data row0 col5\" >1.30</td>\n",
              "    </tr>\n",
              "    <tr>\n",
              "      <th id=\"T_7e11d_level0_row1\" class=\"row_heading level0 row1\" >B</th>\n",
              "      <td id=\"T_7e11d_row1_col0\" class=\"data row1 col0\" >1.08</td>\n",
              "      <td id=\"T_7e11d_row1_col1\" class=\"data row1 col1\" >1.07</td>\n",
              "      <td id=\"T_7e11d_row1_col2\" class=\"data row1 col2\" >1.01</td>\n",
              "      <td id=\"T_7e11d_row1_col3\" class=\"data row1 col3\" >1.08</td>\n",
              "      <td id=\"T_7e11d_row1_col4\" class=\"data row1 col4\" >1.04</td>\n",
              "      <td id=\"T_7e11d_row1_col5\" class=\"data row1 col5\" >1.01</td>\n",
              "    </tr>\n",
              "    <tr>\n",
              "      <th id=\"T_7e11d_level0_row2\" class=\"row_heading level0 row2\" >C</th>\n",
              "      <td id=\"T_7e11d_row2_col0\" class=\"data row2 col0\" >1.22</td>\n",
              "      <td id=\"T_7e11d_row2_col1\" class=\"data row2 col1\" >1.22</td>\n",
              "      <td id=\"T_7e11d_row2_col2\" class=\"data row2 col2\" >1.13</td>\n",
              "      <td id=\"T_7e11d_row2_col3\" class=\"data row2 col3\" >1.22</td>\n",
              "      <td id=\"T_7e11d_row2_col4\" class=\"data row2 col4\" >1.19</td>\n",
              "      <td id=\"T_7e11d_row2_col5\" class=\"data row2 col5\" >1.21</td>\n",
              "    </tr>\n",
              "    <tr>\n",
              "      <th id=\"T_7e11d_level0_row3\" class=\"row_heading level0 row3\" >D</th>\n",
              "      <td id=\"T_7e11d_row3_col0\" class=\"data row3 col0\" >1.48</td>\n",
              "      <td id=\"T_7e11d_row3_col1\" class=\"data row3 col1\" >1.38</td>\n",
              "      <td id=\"T_7e11d_row3_col2\" class=\"data row3 col2\" >1.45</td>\n",
              "      <td id=\"T_7e11d_row3_col3\" class=\"data row3 col3\" >1.26</td>\n",
              "      <td id=\"T_7e11d_row3_col4\" class=\"data row3 col4\" >1.46</td>\n",
              "      <td id=\"T_7e11d_row3_col5\" class=\"data row3 col5\" >1.41</td>\n",
              "    </tr>\n",
              "    <tr>\n",
              "      <th id=\"T_7e11d_level0_row4\" class=\"row_heading level0 row4\" >E</th>\n",
              "      <td id=\"T_7e11d_row4_col0\" class=\"data row4 col0\" >1.42</td>\n",
              "      <td id=\"T_7e11d_row4_col1\" class=\"data row4 col1\" >1.91</td>\n",
              "      <td id=\"T_7e11d_row4_col2\" class=\"data row4 col2\" >1.83</td>\n",
              "      <td id=\"T_7e11d_row4_col3\" class=\"data row4 col3\" >2.07</td>\n",
              "      <td id=\"T_7e11d_row4_col4\" class=\"data row4 col4\" >1.48</td>\n",
              "      <td id=\"T_7e11d_row4_col5\" class=\"data row4 col5\" >1.85</td>\n",
              "    </tr>\n",
              "    <tr>\n",
              "      <th id=\"T_7e11d_level0_row5\" class=\"row_heading level0 row5\" >F</th>\n",
              "      <td id=\"T_7e11d_row5_col0\" class=\"data row5 col0\" >1.35</td>\n",
              "      <td id=\"T_7e11d_row5_col1\" class=\"data row5 col1\" >1.86</td>\n",
              "      <td id=\"T_7e11d_row5_col2\" class=\"data row5 col2\" >2.18</td>\n",
              "      <td id=\"T_7e11d_row5_col3\" class=\"data row5 col3\" >1.50</td>\n",
              "      <td id=\"T_7e11d_row5_col4\" class=\"data row5 col4\" >1.20</td>\n",
              "      <td id=\"T_7e11d_row5_col5\" class=\"data row5 col5\" >1.42</td>\n",
              "    </tr>\n",
              "    <tr>\n",
              "      <th id=\"T_7e11d_level0_row6\" class=\"row_heading level0 row6\" >G</th>\n",
              "      <td id=\"T_7e11d_row6_col0\" class=\"data row6 col0\" >0.92</td>\n",
              "      <td id=\"T_7e11d_row6_col1\" class=\"data row6 col1\" >0.82</td>\n",
              "      <td id=\"T_7e11d_row6_col2\" class=\"data row6 col2\" >1.02</td>\n",
              "      <td id=\"T_7e11d_row6_col3\" class=\"data row6 col3\" >0.81</td>\n",
              "      <td id=\"T_7e11d_row6_col4\" class=\"data row6 col4\" >0.57</td>\n",
              "      <td id=\"T_7e11d_row6_col5\" class=\"data row6 col5\" >1.94</td>\n",
              "    </tr>\n",
              "  </tbody>\n",
              "</table>\n"
            ],
            "text/plain": [
              "<pandas.io.formats.style.Styler at 0x1e0bbfa6130>"
            ]
          },
          "execution_count": 15,
          "metadata": {},
          "output_type": "execute_result"
        }
      ],
      "source": [
        "taxa_juros_por_nota_std = pd.crosstab(dados.nota_emprestimo,\n",
        "                         dados.motivo_emprestimo,\n",
        "                         aggfunc = ['std'],\n",
        "                         values = dados.taxa_juros)\n",
        "\n",
        "taxa_juros_por_nota_std.style.format('{:.2f}')\n",
        "\n"
      ]
    },
    {
      "cell_type": "code",
      "execution_count": 16,
      "metadata": {
        "colab": {
          "base_uri": "https://localhost:8080/",
          "height": 301
        },
        "id": "UJY_bRVErxzd",
        "outputId": "c1f7aa8f-1989-484c-98a6-f713daaf2a65"
      },
      "outputs": [
        {
          "data": {
            "text/html": [
              "<div>\n",
              "<style scoped>\n",
              "    .dataframe tbody tr th:only-of-type {\n",
              "        vertical-align: middle;\n",
              "    }\n",
              "\n",
              "    .dataframe tbody tr th {\n",
              "        vertical-align: top;\n",
              "    }\n",
              "\n",
              "    .dataframe thead tr th {\n",
              "        text-align: left;\n",
              "    }\n",
              "\n",
              "    .dataframe thead tr:last-of-type th {\n",
              "        text-align: right;\n",
              "    }\n",
              "</style>\n",
              "<table border=\"1\" class=\"dataframe\">\n",
              "  <thead>\n",
              "    <tr>\n",
              "      <th></th>\n",
              "      <th colspan=\"4\" halign=\"left\">taxa_juros</th>\n",
              "    </tr>\n",
              "    <tr>\n",
              "      <th></th>\n",
              "      <th>mean</th>\n",
              "      <th>median</th>\n",
              "      <th>max</th>\n",
              "      <th>std</th>\n",
              "    </tr>\n",
              "    <tr>\n",
              "      <th>motivo_emprestimo</th>\n",
              "      <th></th>\n",
              "      <th></th>\n",
              "      <th></th>\n",
              "      <th></th>\n",
              "    </tr>\n",
              "  </thead>\n",
              "  <tbody>\n",
              "    <tr>\n",
              "      <th>Dividas</th>\n",
              "      <td>10.984931</td>\n",
              "      <td>10.99</td>\n",
              "      <td>22.11</td>\n",
              "      <td>3.262148</td>\n",
              "    </tr>\n",
              "    <tr>\n",
              "      <th>Educacao</th>\n",
              "      <td>10.959092</td>\n",
              "      <td>10.99</td>\n",
              "      <td>21.74</td>\n",
              "      <td>3.190000</td>\n",
              "    </tr>\n",
              "    <tr>\n",
              "      <th>Empreendimento</th>\n",
              "      <td>10.954141</td>\n",
              "      <td>10.99</td>\n",
              "      <td>22.48</td>\n",
              "      <td>3.222571</td>\n",
              "    </tr>\n",
              "    <tr>\n",
              "      <th>Medico</th>\n",
              "      <td>11.053941</td>\n",
              "      <td>10.99</td>\n",
              "      <td>21.74</td>\n",
              "      <td>3.231814</td>\n",
              "    </tr>\n",
              "    <tr>\n",
              "      <th>Pessoal</th>\n",
              "      <td>10.986074</td>\n",
              "      <td>10.99</td>\n",
              "      <td>21.74</td>\n",
              "      <td>3.223122</td>\n",
              "    </tr>\n",
              "    <tr>\n",
              "      <th>Reforma</th>\n",
              "      <td>11.194842</td>\n",
              "      <td>11.14</td>\n",
              "      <td>23.22</td>\n",
              "      <td>3.352346</td>\n",
              "    </tr>\n",
              "  </tbody>\n",
              "</table>\n",
              "</div>"
            ],
            "text/plain": [
              "                  taxa_juros                        \n",
              "                        mean median    max       std\n",
              "motivo_emprestimo                                   \n",
              "Dividas            10.984931  10.99  22.11  3.262148\n",
              "Educacao           10.959092  10.99  21.74  3.190000\n",
              "Empreendimento     10.954141  10.99  22.48  3.222571\n",
              "Medico             11.053941  10.99  21.74  3.231814\n",
              "Pessoal            10.986074  10.99  21.74  3.223122\n",
              "Reforma            11.194842  11.14  23.22  3.352346"
            ]
          },
          "execution_count": 16,
          "metadata": {},
          "output_type": "execute_result"
        }
      ],
      "source": [
        "# os resultados nos mostram que há certo padrão de juros por nota e o desvio é pequeno.\n",
        "# vamos verificar se a justificativa implica em mudança nos valores\n",
        "\n",
        "dados.groupby(['motivo_emprestimo']).agg({'taxa_juros': ['mean', 'median', 'max', 'std']})\n"
      ]
    },
    {
      "cell_type": "code",
      "execution_count": 17,
      "metadata": {
        "id": "d24UOOFzstt_"
      },
      "outputs": [],
      "source": [
        "# Sendo as médias das justificativas muito próximas, vamos apenas substituir as taxa de Juros NaN com as notas dadas (caso possua)\n",
        "\n",
        "dados.loc[(dados.nota_emprestimo == 'A') & (dados.taxa_juros.isna()), 'taxa_juros'] = taxa_juros_por_nota_mean.T.mean()[0]\n",
        "dados.loc[(dados.nota_emprestimo == 'B') & (dados.taxa_juros.isna()), 'taxa_juros'] = taxa_juros_por_nota_mean.T.mean()[1]\n",
        "dados.loc[(dados.nota_emprestimo == 'C') & (dados.taxa_juros.isna()), 'taxa_juros'] = taxa_juros_por_nota_mean.T.mean()[2]\n",
        "dados.loc[(dados.nota_emprestimo == 'D') & (dados.taxa_juros.isna()), 'taxa_juros'] = taxa_juros_por_nota_mean.T.mean()[3]\n",
        "dados.loc[(dados.nota_emprestimo == 'E') & (dados.taxa_juros.isna()), 'taxa_juros'] = taxa_juros_por_nota_mean.T.mean()[4]\n",
        "dados.loc[(dados.nota_emprestimo == 'F') & (dados.taxa_juros.isna()), 'taxa_juros'] = taxa_juros_por_nota_mean.T.mean()[5]\n",
        "dados.loc[(dados.nota_emprestimo == 'G') & (dados.taxa_juros.isna()), 'taxa_juros'] = taxa_juros_por_nota_mean.T.mean()[6]"
      ]
    },
    {
      "cell_type": "code",
      "execution_count": 18,
      "metadata": {
        "colab": {
          "base_uri": "https://localhost:8080/"
        },
        "id": "EQTi5HUntBbZ",
        "outputId": "bdf70b52-bb4b-43d0-907e-d6ccda5d0983"
      },
      "outputs": [
        {
          "data": {
            "text/plain": [
              "idade                       320\n",
              "renda                       335\n",
              "imovel                        0\n",
              "tempo_trabalhado           1254\n",
              "motivo_emprestimo           311\n",
              "nota_emprestimo             309\n",
              "total_emprestado            331\n",
              "taxa_juros                   61\n",
              "inadimplencia               343\n",
              "renda_alocada               315\n",
              "devedora                    366\n",
              "relacionamento_bancario       0\n",
              "dtype: int64"
            ]
          },
          "execution_count": 18,
          "metadata": {},
          "output_type": "execute_result"
        }
      ],
      "source": [
        "dados.isna().sum()"
      ]
    },
    {
      "cell_type": "code",
      "execution_count": 19,
      "metadata": {
        "id": "YjxEPGzItPHq"
      },
      "outputs": [],
      "source": [
        "# O percentual de renda alocada (renda_alocada) = renda / total_emprestado\n",
        "# Com isso podemos reverter algumas linhas nulas\n",
        "dados.loc[dados.renda_alocada.isna(), 'renda_alocada'] = (dados.total_emprestado / dados.renda).round(2) #corrigindo o renda alocada\n"
      ]
    },
    {
      "cell_type": "code",
      "execution_count": 20,
      "metadata": {
        "colab": {
          "base_uri": "https://localhost:8080/"
        },
        "id": "fHxggzSer3_o",
        "outputId": "88a9609e-26f2-407e-8d17-c8d825f71956"
      },
      "outputs": [
        {
          "data": {
            "text/plain": [
              "idade                      320\n",
              "renda                      335\n",
              "imovel                       0\n",
              "tempo_trabalhado            73\n",
              "motivo_emprestimo          311\n",
              "nota_emprestimo            309\n",
              "total_emprestado           331\n",
              "taxa_juros                  61\n",
              "inadimplencia              343\n",
              "renda_alocada               56\n",
              "devedora                   366\n",
              "relacionamento_bancario      0\n",
              "dtype: int64"
            ]
          },
          "execution_count": 20,
          "metadata": {},
          "output_type": "execute_result"
        }
      ],
      "source": [
        "# Para tratar o último caso de Nan com grande quantidade, vamos estimar o dado utilizando a média dos dados agrupados das outras idade\n",
        "\n",
        "dados.tempo_trabalhado.fillna(dados.groupby(['idade', 'relacionamento_bancario'])['tempo_trabalhado'].transform('median'), inplace=True)\n",
        "\n",
        "dados.isna().sum()\n"
      ]
    },
    {
      "cell_type": "code",
      "execution_count": 21,
      "metadata": {
        "id": "JDXjKdFVtI-S"
      },
      "outputs": [],
      "source": [
        "# Por fim, vamos elimitar todos os NaN restantes\n",
        "\n",
        "dados.dropna(inplace = True)\n"
      ]
    },
    {
      "cell_type": "code",
      "execution_count": 22,
      "metadata": {
        "colab": {
          "base_uri": "https://localhost:8080/"
        },
        "id": "i8QWgjyWtuus",
        "outputId": "98cd7aaa-adc8-4d79-92d6-b6376cfec412"
      },
      "outputs": [
        {
          "name": "stdout",
          "output_type": "stream",
          "text": [
            "<class 'pandas.core.frame.DataFrame'>\n",
            "Int64Index: 32833 entries, 0 to 34500\n",
            "Data columns (total 12 columns):\n",
            " #   Column                   Non-Null Count  Dtype  \n",
            "---  ------                   --------------  -----  \n",
            " 0   idade                    32833 non-null  float64\n",
            " 1   renda                    32833 non-null  float64\n",
            " 2   imovel                   32833 non-null  object \n",
            " 3   tempo_trabalhado         32833 non-null  float64\n",
            " 4   motivo_emprestimo        32833 non-null  object \n",
            " 5   nota_emprestimo          32833 non-null  object \n",
            " 6   total_emprestado         32833 non-null  float64\n",
            " 7   taxa_juros               32833 non-null  float64\n",
            " 8   inadimplencia            32833 non-null  float64\n",
            " 9   renda_alocada            32833 non-null  float64\n",
            " 10  devedora                 32833 non-null  object \n",
            " 11  relacionamento_bancario  32833 non-null  float64\n",
            "dtypes: float64(8), object(4)\n",
            "memory usage: 3.3+ MB\n"
          ]
        }
      ],
      "source": [
        "dados.info()"
      ]
    },
    {
      "cell_type": "markdown",
      "metadata": {
        "id": "e88jS8K9t7X3"
      },
      "source": [
        "\n",
        "*   Remoção de outliers\n",
        "\n",
        "\n"
      ]
    },
    {
      "cell_type": "code",
      "execution_count": 23,
      "metadata": {
        "colab": {
          "base_uri": "https://localhost:8080/",
          "height": 301
        },
        "id": "2FlfLhDXuEBS",
        "outputId": "7acea86b-c81b-4a52-f6a2-8297c812c75d"
      },
      "outputs": [
        {
          "data": {
            "text/html": [
              "<div>\n",
              "<style scoped>\n",
              "    .dataframe tbody tr th:only-of-type {\n",
              "        vertical-align: middle;\n",
              "    }\n",
              "\n",
              "    .dataframe tbody tr th {\n",
              "        vertical-align: top;\n",
              "    }\n",
              "\n",
              "    .dataframe thead th {\n",
              "        text-align: right;\n",
              "    }\n",
              "</style>\n",
              "<table border=\"1\" class=\"dataframe\">\n",
              "  <thead>\n",
              "    <tr style=\"text-align: right;\">\n",
              "      <th></th>\n",
              "      <th>idade</th>\n",
              "      <th>renda</th>\n",
              "      <th>tempo_trabalhado</th>\n",
              "      <th>total_emprestado</th>\n",
              "      <th>taxa_juros</th>\n",
              "      <th>inadimplencia</th>\n",
              "      <th>renda_alocada</th>\n",
              "      <th>relacionamento_bancario</th>\n",
              "    </tr>\n",
              "  </thead>\n",
              "  <tbody>\n",
              "    <tr>\n",
              "      <th>count</th>\n",
              "      <td>32833.000000</td>\n",
              "      <td>3.283300e+04</td>\n",
              "      <td>32833.000000</td>\n",
              "      <td>32833.000000</td>\n",
              "      <td>32833.000000</td>\n",
              "      <td>32833.000000</td>\n",
              "      <td>32833.000000</td>\n",
              "      <td>32833.000000</td>\n",
              "    </tr>\n",
              "    <tr>\n",
              "      <th>mean</th>\n",
              "      <td>27.729084</td>\n",
              "      <td>6.608998e+04</td>\n",
              "      <td>4.768221</td>\n",
              "      <td>9590.750921</td>\n",
              "      <td>11.007128</td>\n",
              "      <td>0.217891</td>\n",
              "      <td>0.170377</td>\n",
              "      <td>5.802668</td>\n",
              "    </tr>\n",
              "    <tr>\n",
              "      <th>std</th>\n",
              "      <td>6.336082</td>\n",
              "      <td>6.194740e+04</td>\n",
              "      <td>4.084003</td>\n",
              "      <td>6321.679084</td>\n",
              "      <td>3.210405</td>\n",
              "      <td>0.412819</td>\n",
              "      <td>0.107263</td>\n",
              "      <td>4.052840</td>\n",
              "    </tr>\n",
              "    <tr>\n",
              "      <th>min</th>\n",
              "      <td>20.000000</td>\n",
              "      <td>4.000000e+03</td>\n",
              "      <td>0.000000</td>\n",
              "      <td>500.000000</td>\n",
              "      <td>5.420000</td>\n",
              "      <td>0.000000</td>\n",
              "      <td>0.000000</td>\n",
              "      <td>2.000000</td>\n",
              "    </tr>\n",
              "    <tr>\n",
              "      <th>25%</th>\n",
              "      <td>23.000000</td>\n",
              "      <td>3.850000e+04</td>\n",
              "      <td>2.000000</td>\n",
              "      <td>5000.000000</td>\n",
              "      <td>7.880000</td>\n",
              "      <td>0.000000</td>\n",
              "      <td>0.090000</td>\n",
              "      <td>3.000000</td>\n",
              "    </tr>\n",
              "    <tr>\n",
              "      <th>50%</th>\n",
              "      <td>26.000000</td>\n",
              "      <td>5.500000e+04</td>\n",
              "      <td>4.000000</td>\n",
              "      <td>8000.000000</td>\n",
              "      <td>10.990000</td>\n",
              "      <td>0.000000</td>\n",
              "      <td>0.150000</td>\n",
              "      <td>4.000000</td>\n",
              "    </tr>\n",
              "    <tr>\n",
              "      <th>75%</th>\n",
              "      <td>30.000000</td>\n",
              "      <td>7.920000e+04</td>\n",
              "      <td>7.000000</td>\n",
              "      <td>12200.000000</td>\n",
              "      <td>13.384884</td>\n",
              "      <td>0.000000</td>\n",
              "      <td>0.230000</td>\n",
              "      <td>8.000000</td>\n",
              "    </tr>\n",
              "    <tr>\n",
              "      <th>max</th>\n",
              "      <td>144.000000</td>\n",
              "      <td>6.000000e+06</td>\n",
              "      <td>123.000000</td>\n",
              "      <td>35000.000000</td>\n",
              "      <td>23.220000</td>\n",
              "      <td>1.000000</td>\n",
              "      <td>1.130000</td>\n",
              "      <td>30.000000</td>\n",
              "    </tr>\n",
              "  </tbody>\n",
              "</table>\n",
              "</div>"
            ],
            "text/plain": [
              "              idade         renda  tempo_trabalhado  total_emprestado  \\\n",
              "count  32833.000000  3.283300e+04      32833.000000      32833.000000   \n",
              "mean      27.729084  6.608998e+04          4.768221       9590.750921   \n",
              "std        6.336082  6.194740e+04          4.084003       6321.679084   \n",
              "min       20.000000  4.000000e+03          0.000000        500.000000   \n",
              "25%       23.000000  3.850000e+04          2.000000       5000.000000   \n",
              "50%       26.000000  5.500000e+04          4.000000       8000.000000   \n",
              "75%       30.000000  7.920000e+04          7.000000      12200.000000   \n",
              "max      144.000000  6.000000e+06        123.000000      35000.000000   \n",
              "\n",
              "         taxa_juros  inadimplencia  renda_alocada  relacionamento_bancario  \n",
              "count  32833.000000   32833.000000   32833.000000             32833.000000  \n",
              "mean      11.007128       0.217891       0.170377                 5.802668  \n",
              "std        3.210405       0.412819       0.107263                 4.052840  \n",
              "min        5.420000       0.000000       0.000000                 2.000000  \n",
              "25%        7.880000       0.000000       0.090000                 3.000000  \n",
              "50%       10.990000       0.000000       0.150000                 4.000000  \n",
              "75%       13.384884       0.000000       0.230000                 8.000000  \n",
              "max       23.220000       1.000000       1.130000                30.000000  "
            ]
          },
          "execution_count": 23,
          "metadata": {},
          "output_type": "execute_result"
        }
      ],
      "source": [
        "dados.describe()"
      ]
    },
    {
      "cell_type": "code",
      "execution_count": 24,
      "metadata": {
        "colab": {
          "base_uri": "https://localhost:8080/",
          "height": 358
        },
        "id": "07VR3VREuR2A",
        "outputId": "22d3ecd8-bfd0-42b9-ffda-1c430aeb1b7e"
      },
      "outputs": [
        {
          "data": {
            "text/plain": [
              "<AxesSubplot:title={'center':'Idades'}>"
            ]
          },
          "execution_count": 24,
          "metadata": {},
          "output_type": "execute_result"
        },
        {
          "data": {
            "image/png": "[encoded data removed]",
            "text/plain": [
              "<Figure size 1296x360 with 1 Axes>"
            ]
          },
          "metadata": {
            "needs_background": "light"
          },
          "output_type": "display_data"
        }
      ],
      "source": [
        "ax = sns.boxplot(data = dados.idade, orient = 'h', width = 0.3)\n",
        "ax.figure.set_size_inches(18, 5)\n",
        "ax.set_title('Idades', fontsize=20)\n",
        "ax"
      ]
    },
    {
      "cell_type": "code",
      "execution_count": 25,
      "metadata": {
        "id": "1QxRZjCduUQQ"
      },
      "outputs": [],
      "source": [
        "#A busca nos mostrou idades ireais, podemos encarar como um erro de digitação e será deletado\n",
        "dados.drop(index = dados.query('idade > 100').index, inplace = True)"
      ]
    },
    {
      "cell_type": "code",
      "execution_count": 26,
      "metadata": {
        "colab": {
          "base_uri": "https://localhost:8080/",
          "height": 358
        },
        "id": "nZDqTmbzuUzt",
        "outputId": "7ce05736-bb9d-421c-df3d-b318a71d0aa4"
      },
      "outputs": [
        {
          "data": {
            "text/plain": [
              "<AxesSubplot:title={'center':'Tempo de trabalho'}>"
            ]
          },
          "execution_count": 26,
          "metadata": {},
          "output_type": "execute_result"
        },
        {
          "data": {
            "image/png": "[encoded data removed]",
            "text/plain": [
              "<Figure size 1296x360 with 1 Axes>"
            ]
          },
          "metadata": {
            "needs_background": "light"
          },
          "output_type": "display_data"
        }
      ],
      "source": [
        "ax = sns.boxplot(data = dados.tempo_trabalhado, orient = 'h', width = 0.3)\n",
        "ax.figure.set_size_inches(18, 5)\n",
        "ax.set_title('Tempo de trabalho', fontsize=20)\n",
        "ax"
      ]
    },
    {
      "cell_type": "code",
      "execution_count": 27,
      "metadata": {
        "id": "oZtAnlTUubuM"
      },
      "outputs": [],
      "source": [
        "#A busca nos mostrou tempos de trabalho ireais, podemos encarar como um erro de digitação e será deletado\n",
        "dados.drop(index = dados.query('tempo_trabalhado > 100').index, inplace = True)"
      ]
    },
    {
      "cell_type": "code",
      "execution_count": 28,
      "metadata": {
        "colab": {
          "base_uri": "https://localhost:8080/",
          "height": 301
        },
        "id": "Hqr1Y6EdufBg",
        "outputId": "ac5360e1-5ae1-4204-ccf5-ea717796677b"
      },
      "outputs": [
        {
          "data": {
            "text/html": [
              "<div>\n",
              "<style scoped>\n",
              "    .dataframe tbody tr th:only-of-type {\n",
              "        vertical-align: middle;\n",
              "    }\n",
              "\n",
              "    .dataframe tbody tr th {\n",
              "        vertical-align: top;\n",
              "    }\n",
              "\n",
              "    .dataframe thead th {\n",
              "        text-align: right;\n",
              "    }\n",
              "</style>\n",
              "<table border=\"1\" class=\"dataframe\">\n",
              "  <thead>\n",
              "    <tr style=\"text-align: right;\">\n",
              "      <th></th>\n",
              "      <th>count</th>\n",
              "      <th>mean</th>\n",
              "      <th>std</th>\n",
              "      <th>min</th>\n",
              "      <th>25%</th>\n",
              "      <th>50%</th>\n",
              "      <th>75%</th>\n",
              "      <th>max</th>\n",
              "    </tr>\n",
              "  </thead>\n",
              "  <tbody>\n",
              "    <tr>\n",
              "      <th>idade</th>\n",
              "      <td>32826.0</td>\n",
              "      <td>27.713032</td>\n",
              "      <td>6.193810</td>\n",
              "      <td>20.00</td>\n",
              "      <td>23.00</td>\n",
              "      <td>26.00</td>\n",
              "      <td>30.000000</td>\n",
              "      <td>94.00</td>\n",
              "    </tr>\n",
              "    <tr>\n",
              "      <th>renda</th>\n",
              "      <td>32826.0</td>\n",
              "      <td>65895.118290</td>\n",
              "      <td>52568.924131</td>\n",
              "      <td>4000.00</td>\n",
              "      <td>38500.00</td>\n",
              "      <td>55000.00</td>\n",
              "      <td>79200.000000</td>\n",
              "      <td>2039784.00</td>\n",
              "    </tr>\n",
              "    <tr>\n",
              "      <th>tempo_trabalhado</th>\n",
              "      <td>32826.0</td>\n",
              "      <td>4.760860</td>\n",
              "      <td>3.978550</td>\n",
              "      <td>0.00</td>\n",
              "      <td>2.00</td>\n",
              "      <td>4.00</td>\n",
              "      <td>7.000000</td>\n",
              "      <td>41.00</td>\n",
              "    </tr>\n",
              "    <tr>\n",
              "      <th>total_emprestado</th>\n",
              "      <td>32826.0</td>\n",
              "      <td>9589.408548</td>\n",
              "      <td>6319.856230</td>\n",
              "      <td>500.00</td>\n",
              "      <td>5000.00</td>\n",
              "      <td>8000.00</td>\n",
              "      <td>12200.000000</td>\n",
              "      <td>35000.00</td>\n",
              "    </tr>\n",
              "    <tr>\n",
              "      <th>taxa_juros</th>\n",
              "      <td>32826.0</td>\n",
              "      <td>11.006978</td>\n",
              "      <td>3.210482</td>\n",
              "      <td>5.42</td>\n",
              "      <td>7.88</td>\n",
              "      <td>10.99</td>\n",
              "      <td>13.384884</td>\n",
              "      <td>23.22</td>\n",
              "    </tr>\n",
              "    <tr>\n",
              "      <th>inadimplencia</th>\n",
              "      <td>32826.0</td>\n",
              "      <td>0.217907</td>\n",
              "      <td>0.412830</td>\n",
              "      <td>0.00</td>\n",
              "      <td>0.00</td>\n",
              "      <td>0.00</td>\n",
              "      <td>0.000000</td>\n",
              "      <td>1.00</td>\n",
              "    </tr>\n",
              "    <tr>\n",
              "      <th>renda_alocada</th>\n",
              "      <td>32826.0</td>\n",
              "      <td>0.170376</td>\n",
              "      <td>0.107236</td>\n",
              "      <td>0.00</td>\n",
              "      <td>0.09</td>\n",
              "      <td>0.15</td>\n",
              "      <td>0.230000</td>\n",
              "      <td>1.13</td>\n",
              "    </tr>\n",
              "    <tr>\n",
              "      <th>relacionamento_bancario</th>\n",
              "      <td>32826.0</td>\n",
              "      <td>5.802565</td>\n",
              "      <td>4.051720</td>\n",
              "      <td>2.00</td>\n",
              "      <td>3.00</td>\n",
              "      <td>4.00</td>\n",
              "      <td>8.000000</td>\n",
              "      <td>30.00</td>\n",
              "    </tr>\n",
              "  </tbody>\n",
              "</table>\n",
              "</div>"
            ],
            "text/plain": [
              "                           count          mean           std      min  \\\n",
              "idade                    32826.0     27.713032      6.193810    20.00   \n",
              "renda                    32826.0  65895.118290  52568.924131  4000.00   \n",
              "tempo_trabalhado         32826.0      4.760860      3.978550     0.00   \n",
              "total_emprestado         32826.0   9589.408548   6319.856230   500.00   \n",
              "taxa_juros               32826.0     11.006978      3.210482     5.42   \n",
              "inadimplencia            32826.0      0.217907      0.412830     0.00   \n",
              "renda_alocada            32826.0      0.170376      0.107236     0.00   \n",
              "relacionamento_bancario  32826.0      5.802565      4.051720     2.00   \n",
              "\n",
              "                              25%       50%           75%         max  \n",
              "idade                       23.00     26.00     30.000000       94.00  \n",
              "renda                    38500.00  55000.00  79200.000000  2039784.00  \n",
              "tempo_trabalhado             2.00      4.00      7.000000       41.00  \n",
              "total_emprestado          5000.00   8000.00  12200.000000    35000.00  \n",
              "taxa_juros                   7.88     10.99     13.384884       23.22  \n",
              "inadimplencia                0.00      0.00      0.000000        1.00  \n",
              "renda_alocada                0.09      0.15      0.230000        1.13  \n",
              "relacionamento_bancario      3.00      4.00      8.000000       30.00  "
            ]
          },
          "execution_count": 28,
          "metadata": {},
          "output_type": "execute_result"
        }
      ],
      "source": [
        "dados.describe().T"
      ]
    },
    {
      "cell_type": "markdown",
      "metadata": {
        "id": "CESuEzM-yYnD"
      },
      "source": [
        "* Correlação"
      ]
    },
    {
      "cell_type": "code",
      "execution_count": 29,
      "metadata": {
        "colab": {
          "base_uri": "https://localhost:8080/",
          "height": 928
        },
        "id": "_wztrQdSybi3",
        "outputId": "f5d98471-90b7-4d98-9e37-0a50fb751df4"
      },
      "outputs": [
        {
          "data": {
            "text/plain": [
              "<AxesSubplot:>"
            ]
          },
          "execution_count": 29,
          "metadata": {},
          "output_type": "execute_result"
        },
        {
          "data": {
            "image/png": "[encoded data removed]",
            "text/plain": [
              "<Figure size 1080x1080 with 2 Axes>"
            ]
          },
          "metadata": {
            "needs_background": "light"
          },
          "output_type": "display_data"
        }
      ],
      "source": [
        "corr = dados.corr()\n",
        "plt.subplots(figsize=(15, 15))\n",
        "sns.heatmap(corr, square = True, annot = True, cmap = 'Blues', linewidths = 0.25)"
      ]
    },
    {
      "cell_type": "markdown",
      "metadata": {
        "id": "jVnVZzx0wAT5"
      },
      "source": [
        "\n",
        "\n",
        "### Encoding das variáveis categóricas\n"
      ]
    },
    {
      "cell_type": "code",
      "execution_count": 30,
      "metadata": {
        "colab": {
          "base_uri": "https://localhost:8080/"
        },
        "id": "hb5bZb-QuzOk",
        "outputId": "f7b465ac-baf0-43f3-8a0a-e0175d6829f3"
      },
      "outputs": [
        {
          "data": {
            "text/plain": [
              "Index(['idade', 'renda', 'imovel', 'tempo_trabalhado', 'motivo_emprestimo',\n",
              "       'nota_emprestimo', 'total_emprestado', 'taxa_juros', 'inadimplencia',\n",
              "       'renda_alocada', 'devedora', 'relacionamento_bancario'],\n",
              "      dtype='object')"
            ]
          },
          "execution_count": 30,
          "metadata": {},
          "output_type": "execute_result"
        }
      ],
      "source": [
        "dados.columns"
      ]
    },
    {
      "cell_type": "code",
      "execution_count": 31,
      "metadata": {
        "colab": {
          "base_uri": "https://localhost:8080/",
          "height": 424
        },
        "id": "A4VAj-Q8wV9y",
        "outputId": "552a6516-b12c-4d46-d1c0-1a1273a8293b"
      },
      "outputs": [
        {
          "data": {
            "text/html": [
              "<div>\n",
              "<style scoped>\n",
              "    .dataframe tbody tr th:only-of-type {\n",
              "        vertical-align: middle;\n",
              "    }\n",
              "\n",
              "    .dataframe tbody tr th {\n",
              "        vertical-align: top;\n",
              "    }\n",
              "\n",
              "    .dataframe thead th {\n",
              "        text-align: right;\n",
              "    }\n",
              "</style>\n",
              "<table border=\"1\" class=\"dataframe\">\n",
              "  <thead>\n",
              "    <tr style=\"text-align: right;\">\n",
              "      <th></th>\n",
              "      <th>imovel</th>\n",
              "      <th>motivo_emprestimo</th>\n",
              "      <th>nota_emprestimo</th>\n",
              "      <th>devedora</th>\n",
              "    </tr>\n",
              "  </thead>\n",
              "  <tbody>\n",
              "    <tr>\n",
              "      <th>0</th>\n",
              "      <td>Financiado</td>\n",
              "      <td>Reforma</td>\n",
              "      <td>A</td>\n",
              "      <td>N</td>\n",
              "    </tr>\n",
              "    <tr>\n",
              "      <th>1</th>\n",
              "      <td>Alugado</td>\n",
              "      <td>Empreendimento</td>\n",
              "      <td>C</td>\n",
              "      <td>Y</td>\n",
              "    </tr>\n",
              "    <tr>\n",
              "      <th>2</th>\n",
              "      <td>Alugado</td>\n",
              "      <td>Dividas</td>\n",
              "      <td>A</td>\n",
              "      <td>N</td>\n",
              "    </tr>\n",
              "    <tr>\n",
              "      <th>3</th>\n",
              "      <td>Alugado</td>\n",
              "      <td>Reforma</td>\n",
              "      <td>A</td>\n",
              "      <td>N</td>\n",
              "    </tr>\n",
              "    <tr>\n",
              "      <th>4</th>\n",
              "      <td>Alugado</td>\n",
              "      <td>Pessoal</td>\n",
              "      <td>A</td>\n",
              "      <td>N</td>\n",
              "    </tr>\n",
              "    <tr>\n",
              "      <th>...</th>\n",
              "      <td>...</td>\n",
              "      <td>...</td>\n",
              "      <td>...</td>\n",
              "      <td>...</td>\n",
              "    </tr>\n",
              "    <tr>\n",
              "      <th>34496</th>\n",
              "      <td>Alugado</td>\n",
              "      <td>Medico</td>\n",
              "      <td>B</td>\n",
              "      <td>N</td>\n",
              "    </tr>\n",
              "    <tr>\n",
              "      <th>34497</th>\n",
              "      <td>Alugado</td>\n",
              "      <td>Dividas</td>\n",
              "      <td>D</td>\n",
              "      <td>Y</td>\n",
              "    </tr>\n",
              "    <tr>\n",
              "      <th>34498</th>\n",
              "      <td>Propria</td>\n",
              "      <td>Empreendimento</td>\n",
              "      <td>C</td>\n",
              "      <td>Y</td>\n",
              "    </tr>\n",
              "    <tr>\n",
              "      <th>34499</th>\n",
              "      <td>Alugado</td>\n",
              "      <td>Medico</td>\n",
              "      <td>B</td>\n",
              "      <td>N</td>\n",
              "    </tr>\n",
              "    <tr>\n",
              "      <th>34500</th>\n",
              "      <td>Financiado</td>\n",
              "      <td>Educacao</td>\n",
              "      <td>C</td>\n",
              "      <td>Y</td>\n",
              "    </tr>\n",
              "  </tbody>\n",
              "</table>\n",
              "<p>32826 rows × 4 columns</p>\n",
              "</div>"
            ],
            "text/plain": [
              "           imovel motivo_emprestimo nota_emprestimo devedora\n",
              "0      Financiado           Reforma               A        N\n",
              "1         Alugado    Empreendimento               C        Y\n",
              "2         Alugado           Dividas               A        N\n",
              "3         Alugado           Reforma               A        N\n",
              "4         Alugado           Pessoal               A        N\n",
              "...           ...               ...             ...      ...\n",
              "34496     Alugado            Medico               B        N\n",
              "34497     Alugado           Dividas               D        Y\n",
              "34498     Propria    Empreendimento               C        Y\n",
              "34499     Alugado            Medico               B        N\n",
              "34500  Financiado          Educacao               C        Y\n",
              "\n",
              "[32826 rows x 4 columns]"
            ]
          },
          "execution_count": 31,
          "metadata": {},
          "output_type": "execute_result"
        }
      ],
      "source": [
        "dados[['imovel', 'motivo_emprestimo', 'nota_emprestimo', 'devedora']]"
      ]
    },
    {
      "cell_type": "code",
      "execution_count": 32,
      "metadata": {
        "colab": {
          "base_uri": "https://localhost:8080/",
          "height": 270
        },
        "id": "qDp43pqHwxcj",
        "outputId": "0376a1bd-e980-47b3-98e8-e54a3e4ff201"
      },
      "outputs": [
        {
          "data": {
            "text/html": [
              "<div>\n",
              "<style scoped>\n",
              "    .dataframe tbody tr th:only-of-type {\n",
              "        vertical-align: middle;\n",
              "    }\n",
              "\n",
              "    .dataframe tbody tr th {\n",
              "        vertical-align: top;\n",
              "    }\n",
              "\n",
              "    .dataframe thead th {\n",
              "        text-align: right;\n",
              "    }\n",
              "</style>\n",
              "<table border=\"1\" class=\"dataframe\">\n",
              "  <thead>\n",
              "    <tr style=\"text-align: right;\">\n",
              "      <th></th>\n",
              "      <th>idade</th>\n",
              "      <th>renda</th>\n",
              "      <th>imovel</th>\n",
              "      <th>tempo_trabalhado</th>\n",
              "      <th>motivo_emprestimo</th>\n",
              "      <th>nota_emprestimo</th>\n",
              "      <th>total_emprestado</th>\n",
              "      <th>taxa_juros</th>\n",
              "      <th>inadimplencia</th>\n",
              "      <th>renda_alocada</th>\n",
              "      <th>devedora</th>\n",
              "      <th>relacionamento_bancario</th>\n",
              "    </tr>\n",
              "  </thead>\n",
              "  <tbody>\n",
              "    <tr>\n",
              "      <th>0</th>\n",
              "      <td>29.0</td>\n",
              "      <td>175000.0</td>\n",
              "      <td>Financiado</td>\n",
              "      <td>2.0</td>\n",
              "      <td>Reforma</td>\n",
              "      <td>0</td>\n",
              "      <td>10000.0</td>\n",
              "      <td>7.422942</td>\n",
              "      <td>0.0</td>\n",
              "      <td>0.06</td>\n",
              "      <td>0</td>\n",
              "      <td>9.0</td>\n",
              "    </tr>\n",
              "    <tr>\n",
              "      <th>1</th>\n",
              "      <td>21.0</td>\n",
              "      <td>41900.0</td>\n",
              "      <td>Alugado</td>\n",
              "      <td>2.0</td>\n",
              "      <td>Empreendimento</td>\n",
              "      <td>2</td>\n",
              "      <td>16000.0</td>\n",
              "      <td>12.840000</td>\n",
              "      <td>1.0</td>\n",
              "      <td>0.38</td>\n",
              "      <td>1</td>\n",
              "      <td>2.0</td>\n",
              "    </tr>\n",
              "    <tr>\n",
              "      <th>2</th>\n",
              "      <td>30.0</td>\n",
              "      <td>100000.0</td>\n",
              "      <td>Alugado</td>\n",
              "      <td>13.0</td>\n",
              "      <td>Dividas</td>\n",
              "      <td>0</td>\n",
              "      <td>12000.0</td>\n",
              "      <td>7.880000</td>\n",
              "      <td>0.0</td>\n",
              "      <td>0.12</td>\n",
              "      <td>0</td>\n",
              "      <td>9.0</td>\n",
              "    </tr>\n",
              "    <tr>\n",
              "      <th>3</th>\n",
              "      <td>27.0</td>\n",
              "      <td>68000.0</td>\n",
              "      <td>Alugado</td>\n",
              "      <td>4.0</td>\n",
              "      <td>Reforma</td>\n",
              "      <td>0</td>\n",
              "      <td>8700.0</td>\n",
              "      <td>7.880000</td>\n",
              "      <td>0.0</td>\n",
              "      <td>0.13</td>\n",
              "      <td>0</td>\n",
              "      <td>5.0</td>\n",
              "    </tr>\n",
              "    <tr>\n",
              "      <th>4</th>\n",
              "      <td>26.0</td>\n",
              "      <td>31200.0</td>\n",
              "      <td>Alugado</td>\n",
              "      <td>8.0</td>\n",
              "      <td>Pessoal</td>\n",
              "      <td>0</td>\n",
              "      <td>5000.0</td>\n",
              "      <td>8.630000</td>\n",
              "      <td>0.0</td>\n",
              "      <td>0.16</td>\n",
              "      <td>0</td>\n",
              "      <td>2.0</td>\n",
              "    </tr>\n",
              "  </tbody>\n",
              "</table>\n",
              "</div>"
            ],
            "text/plain": [
              "   idade     renda      imovel  tempo_trabalhado motivo_emprestimo  \\\n",
              "0   29.0  175000.0  Financiado               2.0           Reforma   \n",
              "1   21.0   41900.0     Alugado               2.0    Empreendimento   \n",
              "2   30.0  100000.0     Alugado              13.0           Dividas   \n",
              "3   27.0   68000.0     Alugado               4.0           Reforma   \n",
              "4   26.0   31200.0     Alugado               8.0           Pessoal   \n",
              "\n",
              "   nota_emprestimo  total_emprestado  taxa_juros  inadimplencia  \\\n",
              "0                0           10000.0    7.422942            0.0   \n",
              "1                2           16000.0   12.840000            1.0   \n",
              "2                0           12000.0    7.880000            0.0   \n",
              "3                0            8700.0    7.880000            0.0   \n",
              "4                0            5000.0    8.630000            0.0   \n",
              "\n",
              "   renda_alocada  devedora  relacionamento_bancario  \n",
              "0           0.06         0                      9.0  \n",
              "1           0.38         1                      2.0  \n",
              "2           0.12         0                      9.0  \n",
              "3           0.13         0                      5.0  \n",
              "4           0.16         0                      2.0  "
            ]
          },
          "execution_count": 32,
          "metadata": {},
          "output_type": "execute_result"
        }
      ],
      "source": [
        "dicionario = {\n",
        "    #substituindo os dados da devedora\n",
        "    'N': 0,\n",
        "    'Y': 1,\n",
        "\n",
        "    #substituindo as notas dos empréstimos\n",
        "    'A': 0,\n",
        "    'B': 1,\n",
        "    'C': 2,\n",
        "    'D': 3,\n",
        "    'E': 4,\n",
        "    'F': 5,\n",
        "    'G': 6\n",
        "}\n",
        "\n",
        "#optei por utilizar label encoding nas notas dos empréstimos pois possuem uma relação hierarquica.\n",
        "\n",
        "dados.replace(dicionario, inplace = True)\n",
        "dados.head()"
      ]
    },
    {
      "cell_type": "markdown",
      "metadata": {
        "id": "M2dupqUG16Ts"
      },
      "source": []
    },
    {
      "cell_type": "code",
      "execution_count": 33,
      "metadata": {},
      "outputs": [],
      "source": [
        "# Realizando a divisão dos dados\n",
        "x = dados.drop(columns = 'inadimplencia')\n",
        "y = dados['inadimplencia']"
      ]
    },
    {
      "cell_type": "code",
      "execution_count": 34,
      "metadata": {},
      "outputs": [
        {
          "data": {
            "text/plain": [
              "Index(['idade', 'renda', 'imovel', 'tempo_trabalhado', 'motivo_emprestimo',\n",
              "       'nota_emprestimo', 'total_emprestado', 'taxa_juros', 'renda_alocada',\n",
              "       'devedora', 'relacionamento_bancario'],\n",
              "      dtype='object')"
            ]
          },
          "execution_count": 34,
          "metadata": {},
          "output_type": "execute_result"
        }
      ],
      "source": [
        "x.columns"
      ]
    },
    {
      "cell_type": "code",
      "execution_count": 35,
      "metadata": {
        "colab": {
          "base_uri": "https://localhost:8080/",
          "height": 270
        },
        "id": "QgVw3rfQxyzR",
        "outputId": "04557cc2-4d36-4645-b5e9-3601e55a1092"
      },
      "outputs": [],
      "source": [
        "from sklearn.compose import make_column_transformer\n",
        "from sklearn.preprocessing import OneHotEncoder\n",
        "\n",
        "colunas = ['imovel', 'motivo_emprestimo']\n",
        "\n",
        "one_hot_enc = make_column_transformer(\n",
        "    (OneHotEncoder(), colunas),\n",
        "    remainder='passthrough')\n",
        "\n",
        "dados_final = one_hot_enc.fit_transform(x)\n",
        "dados_final = pd.DataFrame(dados_final, columns = one_hot_enc.get_feature_names_out())\n",
        "#dados_final.head()"
      ]
    },
    {
      "cell_type": "code",
      "execution_count": 36,
      "metadata": {},
      "outputs": [
        {
          "data": {
            "text/plain": [
              "array(['onehotencoder__imovel_Alugado',\n",
              "       'onehotencoder__imovel_Financiado', 'onehotencoder__imovel_Outro',\n",
              "       'onehotencoder__imovel_Propria',\n",
              "       'onehotencoder__motivo_emprestimo_Dividas',\n",
              "       'onehotencoder__motivo_emprestimo_Educacao',\n",
              "       'onehotencoder__motivo_emprestimo_Empreendimento',\n",
              "       'onehotencoder__motivo_emprestimo_Medico',\n",
              "       'onehotencoder__motivo_emprestimo_Pessoal',\n",
              "       'onehotencoder__motivo_emprestimo_Reforma', 'remainder__idade',\n",
              "       'remainder__renda', 'remainder__tempo_trabalhado',\n",
              "       'remainder__nota_emprestimo', 'remainder__total_emprestado',\n",
              "       'remainder__taxa_juros', 'remainder__renda_alocada',\n",
              "       'remainder__devedora', 'remainder__relacionamento_bancario'],\n",
              "      dtype=object)"
            ]
          },
          "execution_count": 36,
          "metadata": {},
          "output_type": "execute_result"
        }
      ],
      "source": [
        "one_hot_enc.get_feature_names_out()"
      ]
    },
    {
      "cell_type": "code",
      "execution_count": 37,
      "metadata": {},
      "outputs": [],
      "source": [
        "# Realizando a divisão dos dados\n",
        "#x = dados_final.drop(columns = 'remainder__inadimplencia')\n",
        "#y = dados_final['remainder__inadimplencia']"
      ]
    },
    {
      "cell_type": "markdown",
      "metadata": {
        "id": "DdkkZURh2APs"
      },
      "source": [
        "### Normalização\n"
      ]
    },
    {
      "cell_type": "code",
      "execution_count": 38,
      "metadata": {},
      "outputs": [],
      "source": [
        "#Vou ter agora o dados_final e y"
      ]
    },
    {
      "cell_type": "code",
      "execution_count": 39,
      "metadata": {
        "colab": {
          "base_uri": "https://localhost:8080/",
          "height": 488
        },
        "id": "jh3uD74b6NSd",
        "outputId": "ea5fa8bd-b991-4dc0-f587-e24bd8ae3473"
      },
      "outputs": [
        {
          "data": {
            "text/html": [
              "<div>\n",
              "<style scoped>\n",
              "    .dataframe tbody tr th:only-of-type {\n",
              "        vertical-align: middle;\n",
              "    }\n",
              "\n",
              "    .dataframe tbody tr th {\n",
              "        vertical-align: top;\n",
              "    }\n",
              "\n",
              "    .dataframe thead th {\n",
              "        text-align: right;\n",
              "    }\n",
              "</style>\n",
              "<table border=\"1\" class=\"dataframe\">\n",
              "  <thead>\n",
              "    <tr style=\"text-align: right;\">\n",
              "      <th></th>\n",
              "      <th>onehotencoder__imovel_Alugado</th>\n",
              "      <th>onehotencoder__imovel_Financiado</th>\n",
              "      <th>onehotencoder__imovel_Outro</th>\n",
              "      <th>onehotencoder__imovel_Propria</th>\n",
              "      <th>onehotencoder__motivo_emprestimo_Dividas</th>\n",
              "      <th>onehotencoder__motivo_emprestimo_Educacao</th>\n",
              "      <th>onehotencoder__motivo_emprestimo_Empreendimento</th>\n",
              "      <th>onehotencoder__motivo_emprestimo_Medico</th>\n",
              "      <th>onehotencoder__motivo_emprestimo_Pessoal</th>\n",
              "      <th>onehotencoder__motivo_emprestimo_Reforma</th>\n",
              "      <th>remainder__idade</th>\n",
              "      <th>remainder__renda</th>\n",
              "      <th>remainder__tempo_trabalhado</th>\n",
              "      <th>remainder__nota_emprestimo</th>\n",
              "      <th>remainder__total_emprestado</th>\n",
              "      <th>remainder__taxa_juros</th>\n",
              "      <th>remainder__renda_alocada</th>\n",
              "      <th>remainder__devedora</th>\n",
              "      <th>remainder__relacionamento_bancario</th>\n",
              "    </tr>\n",
              "  </thead>\n",
              "  <tbody>\n",
              "    <tr>\n",
              "      <th>0</th>\n",
              "      <td>0.0</td>\n",
              "      <td>1.0</td>\n",
              "      <td>0.0</td>\n",
              "      <td>0.0</td>\n",
              "      <td>0.0</td>\n",
              "      <td>0.0</td>\n",
              "      <td>0.0</td>\n",
              "      <td>0.0</td>\n",
              "      <td>0.0</td>\n",
              "      <td>1.0</td>\n",
              "      <td>29.0</td>\n",
              "      <td>175000.0</td>\n",
              "      <td>2.0</td>\n",
              "      <td>0.0</td>\n",
              "      <td>10000.0</td>\n",
              "      <td>7.422942</td>\n",
              "      <td>0.06</td>\n",
              "      <td>0.0</td>\n",
              "      <td>9.0</td>\n",
              "    </tr>\n",
              "    <tr>\n",
              "      <th>1</th>\n",
              "      <td>1.0</td>\n",
              "      <td>0.0</td>\n",
              "      <td>0.0</td>\n",
              "      <td>0.0</td>\n",
              "      <td>0.0</td>\n",
              "      <td>0.0</td>\n",
              "      <td>1.0</td>\n",
              "      <td>0.0</td>\n",
              "      <td>0.0</td>\n",
              "      <td>0.0</td>\n",
              "      <td>21.0</td>\n",
              "      <td>41900.0</td>\n",
              "      <td>2.0</td>\n",
              "      <td>2.0</td>\n",
              "      <td>16000.0</td>\n",
              "      <td>12.840000</td>\n",
              "      <td>0.38</td>\n",
              "      <td>1.0</td>\n",
              "      <td>2.0</td>\n",
              "    </tr>\n",
              "    <tr>\n",
              "      <th>2</th>\n",
              "      <td>1.0</td>\n",
              "      <td>0.0</td>\n",
              "      <td>0.0</td>\n",
              "      <td>0.0</td>\n",
              "      <td>1.0</td>\n",
              "      <td>0.0</td>\n",
              "      <td>0.0</td>\n",
              "      <td>0.0</td>\n",
              "      <td>0.0</td>\n",
              "      <td>0.0</td>\n",
              "      <td>30.0</td>\n",
              "      <td>100000.0</td>\n",
              "      <td>13.0</td>\n",
              "      <td>0.0</td>\n",
              "      <td>12000.0</td>\n",
              "      <td>7.880000</td>\n",
              "      <td>0.12</td>\n",
              "      <td>0.0</td>\n",
              "      <td>9.0</td>\n",
              "    </tr>\n",
              "    <tr>\n",
              "      <th>3</th>\n",
              "      <td>1.0</td>\n",
              "      <td>0.0</td>\n",
              "      <td>0.0</td>\n",
              "      <td>0.0</td>\n",
              "      <td>0.0</td>\n",
              "      <td>0.0</td>\n",
              "      <td>0.0</td>\n",
              "      <td>0.0</td>\n",
              "      <td>0.0</td>\n",
              "      <td>1.0</td>\n",
              "      <td>27.0</td>\n",
              "      <td>68000.0</td>\n",
              "      <td>4.0</td>\n",
              "      <td>0.0</td>\n",
              "      <td>8700.0</td>\n",
              "      <td>7.880000</td>\n",
              "      <td>0.13</td>\n",
              "      <td>0.0</td>\n",
              "      <td>5.0</td>\n",
              "    </tr>\n",
              "    <tr>\n",
              "      <th>4</th>\n",
              "      <td>1.0</td>\n",
              "      <td>0.0</td>\n",
              "      <td>0.0</td>\n",
              "      <td>0.0</td>\n",
              "      <td>0.0</td>\n",
              "      <td>0.0</td>\n",
              "      <td>0.0</td>\n",
              "      <td>0.0</td>\n",
              "      <td>1.0</td>\n",
              "      <td>0.0</td>\n",
              "      <td>26.0</td>\n",
              "      <td>31200.0</td>\n",
              "      <td>8.0</td>\n",
              "      <td>0.0</td>\n",
              "      <td>5000.0</td>\n",
              "      <td>8.630000</td>\n",
              "      <td>0.16</td>\n",
              "      <td>0.0</td>\n",
              "      <td>2.0</td>\n",
              "    </tr>\n",
              "    <tr>\n",
              "      <th>...</th>\n",
              "      <td>...</td>\n",
              "      <td>...</td>\n",
              "      <td>...</td>\n",
              "      <td>...</td>\n",
              "      <td>...</td>\n",
              "      <td>...</td>\n",
              "      <td>...</td>\n",
              "      <td>...</td>\n",
              "      <td>...</td>\n",
              "      <td>...</td>\n",
              "      <td>...</td>\n",
              "      <td>...</td>\n",
              "      <td>...</td>\n",
              "      <td>...</td>\n",
              "      <td>...</td>\n",
              "      <td>...</td>\n",
              "      <td>...</td>\n",
              "      <td>...</td>\n",
              "      <td>...</td>\n",
              "    </tr>\n",
              "    <tr>\n",
              "      <th>32821</th>\n",
              "      <td>1.0</td>\n",
              "      <td>0.0</td>\n",
              "      <td>0.0</td>\n",
              "      <td>0.0</td>\n",
              "      <td>0.0</td>\n",
              "      <td>0.0</td>\n",
              "      <td>0.0</td>\n",
              "      <td>1.0</td>\n",
              "      <td>0.0</td>\n",
              "      <td>0.0</td>\n",
              "      <td>27.0</td>\n",
              "      <td>47000.0</td>\n",
              "      <td>11.0</td>\n",
              "      <td>1.0</td>\n",
              "      <td>1300.0</td>\n",
              "      <td>10.460000</td>\n",
              "      <td>0.03</td>\n",
              "      <td>0.0</td>\n",
              "      <td>8.0</td>\n",
              "    </tr>\n",
              "    <tr>\n",
              "      <th>32822</th>\n",
              "      <td>1.0</td>\n",
              "      <td>0.0</td>\n",
              "      <td>0.0</td>\n",
              "      <td>0.0</td>\n",
              "      <td>1.0</td>\n",
              "      <td>0.0</td>\n",
              "      <td>0.0</td>\n",
              "      <td>0.0</td>\n",
              "      <td>0.0</td>\n",
              "      <td>0.0</td>\n",
              "      <td>70.0</td>\n",
              "      <td>30000.0</td>\n",
              "      <td>0.0</td>\n",
              "      <td>3.0</td>\n",
              "      <td>1000.0</td>\n",
              "      <td>17.490000</td>\n",
              "      <td>0.03</td>\n",
              "      <td>1.0</td>\n",
              "      <td>21.0</td>\n",
              "    </tr>\n",
              "    <tr>\n",
              "      <th>32823</th>\n",
              "      <td>0.0</td>\n",
              "      <td>0.0</td>\n",
              "      <td>0.0</td>\n",
              "      <td>1.0</td>\n",
              "      <td>0.0</td>\n",
              "      <td>0.0</td>\n",
              "      <td>1.0</td>\n",
              "      <td>0.0</td>\n",
              "      <td>0.0</td>\n",
              "      <td>0.0</td>\n",
              "      <td>24.0</td>\n",
              "      <td>44000.0</td>\n",
              "      <td>9.0</td>\n",
              "      <td>2.0</td>\n",
              "      <td>6000.0</td>\n",
              "      <td>15.960000</td>\n",
              "      <td>0.14</td>\n",
              "      <td>1.0</td>\n",
              "      <td>4.0</td>\n",
              "    </tr>\n",
              "    <tr>\n",
              "      <th>32824</th>\n",
              "      <td>1.0</td>\n",
              "      <td>0.0</td>\n",
              "      <td>0.0</td>\n",
              "      <td>0.0</td>\n",
              "      <td>0.0</td>\n",
              "      <td>0.0</td>\n",
              "      <td>0.0</td>\n",
              "      <td>1.0</td>\n",
              "      <td>0.0</td>\n",
              "      <td>0.0</td>\n",
              "      <td>23.0</td>\n",
              "      <td>65000.0</td>\n",
              "      <td>7.0</td>\n",
              "      <td>1.0</td>\n",
              "      <td>3600.0</td>\n",
              "      <td>10.590000</td>\n",
              "      <td>0.06</td>\n",
              "      <td>0.0</td>\n",
              "      <td>3.0</td>\n",
              "    </tr>\n",
              "    <tr>\n",
              "      <th>32825</th>\n",
              "      <td>0.0</td>\n",
              "      <td>1.0</td>\n",
              "      <td>0.0</td>\n",
              "      <td>0.0</td>\n",
              "      <td>0.0</td>\n",
              "      <td>1.0</td>\n",
              "      <td>0.0</td>\n",
              "      <td>0.0</td>\n",
              "      <td>0.0</td>\n",
              "      <td>0.0</td>\n",
              "      <td>23.0</td>\n",
              "      <td>70236.0</td>\n",
              "      <td>7.0</td>\n",
              "      <td>2.0</td>\n",
              "      <td>8700.0</td>\n",
              "      <td>13.470000</td>\n",
              "      <td>0.12</td>\n",
              "      <td>1.0</td>\n",
              "      <td>4.0</td>\n",
              "    </tr>\n",
              "  </tbody>\n",
              "</table>\n",
              "<p>32826 rows × 19 columns</p>\n",
              "</div>"
            ],
            "text/plain": [
              "       onehotencoder__imovel_Alugado  onehotencoder__imovel_Financiado  \\\n",
              "0                                0.0                               1.0   \n",
              "1                                1.0                               0.0   \n",
              "2                                1.0                               0.0   \n",
              "3                                1.0                               0.0   \n",
              "4                                1.0                               0.0   \n",
              "...                              ...                               ...   \n",
              "32821                            1.0                               0.0   \n",
              "32822                            1.0                               0.0   \n",
              "32823                            0.0                               0.0   \n",
              "32824                            1.0                               0.0   \n",
              "32825                            0.0                               1.0   \n",
              "\n",
              "       onehotencoder__imovel_Outro  onehotencoder__imovel_Propria  \\\n",
              "0                              0.0                            0.0   \n",
              "1                              0.0                            0.0   \n",
              "2                              0.0                            0.0   \n",
              "3                              0.0                            0.0   \n",
              "4                              0.0                            0.0   \n",
              "...                            ...                            ...   \n",
              "32821                          0.0                            0.0   \n",
              "32822                          0.0                            0.0   \n",
              "32823                          0.0                            1.0   \n",
              "32824                          0.0                            0.0   \n",
              "32825                          0.0                            0.0   \n",
              "\n",
              "       onehotencoder__motivo_emprestimo_Dividas  \\\n",
              "0                                           0.0   \n",
              "1                                           0.0   \n",
              "2                                           1.0   \n",
              "3                                           0.0   \n",
              "4                                           0.0   \n",
              "...                                         ...   \n",
              "32821                                       0.0   \n",
              "32822                                       1.0   \n",
              "32823                                       0.0   \n",
              "32824                                       0.0   \n",
              "32825                                       0.0   \n",
              "\n",
              "       onehotencoder__motivo_emprestimo_Educacao  \\\n",
              "0                                            0.0   \n",
              "1                                            0.0   \n",
              "2                                            0.0   \n",
              "3                                            0.0   \n",
              "4                                            0.0   \n",
              "...                                          ...   \n",
              "32821                                        0.0   \n",
              "32822                                        0.0   \n",
              "32823                                        0.0   \n",
              "32824                                        0.0   \n",
              "32825                                        1.0   \n",
              "\n",
              "       onehotencoder__motivo_emprestimo_Empreendimento  \\\n",
              "0                                                  0.0   \n",
              "1                                                  1.0   \n",
              "2                                                  0.0   \n",
              "3                                                  0.0   \n",
              "4                                                  0.0   \n",
              "...                                                ...   \n",
              "32821                                              0.0   \n",
              "32822                                              0.0   \n",
              "32823                                              1.0   \n",
              "32824                                              0.0   \n",
              "32825                                              0.0   \n",
              "\n",
              "       onehotencoder__motivo_emprestimo_Medico  \\\n",
              "0                                          0.0   \n",
              "1                                          0.0   \n",
              "2                                          0.0   \n",
              "3                                          0.0   \n",
              "4                                          0.0   \n",
              "...                                        ...   \n",
              "32821                                      1.0   \n",
              "32822                                      0.0   \n",
              "32823                                      0.0   \n",
              "32824                                      1.0   \n",
              "32825                                      0.0   \n",
              "\n",
              "       onehotencoder__motivo_emprestimo_Pessoal  \\\n",
              "0                                           0.0   \n",
              "1                                           0.0   \n",
              "2                                           0.0   \n",
              "3                                           0.0   \n",
              "4                                           1.0   \n",
              "...                                         ...   \n",
              "32821                                       0.0   \n",
              "32822                                       0.0   \n",
              "32823                                       0.0   \n",
              "32824                                       0.0   \n",
              "32825                                       0.0   \n",
              "\n",
              "       onehotencoder__motivo_emprestimo_Reforma  remainder__idade  \\\n",
              "0                                           1.0              29.0   \n",
              "1                                           0.0              21.0   \n",
              "2                                           0.0              30.0   \n",
              "3                                           1.0              27.0   \n",
              "4                                           0.0              26.0   \n",
              "...                                         ...               ...   \n",
              "32821                                       0.0              27.0   \n",
              "32822                                       0.0              70.0   \n",
              "32823                                       0.0              24.0   \n",
              "32824                                       0.0              23.0   \n",
              "32825                                       0.0              23.0   \n",
              "\n",
              "       remainder__renda  remainder__tempo_trabalhado  \\\n",
              "0              175000.0                          2.0   \n",
              "1               41900.0                          2.0   \n",
              "2              100000.0                         13.0   \n",
              "3               68000.0                          4.0   \n",
              "4               31200.0                          8.0   \n",
              "...                 ...                          ...   \n",
              "32821           47000.0                         11.0   \n",
              "32822           30000.0                          0.0   \n",
              "32823           44000.0                          9.0   \n",
              "32824           65000.0                          7.0   \n",
              "32825           70236.0                          7.0   \n",
              "\n",
              "       remainder__nota_emprestimo  remainder__total_emprestado  \\\n",
              "0                             0.0                      10000.0   \n",
              "1                             2.0                      16000.0   \n",
              "2                             0.0                      12000.0   \n",
              "3                             0.0                       8700.0   \n",
              "4                             0.0                       5000.0   \n",
              "...                           ...                          ...   \n",
              "32821                         1.0                       1300.0   \n",
              "32822                         3.0                       1000.0   \n",
              "32823                         2.0                       6000.0   \n",
              "32824                         1.0                       3600.0   \n",
              "32825                         2.0                       8700.0   \n",
              "\n",
              "       remainder__taxa_juros  remainder__renda_alocada  remainder__devedora  \\\n",
              "0                   7.422942                      0.06                  0.0   \n",
              "1                  12.840000                      0.38                  1.0   \n",
              "2                   7.880000                      0.12                  0.0   \n",
              "3                   7.880000                      0.13                  0.0   \n",
              "4                   8.630000                      0.16                  0.0   \n",
              "...                      ...                       ...                  ...   \n",
              "32821              10.460000                      0.03                  0.0   \n",
              "32822              17.490000                      0.03                  1.0   \n",
              "32823              15.960000                      0.14                  1.0   \n",
              "32824              10.590000                      0.06                  0.0   \n",
              "32825              13.470000                      0.12                  1.0   \n",
              "\n",
              "       remainder__relacionamento_bancario  \n",
              "0                                     9.0  \n",
              "1                                     2.0  \n",
              "2                                     9.0  \n",
              "3                                     5.0  \n",
              "4                                     2.0  \n",
              "...                                   ...  \n",
              "32821                                 8.0  \n",
              "32822                                21.0  \n",
              "32823                                 4.0  \n",
              "32824                                 3.0  \n",
              "32825                                 4.0  \n",
              "\n",
              "[32826 rows x 19 columns]"
            ]
          },
          "execution_count": 39,
          "metadata": {},
          "output_type": "execute_result"
        }
      ],
      "source": [
        "#Normalização dos dados.\n",
        "\n",
        "from sklearn.preprocessing import StandardScaler\n",
        "\n",
        "scaler = StandardScaler()\n",
        "X = scaler.fit_transform(dados_final)\n",
        "X = pd.DataFrame(dados_final, columns = one_hot_enc.get_feature_names_out())\n",
        "X"
      ]
    },
    {
      "cell_type": "code",
      "execution_count": 40,
      "metadata": {
        "colab": {
          "base_uri": "https://localhost:8080/"
        },
        "id": "IqZw28rA7Lmx",
        "outputId": "9b7449b3-e49d-4003-f894-3cb3dde3d826"
      },
      "outputs": [
        {
          "name": "stdout",
          "output_type": "stream",
          "text": [
            "O dataset contêm um total de 32826 linhas\n",
            "Onde 25673 linhas são de clientes não inadimplentes e corresponde a 78.21% dos dados.\n",
            "Enquanto 7153 linhas são clientes inadimplentes, correspondendo a 21.79% dos dados.\n"
          ]
        }
      ],
      "source": [
        "#Vamos agora realizar o balanceamento da variável alvo.\n",
        "\n",
        "nao_devedora = y.value_counts()[0] # Não devedora\n",
        "devedora = y.value_counts()[1] # Não devedora\n",
        "total = y.count()\n",
        "\n",
        "print('O dataset contêm um total de %d linhas'% total)\n",
        "print('Onde %d linhas são de clientes não inadimplentes e corresponde a %.2f%% dos dados.' %(nao_devedora, (nao_devedora/total)*100))\n",
        "print('Enquanto %d linhas são clientes inadimplentes, correspondendo a %.2f%% dos dados.' %(devedora,(devedora/total)*100))"
      ]
    },
    {
      "cell_type": "markdown",
      "metadata": {
        "id": "v5F5MmkI8Qq7"
      },
      "source": [
        "Devido ao desbalanceamento será necessário uma técnica de oversampling para equlibrar"
      ]
    },
    {
      "cell_type": "code",
      "execution_count": 41,
      "metadata": {
        "colab": {
          "base_uri": "https://localhost:8080/"
        },
        "id": "bfGyahYr7rH0",
        "outputId": "821cd13f-bc7d-4779-e0db-8ba0c2df28e4"
      },
      "outputs": [
        {
          "data": {
            "text/plain": [
              "0.0    25673\n",
              "1.0    25673\n",
              "Name: inadimplencia, dtype: int64"
            ]
          },
          "execution_count": 41,
          "metadata": {},
          "output_type": "execute_result"
        }
      ],
      "source": [
        "\n",
        "# Realizando o import do Smote\n",
        "from imblearn.over_sampling import SMOTE\n",
        "\n",
        "# Instanciando um objeto Smote()\n",
        "smt = SMOTE()\n",
        "# Aplicando o Resample das classes\n",
        "X,y = smt.fit_resample(X,y)\n",
        "\n",
        "# Visualizando a nova distribuição das classes\n",
        "y.value_counts()\n",
        "\n",
        "\n"
      ]
    },
    {
      "cell_type": "markdown",
      "metadata": {
        "id": "Ijhpjdkj8tTc"
      },
      "source": [
        "## Aprendizado"
      ]
    },
    {
      "cell_type": "markdown",
      "metadata": {
        "id": "wKpZISkS9RP8"
      },
      "source": [
        "Definindo a funçao básica para chamar os diversos modelos"
      ]
    },
    {
      "cell_type": "code",
      "execution_count": 42,
      "metadata": {
        "id": "Ugx6NdQB_PqC"
      },
      "outputs": [],
      "source": [
        "# Importando os modelos \n",
        "from sklearn.model_selection import train_test_split\n",
        "from sklearn.dummy import DummyClassifier\n",
        "from sklearn.tree import DecisionTreeClassifier\n",
        "from sklearn.ensemble import RandomForestClassifier\n",
        "from sklearn.ensemble import GradientBoostingClassifier\n",
        "from sklearn.linear_model import LogisticRegression\n",
        "\n",
        "# Importando as métricas\n",
        "from sklearn.metrics import accuracy_score\n",
        "from sklearn.metrics import precision_score\n",
        "from sklearn.metrics import f1_score\n",
        "from sklearn.metrics import recall_score\n",
        "from sklearn.metrics import confusion_matrix\n",
        "from sklearn.metrics import ConfusionMatrixDisplay\n",
        "from sklearn.metrics import roc_auc_score\n",
        "from sklearn.metrics import roc_curve\n",
        "from sklearn.metrics import classification_report\n",
        "\n",
        "  # SEED\n",
        "SEED = 10\n",
        "# para melhor aplicação futura, o SMOTE deve ser aplicado somente nos dados de treino e não no dataset como um todo\n",
        "# separando os dados\n",
        "treino_X, teste_X, treino_y, teste_y = train_test_split(X, y, test_size=0.30, random_state = SEED, stratify = y)"
      ]
    },
    {
      "cell_type": "code",
      "execution_count": 43,
      "metadata": {
        "id": "XsdsiIKu-Osc"
      },
      "outputs": [],
      "source": [
        "# def roda_tudo(classificador, X, y):\n",
        "\n",
        "  \n",
        "#   # classificador\n",
        "#   modelo = classificador\n",
        "#   modelo.fit(treino_X, treino_y)\n",
        "\n",
        "#   # Predição \n",
        "#   previsoes = modelo.predict(teste_X)\n",
        "\n",
        "#   # Métricas\n",
        "#   acuracia = accuracy_score(teste_y, previsoes)*100\n",
        "#   precisao = precision_score(teste_y, previsoes)*100\n",
        "#   recall = recall_score(teste_y, previsoes)*100\n",
        "#   f1 = f1_score(teste_y, previsoes)*100\n",
        "    \n",
        "#   print('A acurácia do modelo foi de %.2f%%' %acuracia)\n",
        "#   print('A precisão do modelo foi de %.2f%%'%precisao)\n",
        "#   print('A taxa de recall do modelo foi de %.2f%%'% recall)\n",
        "#   print('A taxa de balanceamento do modelo foi de %.2f%%'%f1)\n",
        "    \n",
        "#   mc = confusion_matrix(teste_y, previsoes)\n",
        "#   display = ConfusionMatrixDisplay(confusion_matrix = mc)\n",
        "#   display.plot()\n",
        "\n",
        "#   print(100*'-')\n",
        "#   prob_previsao = modelo.predict_proba(teste_X)[:,1]\n",
        "   \n",
        "#   tfp, tvp, limite = roc_curve(teste_y, prob_previsao)\n",
        "#   print('roc_auc:', roc_auc_score(teste_y, prob_previsao))\n",
        "    \n",
        "#   plt.subplots(1, figsize=(5,5))\n",
        "#   plt.title('Curva ROC')\n",
        "#   plt.plot(tfp, tvp)\n",
        "#   plt.plot([0, 1], ls=\"--\", c = 'red') #plotando linha pontilhada guia para regressao aleatoria\n",
        "#   plt.plot([0, 0], [1, 0], ls=\"--\", c = 'green'), plt.plot([1, 1], ls=\"--\", c = 'green') #plotando linha pontilhada guia para regressao perfeita\n",
        "#   plt.ylabel('Sensibilidade')\n",
        "#   plt.xlabel('Especificidade')\n",
        "#   plt.show()\n",
        "\n"
      ]
    },
    {
      "cell_type": "code",
      "execution_count": 44,
      "metadata": {
        "id": "CJbnGN2OOrHB"
      },
      "outputs": [],
      "source": [
        "dummy = DummyClassifier(random_state=SEED)\n",
        "dummy.fit(treino_X, treino_y)\n",
        "previsao_dummy = dummy.predict(teste_X)"
      ]
    },
    {
      "cell_type": "code",
      "execution_count": 45,
      "metadata": {
        "id": "NZrr9YsOA0Jj"
      },
      "outputs": [],
      "source": [
        "arvore = DecisionTreeClassifier(random_state=SEED)\n",
        "arvore.fit(treino_X, treino_y)\n",
        "previsao_arvore = arvore.predict(teste_X)"
      ]
    },
    {
      "cell_type": "code",
      "execution_count": 46,
      "metadata": {
        "id": "06z0L2C5Ox8D"
      },
      "outputs": [],
      "source": [
        "floresta = RandomForestClassifier(random_state=SEED)\n",
        "floresta.fit(treino_X, treino_y)\n",
        "previsao_floresta = floresta.predict(teste_X)"
      ]
    },
    {
      "cell_type": "code",
      "execution_count": 47,
      "metadata": {
        "id": "rReWr3fPOx2z"
      },
      "outputs": [],
      "source": [
        "gboost = GradientBoostingClassifier(random_state=SEED)\n",
        "gboost.fit(treino_X, treino_y)\n",
        "previsao_gboost = gboost.predict(teste_X)"
      ]
    },
    {
      "cell_type": "code",
      "execution_count": 48,
      "metadata": {
        "id": "2ZCcgBf0OxtZ"
      },
      "outputs": [],
      "source": [
        "reg_logistica = LogisticRegression(random_state = SEED, max_iter = 1000)\n",
        "reg_logistica.fit(treino_X, treino_y)\n",
        "previsao_reglog = reg_logistica.predict(teste_X)"
      ]
    },
    {
      "cell_type": "code",
      "execution_count": 49,
      "metadata": {
        "colab": {
          "base_uri": "https://localhost:8080/"
        },
        "id": "1uXJQwn0PWLz",
        "outputId": "bbe98f99-374b-4ba8-82a5-9ab6e7eba245"
      },
      "outputs": [
        {
          "name": "stderr",
          "output_type": "stream",
          "text": [
            "c:\\Users\\andre\\anaconda3\\lib\\site-packages\\sklearn\\metrics\\_classification.py:1334: UndefinedMetricWarning: Precision is ill-defined and being set to 0.0 due to no predicted samples. Use `zero_division` parameter to control this behavior.\n",
            "  _warn_prf(average, modifier, msg_start, len(result))\n"
          ]
        }
      ],
      "source": [
        "from sklearn.metrics import recall_score\n",
        "metricas = pd.DataFrame({\n",
        "    \n",
        "'Acurácia treino':[arvore.score(treino_X, treino_y),\n",
        "                  floresta.score(treino_X, treino_y),  \n",
        "                  gboost.score(treino_X, treino_y), \n",
        "                  reg_logistica.score(treino_X, treino_y),\n",
        "                  dummy.score(treino_X, treino_y)],\n",
        "\n",
        "\n",
        "                              \n",
        "'Acurácia':[accuracy_score(teste_y, previsao_arvore),\n",
        "                  accuracy_score(teste_y, previsao_floresta),  \n",
        "                  accuracy_score(teste_y, previsao_gboost), \n",
        "                  accuracy_score(teste_y, previsao_reglog),\n",
        "                  accuracy_score(teste_y, previsao_dummy)],\n",
        "\n",
        "'Precisão':[precision_score(teste_y, previsao_arvore),\n",
        "                  precision_score(teste_y, previsao_floresta), \n",
        "                  precision_score(teste_y, previsao_gboost), \n",
        "                  precision_score(teste_y, previsao_reglog),\n",
        "                  precision_score(teste_y, previsao_dummy)],                   \n",
        "                               \n",
        "'Recall':[recall_score(teste_y, previsao_arvore),\n",
        "          recall_score(teste_y, previsao_floresta),\n",
        "          recall_score(teste_y, previsao_gboost),\n",
        "          recall_score(teste_y, previsao_reglog),\n",
        "          recall_score(teste_y, previsao_dummy)],\n",
        "\n",
        "'F1-score':[f1_score(teste_y, previsao_arvore),\n",
        "          f1_score(teste_y, previsao_floresta),\n",
        "          f1_score(teste_y, previsao_gboost),\n",
        "          f1_score(teste_y, previsao_reglog),\n",
        "          f1_score(teste_y, previsao_dummy)],\n",
        "\n",
        "'ROC_AUC':[roc_auc_score(teste_y, arvore.predict_proba(teste_X)[:,1]),\n",
        "          roc_auc_score(teste_y, floresta.predict_proba(teste_X)[:,1]),\n",
        "          roc_auc_score(teste_y, gboost.predict_proba(teste_X)[:,1]),\n",
        "          roc_auc_score(teste_y, reg_logistica.predict_proba(teste_X)[:,1]),\n",
        "          roc_auc_score(teste_y, dummy.predict_proba(teste_X)[:,1])]\n",
        "\n",
        "\n",
        "},\n",
        "index = ['Árvore de Decisão', 'Random Florest','Gradient Boosting', 'Regressão Logísitica', 'DummyClassifier'])\n",
        "\n"
      ]
    },
    {
      "cell_type": "code",
      "execution_count": 50,
      "metadata": {
        "colab": {
          "base_uri": "https://localhost:8080/",
          "height": 206
        },
        "id": "TyOIRcCAQ9EI",
        "outputId": "286d9763-c895-4ca3-8d36-ce57e7582a25"
      },
      "outputs": [
        {
          "data": {
            "text/html": [
              "<div>\n",
              "<style scoped>\n",
              "    .dataframe tbody tr th:only-of-type {\n",
              "        vertical-align: middle;\n",
              "    }\n",
              "\n",
              "    .dataframe tbody tr th {\n",
              "        vertical-align: top;\n",
              "    }\n",
              "\n",
              "    .dataframe thead th {\n",
              "        text-align: right;\n",
              "    }\n",
              "</style>\n",
              "<table border=\"1\" class=\"dataframe\">\n",
              "  <thead>\n",
              "    <tr style=\"text-align: right;\">\n",
              "      <th></th>\n",
              "      <th>Acurácia treino</th>\n",
              "      <th>Acurácia</th>\n",
              "      <th>Precisão</th>\n",
              "      <th>Recall</th>\n",
              "      <th>F1-score</th>\n",
              "      <th>ROC_AUC</th>\n",
              "    </tr>\n",
              "  </thead>\n",
              "  <tbody>\n",
              "    <tr>\n",
              "      <th>Árvore de Decisão</th>\n",
              "      <td>1.000000</td>\n",
              "      <td>0.927551</td>\n",
              "      <td>0.920347</td>\n",
              "      <td>0.936120</td>\n",
              "      <td>0.928167</td>\n",
              "      <td>0.927551</td>\n",
              "    </tr>\n",
              "    <tr>\n",
              "      <th>Random Florest</th>\n",
              "      <td>1.000000</td>\n",
              "      <td>0.958387</td>\n",
              "      <td>0.991234</td>\n",
              "      <td>0.924955</td>\n",
              "      <td>0.956948</td>\n",
              "      <td>0.982562</td>\n",
              "    </tr>\n",
              "    <tr>\n",
              "      <th>Gradient Boosting</th>\n",
              "      <td>0.947415</td>\n",
              "      <td>0.949429</td>\n",
              "      <td>0.983112</td>\n",
              "      <td>0.914568</td>\n",
              "      <td>0.947602</td>\n",
              "      <td>0.976976</td>\n",
              "    </tr>\n",
              "    <tr>\n",
              "      <th>Regressão Logísitica</th>\n",
              "      <td>0.738384</td>\n",
              "      <td>0.732472</td>\n",
              "      <td>0.709293</td>\n",
              "      <td>0.787847</td>\n",
              "      <td>0.746509</td>\n",
              "      <td>0.810206</td>\n",
              "    </tr>\n",
              "    <tr>\n",
              "      <th>DummyClassifier</th>\n",
              "      <td>0.500000</td>\n",
              "      <td>0.500000</td>\n",
              "      <td>0.000000</td>\n",
              "      <td>0.000000</td>\n",
              "      <td>0.000000</td>\n",
              "      <td>0.500000</td>\n",
              "    </tr>\n",
              "  </tbody>\n",
              "</table>\n",
              "</div>"
            ],
            "text/plain": [
              "                      Acurácia treino  Acurácia  Precisão    Recall  F1-score  \\\n",
              "Árvore de Decisão            1.000000  0.927551  0.920347  0.936120  0.928167   \n",
              "Random Florest               1.000000  0.958387  0.991234  0.924955  0.956948   \n",
              "Gradient Boosting            0.947415  0.949429  0.983112  0.914568  0.947602   \n",
              "Regressão Logísitica         0.738384  0.732472  0.709293  0.787847  0.746509   \n",
              "DummyClassifier              0.500000  0.500000  0.000000  0.000000  0.000000   \n",
              "\n",
              "                       ROC_AUC  \n",
              "Árvore de Decisão     0.927551  \n",
              "Random Florest        0.982562  \n",
              "Gradient Boosting     0.976976  \n",
              "Regressão Logísitica  0.810206  \n",
              "DummyClassifier       0.500000  "
            ]
          },
          "metadata": {},
          "output_type": "display_data"
        }
      ],
      "source": [
        "display(metricas)"
      ]
    },
    {
      "cell_type": "code",
      "execution_count": 51,
      "metadata": {
        "colab": {
          "base_uri": "https://localhost:8080/",
          "height": 279
        },
        "id": "0s32-2SADXps",
        "outputId": "ba2d9608-a16b-41f7-fe4f-bcfed3719901"
      },
      "outputs": [
        {
          "data": {
            "image/png": "[encoded data removed]",
            "text/plain": [
              "<Figure size 432x288 with 2 Axes>"
            ]
          },
          "metadata": {
            "needs_background": "light"
          },
          "output_type": "display_data"
        }
      ],
      "source": [
        "ConfusionMatrixDisplay.from_estimator(floresta, teste_X, teste_y)\n",
        "plt.grid(False)\n",
        "plt.show()"
      ]
    },
    {
      "cell_type": "markdown",
      "metadata": {
        "id": "kXfaCNckwYBc"
      },
      "source": []
    },
    {
      "cell_type": "markdown",
      "metadata": {
        "id": "wMoTqhXuoByr"
      },
      "source": [
        "**Acurácia**: indica uma performance geral do modelo. Dentre todas as classificações, quantas o modelo classificou corretamente;\n",
        "\n",
        "**Precisão**: dentre todas as classificações de classe Positivo que o modelo fez, quantas estão corretas;  Falsos Positivos são considerados mais prejudiciais que os Falsos Negativos\n",
        "\n",
        "**Recall**: dentre todas as situações de classe Positivo como valor esperado, quantas estão corretas; Falsos Negativos são considerados mais prejudiciais que os Falsos Positivos\n",
        "\n",
        "\n",
        "Falso positivo é o ruim cliente que foi aprovado mas se tornará inadimplente\n",
        "\n",
        "Falso negativo é o bom cliente que foi negado o empréstimo"
      ]
    },
    {
      "cell_type": "markdown",
      "metadata": {
        "id": "MiTOE5ayCNII"
      },
      "source": [
        "Como o objetivo do banco é evitar a inadimplência, podemos fazer as seguintes escolhas:\n",
        "\n",
        "**Recall** -> significa que do total de clientes que poderiam obter o empréstimo, ~91% conseguiram efetivamente.\n",
        "\n",
        "**Precisão** -> Significa que a maior quantidade de emprestimos foi liberada para ~97,8% de clientes bons pagadores\n",
        "\n",
        "Como ambos os dados vem com o modelo do **Random Florest**, é esse que vamos adotar."
      ]
    },
    {
      "cell_type": "markdown",
      "metadata": {},
      "source": [
        "## Vamos utilizar agora validacao cruzada para confirmar o nosso modelo"
      ]
    },
    {
      "cell_type": "code",
      "execution_count": 52,
      "metadata": {},
      "outputs": [],
      "source": [
        "from sklearn.model_selection import RepeatedStratifiedKFold\n",
        "from sklearn.model_selection import cross_validate\n",
        "\n",
        "cv = RepeatedStratifiedKFold(n_splits = 5, n_repeats = 10)\n",
        "resultados = cross_validate(floresta, X, y, cv = cv, scoring = 'roc_auc', return_train_score=True, n_jobs = -1)\n",
        "    \n",
        "auc_medio = np.mean(resultados['test_score'])\n",
        "auc_medio_treino = np.mean(resultados['train_score'])\n",
        "auc_std = np.std(resultados['test_score'])\n",
        "\n",
        "print(f'AUC {auc_medio} - {auc_medio_treino}')"
      ]
    },
    {
      "cell_type": "markdown",
      "metadata": {},
      "source": [
        "## Otimizando hyperparametros"
      ]
    },
    {
      "cell_type": "code",
      "execution_count": 53,
      "metadata": {},
      "outputs": [],
      "source": [
        "#from sklearn import svm, datasets\n",
        "#from sklearn.model_selection import GridSearchCV"
      ]
    },
    {
      "cell_type": "code",
      "execution_count": 54,
      "metadata": {},
      "outputs": [],
      "source": [
        "#params = {'n_estimators': [50, 100, 200, 300, 400],\n",
        "#          'max_depth': [6,7,8,9,10],\n",
        "#           'min_samples_leaf': [1, 2, 4],\n",
        "# 'min_samples_split': [2, 5, 10]\n",
        "#          } #dicionário com os parâmetros a serem testados\n",
        "\n",
        "#modelo_rfc = RandomForestClassifier()\n",
        "#cv = RepeatedStratifiedKFold(n_splits=5, n_repeats=10)\n",
        "#modelo_otimizado = GridSearchCV(modelo_rfc, params, cv=cv)\n",
        "#modelo_otimizado.fit(treino_X, treino_y)"
      ]
    },
    {
      "cell_type": "code",
      "execution_count": 55,
      "metadata": {},
      "outputs": [],
      "source": [
        "#modelo_otimizado.best_estimator_"
      ]
    },
    {
      "cell_type": "code",
      "execution_count": 56,
      "metadata": {},
      "outputs": [],
      "source": [
        "#previsao_modelo_otimizado = modelo_otimizado.best_estimator_\n",
        "#previsao_otimizado = previsao_modelo_otimizado.predict(teste_X)"
      ]
    },
    {
      "cell_type": "code",
      "execution_count": 57,
      "metadata": {},
      "outputs": [],
      "source": [
        "#from sklearn.metrics import recall_score\n",
        "#metricas = pd.DataFrame({\n",
        "    \n",
        "\n",
        "                              \n",
        "#'Acurácia':[accuracy_score(teste_y, previsao_floresta),\n",
        "#                  accuracy_score(teste_y, previsao_otimizado),  \n",
        "#                  ],\n",
        "\n",
        "#'Precisão':[precision_score(teste_y, previsao_floresta),\n",
        "#                  precision_score(teste_y, previsao_otimizado), \n",
        "#                  ],                   \n",
        "                               \n",
        "#'Recall':[recall_score(teste_y, previsao_floresta),\n",
        "#          recall_score(teste_y, previsao_otimizado),\n",
        "#          ],\n",
        "\n",
        "#'F1-score':[f1_score(teste_y, previsao_floresta),\n",
        "#          f1_score(teste_y, previsao_otimizado),\n",
        "#          ],\n",
        "\n",
        "#'ROC_AUC':[roc_auc_score(teste_y, floresta.predict_proba(teste_X)[:,1]),\n",
        "#          roc_auc_score(teste_y, modelo_otimizado.predict_proba(teste_X)[:,1]),\n",
        "#          ]\n",
        "\n",
        "\n",
        "#},\n",
        "#index = ['Random Florest','Random Florest ajustado'])\n",
        "\n"
      ]
    },
    {
      "cell_type": "code",
      "execution_count": 58,
      "metadata": {},
      "outputs": [],
      "source": [
        "#display(metricas)"
      ]
    },
    {
      "cell_type": "code",
      "execution_count": null,
      "metadata": {},
      "outputs": [],
      "source": []
    },
    {
      "cell_type": "code",
      "execution_count": null,
      "metadata": {},
      "outputs": [],
      "source": []
    },
    {
      "cell_type": "markdown",
      "metadata": {
        "id": "VqGNMw1NDtGr"
      },
      "source": [
        "## Otimizando os modelos"
      ]
    },
    {
      "cell_type": "code",
      "execution_count": 59,
      "metadata": {
        "id": "GqjnoERghZNO"
      },
      "outputs": [],
      "source": [
        "# from sklearn.model_selection import GridSearchCV\n",
        "# from sklearn.model_selection import RandomizedSearchCV\n",
        "\n",
        "\n",
        "# import numpy as np"
      ]
    },
    {
      "cell_type": "code",
      "execution_count": 60,
      "metadata": {
        "id": "AVx03AulFHl_"
      },
      "outputs": [],
      "source": [
        "# n_estimators = np.arange(20, 500, step = 20)\n",
        "# criterion = ['gini', 'entropy']\n",
        "# max_features = ['sqrt', 'log2']\n",
        "# max_depth = list(np.arange(2, 200, step = 1))\n",
        "# min_samples_split = np.arange(2, 200, step=2)\n",
        "# min_samples_leaf = [1, 2, 4]\n",
        "# bootstrap = [True, False]"
      ]
    },
    {
      "cell_type": "code",
      "execution_count": 61,
      "metadata": {
        "id": "S_frfHtxFHpW"
      },
      "outputs": [],
      "source": [
        "# param_grid = {\n",
        "#     \"n_estimators\": n_estimators,\n",
        "#     #\"criterion\": criterion,\n",
        "#     #\"max_features\": max_features,\n",
        "#     #\"max_depth\": max_depth,\n",
        "#     #\"min_samples_split\": min_samples_split,\n",
        "#     #\"min_samples_leaf\": min_samples_leaf,\n",
        "#     #\"bootstrap\": bootstrap,\n",
        "# }"
      ]
    },
    {
      "cell_type": "code",
      "execution_count": 62,
      "metadata": {
        "id": "QrgkasR1FHvf"
      },
      "outputs": [],
      "source": [
        "# rforest = RandomForestClassifier(random_state = SEED)\n",
        "# random_cv = RandomizedSearchCV(rforest, param_grid, n_iter = 5, cv = 5, n_jobs = -1, random_state = SEED)\n",
        "\n",
        "# rcv = random_cv.fit(X, y)\n",
        "# rcv.best_params_"
      ]
    },
    {
      "cell_type": "code",
      "execution_count": 63,
      "metadata": {
        "id": "HAjHZAaeFT8Q"
      },
      "outputs": [],
      "source": [
        "# rfn = RandomForestClassifier(**rcv.best_params_, random_state = SEED)\n",
        "# model = rfn.fit(treino_X, treino_y)\n",
        "# y_pred = rfn.predict(teste_X)\n"
      ]
    },
    {
      "cell_type": "code",
      "execution_count": 64,
      "metadata": {
        "id": "P2WoteqeeMnw"
      },
      "outputs": [],
      "source": [
        "# from sklearn.metrics import recall_score\n",
        "# metricas = pd.DataFrame({\n",
        "    \n",
        "\n",
        "                              \n",
        "# 'Acurácia':[accuracy_score(teste_y, previsao_floresta),\n",
        "#                   accuracy_score(teste_y, y_pred),  \n",
        "#                   ],\n",
        "\n",
        "# 'Precisão':[precision_score(teste_y, previsao_floresta),\n",
        "#                   precision_score(teste_y, y_pred), \n",
        "#                   ],                   \n",
        "                               \n",
        "# 'Recall':[recall_score(teste_y, previsao_floresta),\n",
        "#           recall_score(teste_y, y_pred),\n",
        "#           ],\n",
        "\n",
        "# 'F1-score':[f1_score(teste_y, previsao_floresta),\n",
        "#           f1_score(teste_y, y_pred),\n",
        "#           ],\n",
        "\n",
        "# 'ROC_AUC':[roc_auc_score(teste_y, floresta.predict_proba(teste_X)[:,1]),\n",
        "#           roc_auc_score(teste_y, model.predict_proba(teste_X)[:,1]),\n",
        "#           ]\n",
        "\n",
        "\n",
        "# },\n",
        "# index = ['Random Florest','Random Florest ajustado'])\n",
        "\n"
      ]
    },
    {
      "cell_type": "code",
      "execution_count": 65,
      "metadata": {
        "id": "NIibl4XaerVq"
      },
      "outputs": [],
      "source": [
        "# display(metricas)"
      ]
    },
    {
      "cell_type": "code",
      "execution_count": null,
      "metadata": {
        "id": "ej-QQnaTf8fY"
      },
      "outputs": [],
      "source": []
    },
    {
      "cell_type": "markdown",
      "metadata": {
        "id": "ggJt3ihkqhTQ"
      },
      "source": [
        "## Salvando modelo"
      ]
    },
    {
      "cell_type": "code",
      "execution_count": 66,
      "metadata": {
        "id": "MsGFLQUVqiuK"
      },
      "outputs": [],
      "source": [
        "import pickle\n",
        "\n",
        "\n",
        "with open('scaler.pkl', 'wb') as file:\n",
        "    pickle.dump(scaler, file)\n",
        "    \n",
        "\n",
        "with open('one_hot_encoder.pkl', 'wb') as file:\n",
        "    pickle.dump(one_hot_enc, file)\n",
        "    \n",
        "\n",
        "with open('modelo_treinado.pkl', 'wb') as file:\n",
        "    pickle.dump(floresta, file)"
      ]
    },
    {
      "cell_type": "code",
      "execution_count": 67,
      "metadata": {
        "id": "A9ffcHRMqscp"
      },
      "outputs": [
        {
          "data": {
            "text/html": [
              "<style>#sk-container-id-1 {color: black;background-color: white;}#sk-container-id-1 pre{padding: 0;}#sk-container-id-1 div.sk-toggleable {background-color: white;}#sk-container-id-1 label.sk-toggleable__label {cursor: pointer;display: block;width: 100%;margin-bottom: 0;padding: 0.3em;box-sizing: border-box;text-align: center;}#sk-container-id-1 label.sk-toggleable__label-arrow:before {content: \"▸\";float: left;margin-right: 0.25em;color: #696969;}#sk-container-id-1 label.sk-toggleable__label-arrow:hover:before {color: black;}#sk-container-id-1 div.sk-estimator:hover label.sk-toggleable__label-arrow:before {color: black;}#sk-container-id-1 div.sk-toggleable__content {max-height: 0;max-width: 0;overflow: hidden;text-align: left;background-color: #f0f8ff;}#sk-container-id-1 div.sk-toggleable__content pre {margin: 0.2em;color: black;border-radius: 0.25em;background-color: #f0f8ff;}#sk-container-id-1 input.sk-toggleable__control:checked~div.sk-toggleable__content {max-height: 200px;max-width: 100%;overflow: auto;}#sk-container-id-1 input.sk-toggleable__control:checked~label.sk-toggleable__label-arrow:before {content: \"▾\";}#sk-container-id-1 div.sk-estimator input.sk-toggleable__control:checked~label.sk-toggleable__label {background-color: #d4ebff;}#sk-container-id-1 div.sk-label input.sk-toggleable__control:checked~label.sk-toggleable__label {background-color: #d4ebff;}#sk-container-id-1 input.sk-hidden--visually {border: 0;clip: rect(1px 1px 1px 1px);clip: rect(1px, 1px, 1px, 1px);height: 1px;margin: -1px;overflow: hidden;padding: 0;position: absolute;width: 1px;}#sk-container-id-1 div.sk-estimator {font-family: monospace;background-color: #f0f8ff;border: 1px dotted black;border-radius: 0.25em;box-sizing: border-box;margin-bottom: 0.5em;}#sk-container-id-1 div.sk-estimator:hover {background-color: #d4ebff;}#sk-container-id-1 div.sk-parallel-item::after {content: \"\";width: 100%;border-bottom: 1px solid gray;flex-grow: 1;}#sk-container-id-1 div.sk-label:hover label.sk-toggleable__label {background-color: #d4ebff;}#sk-container-id-1 div.sk-serial::before {content: \"\";position: absolute;border-left: 1px solid gray;box-sizing: border-box;top: 0;bottom: 0;left: 50%;z-index: 0;}#sk-container-id-1 div.sk-serial {display: flex;flex-direction: column;align-items: center;background-color: white;padding-right: 0.2em;padding-left: 0.2em;position: relative;}#sk-container-id-1 div.sk-item {position: relative;z-index: 1;}#sk-container-id-1 div.sk-parallel {display: flex;align-items: stretch;justify-content: center;background-color: white;position: relative;}#sk-container-id-1 div.sk-item::before, #sk-container-id-1 div.sk-parallel-item::before {content: \"\";position: absolute;border-left: 1px solid gray;box-sizing: border-box;top: 0;bottom: 0;left: 50%;z-index: -1;}#sk-container-id-1 div.sk-parallel-item {display: flex;flex-direction: column;z-index: 1;position: relative;background-color: white;}#sk-container-id-1 div.sk-parallel-item:first-child::after {align-self: flex-end;width: 50%;}#sk-container-id-1 div.sk-parallel-item:last-child::after {align-self: flex-start;width: 50%;}#sk-container-id-1 div.sk-parallel-item:only-child::after {width: 0;}#sk-container-id-1 div.sk-dashed-wrapped {border: 1px dashed gray;margin: 0 0.4em 0.5em 0.4em;box-sizing: border-box;padding-bottom: 0.4em;background-color: white;}#sk-container-id-1 div.sk-label label {font-family: monospace;font-weight: bold;display: inline-block;line-height: 1.2em;}#sk-container-id-1 div.sk-label-container {text-align: center;}#sk-container-id-1 div.sk-container {/* jupyter's `normalize.less` sets `[hidden] { display: none; }` but bootstrap.min.css set `[hidden] { display: none !important; }` so we also need the `!important` here to be able to override the default hidden behavior on the sphinx rendered scikit-learn.org. See: https://github.com/scikit-learn/scikit-learn/issues/21755 */display: inline-block !important;position: relative;}#sk-container-id-1 div.sk-text-repr-fallback {display: none;}</style><div id=\"sk-container-id-1\" class=\"sk-top-container\"><div class=\"sk-text-repr-fallback\"><pre>ColumnTransformer(remainder=&#x27;passthrough&#x27;,\n",
              "                  transformers=[(&#x27;onehotencoder&#x27;, OneHotEncoder(),\n",
              "                                 [&#x27;imovel&#x27;, &#x27;motivo_emprestimo&#x27;])])</pre><b>In a Jupyter environment, please rerun this cell to show the HTML representation or trust the notebook. <br />On GitHub, the HTML representation is unable to render, please try loading this page with nbviewer.org.</b></div><div class=\"sk-container\" hidden><div class=\"sk-item sk-dashed-wrapped\"><div class=\"sk-label-container\"><div class=\"sk-label sk-toggleable\"><input class=\"sk-toggleable__control sk-hidden--visually\" id=\"sk-estimator-id-1\" type=\"checkbox\" ><label for=\"sk-estimator-id-1\" class=\"sk-toggleable__label sk-toggleable__label-arrow\">ColumnTransformer</label><div class=\"sk-toggleable__content\"><pre>ColumnTransformer(remainder=&#x27;passthrough&#x27;,\n",
              "                  transformers=[(&#x27;onehotencoder&#x27;, OneHotEncoder(),\n",
              "                                 [&#x27;imovel&#x27;, &#x27;motivo_emprestimo&#x27;])])</pre></div></div></div><div class=\"sk-parallel\"><div class=\"sk-parallel-item\"><div class=\"sk-item\"><div class=\"sk-label-container\"><div class=\"sk-label sk-toggleable\"><input class=\"sk-toggleable__control sk-hidden--visually\" id=\"sk-estimator-id-2\" type=\"checkbox\" ><label for=\"sk-estimator-id-2\" class=\"sk-toggleable__label sk-toggleable__label-arrow\">onehotencoder</label><div class=\"sk-toggleable__content\"><pre>[&#x27;imovel&#x27;, &#x27;motivo_emprestimo&#x27;]</pre></div></div></div><div class=\"sk-serial\"><div class=\"sk-item\"><div class=\"sk-estimator sk-toggleable\"><input class=\"sk-toggleable__control sk-hidden--visually\" id=\"sk-estimator-id-3\" type=\"checkbox\" ><label for=\"sk-estimator-id-3\" class=\"sk-toggleable__label sk-toggleable__label-arrow\">OneHotEncoder</label><div class=\"sk-toggleable__content\"><pre>OneHotEncoder()</pre></div></div></div></div></div></div><div class=\"sk-parallel-item\"><div class=\"sk-item\"><div class=\"sk-label-container\"><div class=\"sk-label sk-toggleable\"><input class=\"sk-toggleable__control sk-hidden--visually\" id=\"sk-estimator-id-4\" type=\"checkbox\" ><label for=\"sk-estimator-id-4\" class=\"sk-toggleable__label sk-toggleable__label-arrow\">remainder</label><div class=\"sk-toggleable__content\"><pre>[&#x27;idade&#x27;, &#x27;renda&#x27;, &#x27;tempo_trabalhado&#x27;, &#x27;nota_emprestimo&#x27;, &#x27;total_emprestado&#x27;, &#x27;taxa_juros&#x27;, &#x27;renda_alocada&#x27;, &#x27;devedora&#x27;, &#x27;relacionamento_bancario&#x27;]</pre></div></div></div><div class=\"sk-serial\"><div class=\"sk-item\"><div class=\"sk-estimator sk-toggleable\"><input class=\"sk-toggleable__control sk-hidden--visually\" id=\"sk-estimator-id-5\" type=\"checkbox\" ><label for=\"sk-estimator-id-5\" class=\"sk-toggleable__label sk-toggleable__label-arrow\">passthrough</label><div class=\"sk-toggleable__content\"><pre>passthrough</pre></div></div></div></div></div></div></div></div></div></div>"
            ],
            "text/plain": [
              "ColumnTransformer(remainder='passthrough',\n",
              "                  transformers=[('onehotencoder', OneHotEncoder(),\n",
              "                                 ['imovel', 'motivo_emprestimo'])])"
            ]
          },
          "execution_count": 67,
          "metadata": {},
          "output_type": "execute_result"
        }
      ],
      "source": [
        "one_hot_enc"
      ]
    },
    {
      "cell_type": "code",
      "execution_count": 70,
      "metadata": {
        "id": "Ma_rWu71yuh7"
      },
      "outputs": [],
      "source": [
        "\n",
        "#x.to_csv('dados_tratados.csv')  \n",
        "x.to_excel('dados_final1.xlsx')"
      ]
    },
    {
      "cell_type": "code",
      "execution_count": null,
      "metadata": {},
      "outputs": [],
      "source": []
    }
  ],
  "metadata": {
    "colab": {
      "collapsed_sections": [],
      "provenance": []
    },
    "kernelspec": {
      "display_name": "Python 3.9.12 ('base')",
      "language": "python",
      "name": "python3"
    },
    "language_info": {
      "codemirror_mode": {
        "name": "ipython",
        "version": 3
      },
      "file_extension": ".py",
      "mimetype": "text/x-python",
      "name": "python",
      "nbconvert_exporter": "python",
      "pygments_lexer": "ipython3",
      "version": "3.9.12"
    },
    "vscode": {
      "interpreter": {
        "hash": "c4f92193806e2908606a5f23edd55a5282f2f433b73b1c504507f9256ed9f0b4"
      }
    }
  },
  "nbformat": 4,
  "nbformat_minor": 0
}
