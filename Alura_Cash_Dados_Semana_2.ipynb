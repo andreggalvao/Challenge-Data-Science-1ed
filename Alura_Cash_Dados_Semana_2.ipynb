{
  "nbformat": 4,
  "nbformat_minor": 0,
  "metadata": {
    "colab": {
      "provenance": [],
      "collapsed_sections": [],
      "authorship_tag": "ABX9TyMr3IO0kelFUPnhPzSHl8fv",
      "include_colab_link": true
    },
    "kernelspec": {
      "name": "python3",
      "display_name": "Python 3"
    },
    "language_info": {
      "name": "python"
    }
  },
  "cells": [
    {
      "cell_type": "markdown",
      "metadata": {
        "id": "view-in-github",
        "colab_type": "text"
      },
      "source": [
        "<a href=\"https://colab.research.google.com/github/andreggalvao/Challenge-Data-Science-1ed/blob/main/Alura_Cash_Dados_Semana_2.ipynb\" target=\"_parent\"><img src=\"https://colab.research.google.com/assets/colab-badge.svg\" alt=\"Open In Colab\"/></a>"
      ]
    },
    {
      "cell_type": "markdown",
      "source": [
        "## Bibliotecas"
      ],
      "metadata": {
        "id": "bUk-UUAxfNrF"
      }
    },
    {
      "cell_type": "code",
      "execution_count": 1,
      "metadata": {
        "id": "T9ZLfpYzewpM"
      },
      "outputs": [],
      "source": [
        "import pandas as pd\n",
        "import seaborn as sns\n",
        "import matplotlib.pyplot as plt\n",
        "import numpy as np\n"
      ]
    },
    {
      "cell_type": "markdown",
      "source": [
        "## Importando dados"
      ],
      "metadata": {
        "id": "OhqTCSwcfTgH"
      }
    },
    {
      "cell_type": "code",
      "source": [
        "LINK = 'https://raw.githubusercontent.com/andreggalvao/Challenge-Data-Science-1ed/main/Dados/dados_juntos_ANDRE.csv'\n",
        "dados = pd.read_csv(LINK, sep = ',')\n",
        "dados.head()"
      ],
      "metadata": {
        "colab": {
          "base_uri": "https://localhost:8080/",
          "height": 357
        },
        "id": "FVfqXBZxfPs1",
        "outputId": "0f40b67d-2986-47fc-90bb-cfb9abe6b952"
      },
      "execution_count": 2,
      "outputs": [
        {
          "output_type": "execute_result",
          "data": {
            "text/plain": [
              "       person_id        loan_id          cb_id    person_id.1  person_age  \\\n",
              "0  YIHuehGl-eWpc  IHcxHFyD-ddZE  CRO9thKh-NYDn  YIHuehGl-eWpc        29.0   \n",
              "1  LmwskARR-HyA3  0YpSbTgj-CZKT  j3jnnG3T-iF3N  LmwskARR-HyA3        21.0   \n",
              "2  bRYeof0L-cqHI  0T2YFLWb-IZze  0Y1a64ag-4RLW  bRYeof0L-cqHI        30.0   \n",
              "3  F9a6bBd9-Xe2o  8HuvzhAq-k7Xi  L42AQtMx-SEGR  F9a6bBd9-Xe2o        27.0   \n",
              "4  hBn6Nj78-fvgu  w1JRom7y-y1od  2SebLJsQ-lj5F  hBn6Nj78-fvgu        26.0   \n",
              "\n",
              "   person_income person_home_ownership  person_emp_length      loan_id.1  \\\n",
              "0       175000.0              Mortgage                2.0  IHcxHFyD-ddZE   \n",
              "1        41900.0                  Rent                2.0  0YpSbTgj-CZKT   \n",
              "2       100000.0                  Rent               13.0  0T2YFLWb-IZze   \n",
              "3        68000.0                  Rent                4.0  8HuvzhAq-k7Xi   \n",
              "4        31200.0                  Rent                8.0  w1JRom7y-y1od   \n",
              "\n",
              "         loan_intent loan_grade  loan_amnt  loan_int_rate  loan_status  \\\n",
              "0    Homeimprovement          A    10000.0            NaN          0.0   \n",
              "1            Venture          C    16000.0          12.84          1.0   \n",
              "2  Debtconsolidation          A    12000.0           7.88          0.0   \n",
              "3    Homeimprovement          A     8700.0           7.88          0.0   \n",
              "4           Personal          A     5000.0           8.63          0.0   \n",
              "\n",
              "   loan_percent_income        cb_id.1 cb_person_default_on_file  \\\n",
              "0                 0.06  CRO9thKh-NYDn                         N   \n",
              "1                 0.38  j3jnnG3T-iF3N                         Y   \n",
              "2                 0.12  0Y1a64ag-4RLW                         N   \n",
              "3                 0.13  L42AQtMx-SEGR                         N   \n",
              "4                 0.16  2SebLJsQ-lj5F                         N   \n",
              "\n",
              "   cb_person_cred_hist_length  \n",
              "0                         9.0  \n",
              "1                         2.0  \n",
              "2                         9.0  \n",
              "3                         5.0  \n",
              "4                         2.0  "
            ],
            "text/html": [
              "\n",
              "  <div id=\"df-0dab7013-9dce-4b7b-828a-75b8ecfc73a3\">\n",
              "    <div class=\"colab-df-container\">\n",
              "      <div>\n",
              "<style scoped>\n",
              "    .dataframe tbody tr th:only-of-type {\n",
              "        vertical-align: middle;\n",
              "    }\n",
              "\n",
              "    .dataframe tbody tr th {\n",
              "        vertical-align: top;\n",
              "    }\n",
              "\n",
              "    .dataframe thead th {\n",
              "        text-align: right;\n",
              "    }\n",
              "</style>\n",
              "<table border=\"1\" class=\"dataframe\">\n",
              "  <thead>\n",
              "    <tr style=\"text-align: right;\">\n",
              "      <th></th>\n",
              "      <th>person_id</th>\n",
              "      <th>loan_id</th>\n",
              "      <th>cb_id</th>\n",
              "      <th>person_id.1</th>\n",
              "      <th>person_age</th>\n",
              "      <th>person_income</th>\n",
              "      <th>person_home_ownership</th>\n",
              "      <th>person_emp_length</th>\n",
              "      <th>loan_id.1</th>\n",
              "      <th>loan_intent</th>\n",
              "      <th>loan_grade</th>\n",
              "      <th>loan_amnt</th>\n",
              "      <th>loan_int_rate</th>\n",
              "      <th>loan_status</th>\n",
              "      <th>loan_percent_income</th>\n",
              "      <th>cb_id.1</th>\n",
              "      <th>cb_person_default_on_file</th>\n",
              "      <th>cb_person_cred_hist_length</th>\n",
              "    </tr>\n",
              "  </thead>\n",
              "  <tbody>\n",
              "    <tr>\n",
              "      <th>0</th>\n",
              "      <td>YIHuehGl-eWpc</td>\n",
              "      <td>IHcxHFyD-ddZE</td>\n",
              "      <td>CRO9thKh-NYDn</td>\n",
              "      <td>YIHuehGl-eWpc</td>\n",
              "      <td>29.0</td>\n",
              "      <td>175000.0</td>\n",
              "      <td>Mortgage</td>\n",
              "      <td>2.0</td>\n",
              "      <td>IHcxHFyD-ddZE</td>\n",
              "      <td>Homeimprovement</td>\n",
              "      <td>A</td>\n",
              "      <td>10000.0</td>\n",
              "      <td>NaN</td>\n",
              "      <td>0.0</td>\n",
              "      <td>0.06</td>\n",
              "      <td>CRO9thKh-NYDn</td>\n",
              "      <td>N</td>\n",
              "      <td>9.0</td>\n",
              "    </tr>\n",
              "    <tr>\n",
              "      <th>1</th>\n",
              "      <td>LmwskARR-HyA3</td>\n",
              "      <td>0YpSbTgj-CZKT</td>\n",
              "      <td>j3jnnG3T-iF3N</td>\n",
              "      <td>LmwskARR-HyA3</td>\n",
              "      <td>21.0</td>\n",
              "      <td>41900.0</td>\n",
              "      <td>Rent</td>\n",
              "      <td>2.0</td>\n",
              "      <td>0YpSbTgj-CZKT</td>\n",
              "      <td>Venture</td>\n",
              "      <td>C</td>\n",
              "      <td>16000.0</td>\n",
              "      <td>12.84</td>\n",
              "      <td>1.0</td>\n",
              "      <td>0.38</td>\n",
              "      <td>j3jnnG3T-iF3N</td>\n",
              "      <td>Y</td>\n",
              "      <td>2.0</td>\n",
              "    </tr>\n",
              "    <tr>\n",
              "      <th>2</th>\n",
              "      <td>bRYeof0L-cqHI</td>\n",
              "      <td>0T2YFLWb-IZze</td>\n",
              "      <td>0Y1a64ag-4RLW</td>\n",
              "      <td>bRYeof0L-cqHI</td>\n",
              "      <td>30.0</td>\n",
              "      <td>100000.0</td>\n",
              "      <td>Rent</td>\n",
              "      <td>13.0</td>\n",
              "      <td>0T2YFLWb-IZze</td>\n",
              "      <td>Debtconsolidation</td>\n",
              "      <td>A</td>\n",
              "      <td>12000.0</td>\n",
              "      <td>7.88</td>\n",
              "      <td>0.0</td>\n",
              "      <td>0.12</td>\n",
              "      <td>0Y1a64ag-4RLW</td>\n",
              "      <td>N</td>\n",
              "      <td>9.0</td>\n",
              "    </tr>\n",
              "    <tr>\n",
              "      <th>3</th>\n",
              "      <td>F9a6bBd9-Xe2o</td>\n",
              "      <td>8HuvzhAq-k7Xi</td>\n",
              "      <td>L42AQtMx-SEGR</td>\n",
              "      <td>F9a6bBd9-Xe2o</td>\n",
              "      <td>27.0</td>\n",
              "      <td>68000.0</td>\n",
              "      <td>Rent</td>\n",
              "      <td>4.0</td>\n",
              "      <td>8HuvzhAq-k7Xi</td>\n",
              "      <td>Homeimprovement</td>\n",
              "      <td>A</td>\n",
              "      <td>8700.0</td>\n",
              "      <td>7.88</td>\n",
              "      <td>0.0</td>\n",
              "      <td>0.13</td>\n",
              "      <td>L42AQtMx-SEGR</td>\n",
              "      <td>N</td>\n",
              "      <td>5.0</td>\n",
              "    </tr>\n",
              "    <tr>\n",
              "      <th>4</th>\n",
              "      <td>hBn6Nj78-fvgu</td>\n",
              "      <td>w1JRom7y-y1od</td>\n",
              "      <td>2SebLJsQ-lj5F</td>\n",
              "      <td>hBn6Nj78-fvgu</td>\n",
              "      <td>26.0</td>\n",
              "      <td>31200.0</td>\n",
              "      <td>Rent</td>\n",
              "      <td>8.0</td>\n",
              "      <td>w1JRom7y-y1od</td>\n",
              "      <td>Personal</td>\n",
              "      <td>A</td>\n",
              "      <td>5000.0</td>\n",
              "      <td>8.63</td>\n",
              "      <td>0.0</td>\n",
              "      <td>0.16</td>\n",
              "      <td>2SebLJsQ-lj5F</td>\n",
              "      <td>N</td>\n",
              "      <td>2.0</td>\n",
              "    </tr>\n",
              "  </tbody>\n",
              "</table>\n",
              "</div>\n",
              "      <button class=\"colab-df-convert\" onclick=\"convertToInteractive('df-0dab7013-9dce-4b7b-828a-75b8ecfc73a3')\"\n",
              "              title=\"Convert this dataframe to an interactive table.\"\n",
              "              style=\"display:none;\">\n",
              "        \n",
              "  <svg xmlns=\"http://www.w3.org/2000/svg\" height=\"24px\"viewBox=\"0 0 24 24\"\n",
              "       width=\"24px\">\n",
              "    <path d=\"M0 0h24v24H0V0z\" fill=\"none\"/>\n",
              "    <path d=\"M18.56 5.44l.94 2.06.94-2.06 2.06-.94-2.06-.94-.94-2.06-.94 2.06-2.06.94zm-11 1L8.5 8.5l.94-2.06 2.06-.94-2.06-.94L8.5 2.5l-.94 2.06-2.06.94zm10 10l.94 2.06.94-2.06 2.06-.94-2.06-.94-.94-2.06-.94 2.06-2.06.94z\"/><path d=\"M17.41 7.96l-1.37-1.37c-.4-.4-.92-.59-1.43-.59-.52 0-1.04.2-1.43.59L10.3 9.45l-7.72 7.72c-.78.78-.78 2.05 0 2.83L4 21.41c.39.39.9.59 1.41.59.51 0 1.02-.2 1.41-.59l7.78-7.78 2.81-2.81c.8-.78.8-2.07 0-2.86zM5.41 20L4 18.59l7.72-7.72 1.47 1.35L5.41 20z\"/>\n",
              "  </svg>\n",
              "      </button>\n",
              "      \n",
              "  <style>\n",
              "    .colab-df-container {\n",
              "      display:flex;\n",
              "      flex-wrap:wrap;\n",
              "      gap: 12px;\n",
              "    }\n",
              "\n",
              "    .colab-df-convert {\n",
              "      background-color: #E8F0FE;\n",
              "      border: none;\n",
              "      border-radius: 50%;\n",
              "      cursor: pointer;\n",
              "      display: none;\n",
              "      fill: #1967D2;\n",
              "      height: 32px;\n",
              "      padding: 0 0 0 0;\n",
              "      width: 32px;\n",
              "    }\n",
              "\n",
              "    .colab-df-convert:hover {\n",
              "      background-color: #E2EBFA;\n",
              "      box-shadow: 0px 1px 2px rgba(60, 64, 67, 0.3), 0px 1px 3px 1px rgba(60, 64, 67, 0.15);\n",
              "      fill: #174EA6;\n",
              "    }\n",
              "\n",
              "    [theme=dark] .colab-df-convert {\n",
              "      background-color: #3B4455;\n",
              "      fill: #D2E3FC;\n",
              "    }\n",
              "\n",
              "    [theme=dark] .colab-df-convert:hover {\n",
              "      background-color: #434B5C;\n",
              "      box-shadow: 0px 1px 3px 1px rgba(0, 0, 0, 0.15);\n",
              "      filter: drop-shadow(0px 1px 2px rgba(0, 0, 0, 0.3));\n",
              "      fill: #FFFFFF;\n",
              "    }\n",
              "  </style>\n",
              "\n",
              "      <script>\n",
              "        const buttonEl =\n",
              "          document.querySelector('#df-0dab7013-9dce-4b7b-828a-75b8ecfc73a3 button.colab-df-convert');\n",
              "        buttonEl.style.display =\n",
              "          google.colab.kernel.accessAllowed ? 'block' : 'none';\n",
              "\n",
              "        async function convertToInteractive(key) {\n",
              "          const element = document.querySelector('#df-0dab7013-9dce-4b7b-828a-75b8ecfc73a3');\n",
              "          const dataTable =\n",
              "            await google.colab.kernel.invokeFunction('convertToInteractive',\n",
              "                                                     [key], {});\n",
              "          if (!dataTable) return;\n",
              "\n",
              "          const docLinkHtml = 'Like what you see? Visit the ' +\n",
              "            '<a target=\"_blank\" href=https://colab.research.google.com/notebooks/data_table.ipynb>data table notebook</a>'\n",
              "            + ' to learn more about interactive tables.';\n",
              "          element.innerHTML = '';\n",
              "          dataTable['output_type'] = 'display_data';\n",
              "          await google.colab.output.renderOutput(dataTable, element);\n",
              "          const docLink = document.createElement('div');\n",
              "          docLink.innerHTML = docLinkHtml;\n",
              "          element.appendChild(docLink);\n",
              "        }\n",
              "      </script>\n",
              "    </div>\n",
              "  </div>\n",
              "  "
            ]
          },
          "metadata": {},
          "execution_count": 2
        }
      ]
    },
    {
      "cell_type": "markdown",
      "source": [
        "### Traduzindo e renomeando"
      ],
      "metadata": {
        "id": "ZxQk6y4sfn3d"
      }
    },
    {
      "cell_type": "code",
      "source": [
        "dados.drop(columns = ['person_id.1', 'loan_id.1', 'cb_id.1'], inplace = True)\n",
        "dados.rename(columns = {'person_id': 'id_pessoa',\n",
        "                        'loan_id': 'id_emprestimo',\n",
        "                        'cb_id': 'id_historico',\n",
        "                        'person_age' : 'idade',\n",
        "                        'person_income' : 'renda',\n",
        "                        'person_home_ownership' : 'imovel',\n",
        "                        'person_emp_length' : 'tempo_trabalhado',\n",
        "                        'loan_intent': 'motivo_emprestimo',\n",
        "                        'loan_grade' : 'nota_emprestimo',\n",
        "                        'loan_amnt' : 'total_emprestado',\n",
        "                        'loan_int_rate' : 'taxa_juros',\n",
        "                        'loan_status' : 'inadimplencia',\n",
        "                        'loan_percent_income' : 'renda_alocada',\n",
        "                        'cb_person_default_on_file' : 'devedora',\n",
        "                        'cb_person_cred_hist_length' : 'relacionamento_bancario'\n",
        "                        }, inplace = True)"
      ],
      "metadata": {
        "id": "fIO5rtyTfeRN"
      },
      "execution_count": 3,
      "outputs": []
    },
    {
      "cell_type": "code",
      "source": [
        "dados.imovel.value_counts()"
      ],
      "metadata": {
        "colab": {
          "base_uri": "https://localhost:8080/"
        },
        "id": "yQG_n7l_ffL-",
        "outputId": "b4eb3e70-82be-43a1-c330-4ee4fe9324ac"
      },
      "execution_count": 4,
      "outputs": [
        {
          "output_type": "execute_result",
          "data": {
            "text/plain": [
              "Rent        17243\n",
              "Mortgage    14100\n",
              "Own          2717\n",
              "Other         110\n",
              "Name: imovel, dtype: int64"
            ]
          },
          "metadata": {},
          "execution_count": 4
        }
      ]
    },
    {
      "cell_type": "code",
      "source": [
        "dados.replace({'Rent' : 'Alugado',\n",
        "               'Mortgage' : 'Financiado',\n",
        "               'Own' : 'Propria',\n",
        "               'Other' : 'Outro'},\n",
        "               inplace = True)"
      ],
      "metadata": {
        "id": "89TJ7Hgcfsu8"
      },
      "execution_count": 5,
      "outputs": []
    },
    {
      "cell_type": "code",
      "source": [
        "dados.motivo_emprestimo.value_counts()"
      ],
      "metadata": {
        "colab": {
          "base_uri": "https://localhost:8080/"
        },
        "id": "zJswQHagftq8",
        "outputId": "b2f585f1-8a08-4b59-96fc-1264f2e12360"
      },
      "execution_count": 6,
      "outputs": [
        {
          "output_type": "execute_result",
          "data": {
            "text/plain": [
              "Education            6774\n",
              "Medical              6380\n",
              "Venture              5977\n",
              "Personal             5782\n",
              "Debtconsolidation    5476\n",
              "Homeimprovement      3797\n",
              "Name: motivo_emprestimo, dtype: int64"
            ]
          },
          "metadata": {},
          "execution_count": 6
        }
      ]
    },
    {
      "cell_type": "code",
      "source": [
        "dados.motivo_emprestimo.value_counts()\n",
        "\n",
        "dados.replace({'Education' : 'Educacao',\n",
        "               'Medical' : 'Medico',\n",
        "               'Venture' : 'Empreendimento',\n",
        "               'Personal' : 'Pessoal',\n",
        "               'Debtconsolidation' : 'Dividas',\n",
        "               'Homeimprovement' : 'Reforma'},\n",
        "               inplace = True)\n"
      ],
      "metadata": {
        "id": "D1QSAIWifxl7"
      },
      "execution_count": 7,
      "outputs": []
    },
    {
      "cell_type": "markdown",
      "source": [
        "## Tratamento dos dados"
      ],
      "metadata": {
        "id": "OlbOrNhuf_JP"
      }
    },
    {
      "cell_type": "markdown",
      "source": [
        "*   Remoção dos nulos"
      ],
      "metadata": {
        "id": "3zQXlC-pgI1b"
      }
    },
    {
      "cell_type": "code",
      "source": [
        "dados.info()"
      ],
      "metadata": {
        "colab": {
          "base_uri": "https://localhost:8080/"
        },
        "id": "Wpt-iT8zfzG6",
        "outputId": "dd170ec7-2357-4b2d-ba05-f1a613b4e12d"
      },
      "execution_count": 8,
      "outputs": [
        {
          "output_type": "stream",
          "name": "stdout",
          "text": [
            "<class 'pandas.core.frame.DataFrame'>\n",
            "RangeIndex: 34501 entries, 0 to 34500\n",
            "Data columns (total 15 columns):\n",
            " #   Column                   Non-Null Count  Dtype  \n",
            "---  ------                   --------------  -----  \n",
            " 0   id_pessoa                34485 non-null  object \n",
            " 1   id_emprestimo            34501 non-null  object \n",
            " 2   id_historico             34501 non-null  object \n",
            " 3   idade                    34177 non-null  float64\n",
            " 4   renda                    34162 non-null  float64\n",
            " 5   imovel                   34170 non-null  object \n",
            " 6   tempo_trabalhado         33247 non-null  float64\n",
            " 7   motivo_emprestimo        34186 non-null  object \n",
            " 8   nota_emprestimo          34188 non-null  object \n",
            " 9   total_emprestado         34170 non-null  float64\n",
            " 10  taxa_juros               30871 non-null  float64\n",
            " 11  inadimplencia            34158 non-null  float64\n",
            " 12  renda_alocada            34182 non-null  float64\n",
            " 13  devedora                 34131 non-null  object \n",
            " 14  relacionamento_bancario  34497 non-null  float64\n",
            "dtypes: float64(8), object(7)\n",
            "memory usage: 3.9+ MB\n"
          ]
        }
      ]
    },
    {
      "cell_type": "code",
      "source": [
        "dados.isna().sum()"
      ],
      "metadata": {
        "colab": {
          "base_uri": "https://localhost:8080/"
        },
        "id": "Of7urGPqf-s6",
        "outputId": "ca3c7c92-205e-480b-f7b5-35f32d23dfb6"
      },
      "execution_count": 9,
      "outputs": [
        {
          "output_type": "execute_result",
          "data": {
            "text/plain": [
              "id_pessoa                    16\n",
              "id_emprestimo                 0\n",
              "id_historico                  0\n",
              "idade                       324\n",
              "renda                       339\n",
              "imovel                      331\n",
              "tempo_trabalhado           1254\n",
              "motivo_emprestimo           315\n",
              "nota_emprestimo             313\n",
              "total_emprestado            331\n",
              "taxa_juros                 3630\n",
              "inadimplencia               343\n",
              "renda_alocada               319\n",
              "devedora                    370\n",
              "relacionamento_bancario       4\n",
              "dtype: int64"
            ]
          },
          "metadata": {},
          "execution_count": 9
        }
      ]
    },
    {
      "cell_type": "code",
      "source": [
        "#removendo os NaN de ID\n",
        "dados.dropna(subset = ['id_pessoa'], inplace = True)\n",
        "# os IDs não me interessam uma vez que não vão me trazer informações para o modelo, todos seram removidos.\n",
        "dados.drop(columns = ['id_pessoa', 'id_emprestimo', 'id_historico'], inplace = True)"
      ],
      "metadata": {
        "id": "BxMcaoDsgVLf"
      },
      "execution_count": 10,
      "outputs": []
    },
    {
      "cell_type": "code",
      "source": [
        "# Aproveitando que os imoveis possuem uma categoria genérica como Outros, vamos utilizada para substituir os NaN.\n",
        "values = {'imovel': 'Outro', }\n",
        "#Deletaremos os NaN em seguida\n",
        "dados.fillna(value=values, inplace = True)"
      ],
      "metadata": {
        "id": "JcX6TRTspnO_"
      },
      "execution_count": 11,
      "outputs": []
    },
    {
      "cell_type": "code",
      "source": [
        "# Os nulos da taxa_juros representam mais de 10% do dataset, vamos realizar algumas operações para \"salvar\" linhas\n",
        "# A nota de um empréstimo está atrelada ao risco que é proporcionalmente a sua taxa de juros\n",
        "# Com base nisso vamos estudar os juros baseado nas notas\n",
        "taxa_juros_por_nota_mean = pd.crosstab(dados.nota_emprestimo,\n",
        "                         dados.motivo_emprestimo,\n",
        "                         aggfunc = ['mean'],\n",
        "                         values = dados.taxa_juros)\n",
        "\n",
        "taxa_juros_por_nota_mean.style.format('{:.2f}')\n",
        "\n"
      ],
      "metadata": {
        "colab": {
          "base_uri": "https://localhost:8080/",
          "height": 332
        },
        "id": "Gc3S8RjthD4D",
        "outputId": "a9c33afe-0b41-4ff7-fb56-c8863873afec"
      },
      "execution_count": 12,
      "outputs": [
        {
          "output_type": "execute_result",
          "data": {
            "text/plain": [
              "<pandas.io.formats.style.Styler at 0x7feaffbf5690>"
            ],
            "text/html": [
              "<style type=\"text/css\">\n",
              "</style>\n",
              "<table id=\"T_6919f_\" class=\"dataframe\">\n",
              "  <thead>\n",
              "    <tr>\n",
              "      <th class=\"blank level0\" >&nbsp;</th>\n",
              "      <th class=\"col_heading level0 col0\" colspan=\"6\">mean</th>\n",
              "    </tr>\n",
              "    <tr>\n",
              "      <th class=\"index_name level1\" >motivo_emprestimo</th>\n",
              "      <th class=\"col_heading level1 col0\" >Dividas</th>\n",
              "      <th class=\"col_heading level1 col1\" >Educacao</th>\n",
              "      <th class=\"col_heading level1 col2\" >Empreendimento</th>\n",
              "      <th class=\"col_heading level1 col3\" >Medico</th>\n",
              "      <th class=\"col_heading level1 col4\" >Pessoal</th>\n",
              "      <th class=\"col_heading level1 col5\" >Reforma</th>\n",
              "    </tr>\n",
              "    <tr>\n",
              "      <th class=\"index_name level0\" >nota_emprestimo</th>\n",
              "      <th class=\"blank col0\" >&nbsp;</th>\n",
              "      <th class=\"blank col1\" >&nbsp;</th>\n",
              "      <th class=\"blank col2\" >&nbsp;</th>\n",
              "      <th class=\"blank col3\" >&nbsp;</th>\n",
              "      <th class=\"blank col4\" >&nbsp;</th>\n",
              "      <th class=\"blank col5\" >&nbsp;</th>\n",
              "    </tr>\n",
              "  </thead>\n",
              "  <tbody>\n",
              "    <tr>\n",
              "      <th id=\"T_6919f_level0_row0\" class=\"row_heading level0 row0\" >A</th>\n",
              "      <td id=\"T_6919f_row0_col0\" class=\"data row0 col0\" >7.44</td>\n",
              "      <td id=\"T_6919f_row0_col1\" class=\"data row0 col1\" >7.45</td>\n",
              "      <td id=\"T_6919f_row0_col2\" class=\"data row0 col2\" >7.42</td>\n",
              "      <td id=\"T_6919f_row0_col3\" class=\"data row0 col3\" >7.47</td>\n",
              "      <td id=\"T_6919f_row0_col4\" class=\"data row0 col4\" >7.40</td>\n",
              "      <td id=\"T_6919f_row0_col5\" class=\"data row0 col5\" >7.36</td>\n",
              "    </tr>\n",
              "    <tr>\n",
              "      <th id=\"T_6919f_level0_row1\" class=\"row_heading level0 row1\" >B</th>\n",
              "      <td id=\"T_6919f_row1_col0\" class=\"data row1 col0\" >10.97</td>\n",
              "      <td id=\"T_6919f_row1_col1\" class=\"data row1 col1\" >11.00</td>\n",
              "      <td id=\"T_6919f_row1_col2\" class=\"data row1 col2\" >10.99</td>\n",
              "      <td id=\"T_6919f_row1_col3\" class=\"data row1 col3\" >10.99</td>\n",
              "      <td id=\"T_6919f_row1_col4\" class=\"data row1 col4\" >10.99</td>\n",
              "      <td id=\"T_6919f_row1_col5\" class=\"data row1 col5\" >11.00</td>\n",
              "    </tr>\n",
              "    <tr>\n",
              "      <th id=\"T_6919f_level0_row2\" class=\"row_heading level0 row2\" >C</th>\n",
              "      <td id=\"T_6919f_row2_col0\" class=\"data row2 col0\" >13.37</td>\n",
              "      <td id=\"T_6919f_row2_col1\" class=\"data row2 col1\" >13.36</td>\n",
              "      <td id=\"T_6919f_row2_col2\" class=\"data row2 col2\" >13.46</td>\n",
              "      <td id=\"T_6919f_row2_col3\" class=\"data row2 col3\" >13.38</td>\n",
              "      <td id=\"T_6919f_row2_col4\" class=\"data row2 col4\" >13.41</td>\n",
              "      <td id=\"T_6919f_row2_col5\" class=\"data row2 col5\" >13.33</td>\n",
              "    </tr>\n",
              "    <tr>\n",
              "      <th id=\"T_6919f_level0_row3\" class=\"row_heading level0 row3\" >D</th>\n",
              "      <td id=\"T_6919f_row3_col0\" class=\"data row3 col0\" >15.27</td>\n",
              "      <td id=\"T_6919f_row3_col1\" class=\"data row3 col1\" >15.20</td>\n",
              "      <td id=\"T_6919f_row3_col2\" class=\"data row3 col2\" >15.25</td>\n",
              "      <td id=\"T_6919f_row3_col3\" class=\"data row3 col3\" >15.34</td>\n",
              "      <td id=\"T_6919f_row3_col4\" class=\"data row3 col4\" >15.26</td>\n",
              "      <td id=\"T_6919f_row3_col5\" class=\"data row3 col5\" >15.15</td>\n",
              "    </tr>\n",
              "    <tr>\n",
              "      <th id=\"T_6919f_level0_row4\" class=\"row_heading level0 row4\" >E</th>\n",
              "      <td id=\"T_6919f_row4_col0\" class=\"data row4 col0\" >16.94</td>\n",
              "      <td id=\"T_6919f_row4_col1\" class=\"data row4 col1\" >16.77</td>\n",
              "      <td id=\"T_6919f_row4_col2\" class=\"data row4 col2\" >16.49</td>\n",
              "      <td id=\"T_6919f_row4_col3\" class=\"data row4 col3\" >16.84</td>\n",
              "      <td id=\"T_6919f_row4_col4\" class=\"data row4 col4\" >16.89</td>\n",
              "      <td id=\"T_6919f_row4_col5\" class=\"data row4 col5\" >17.07</td>\n",
              "    </tr>\n",
              "    <tr>\n",
              "      <th id=\"T_6919f_level0_row5\" class=\"row_heading level0 row5\" >F</th>\n",
              "      <td id=\"T_6919f_row5_col0\" class=\"data row5 col0\" >18.57</td>\n",
              "      <td id=\"T_6919f_row5_col1\" class=\"data row5 col1\" >18.23</td>\n",
              "      <td id=\"T_6919f_row5_col2\" class=\"data row5 col2\" >18.52</td>\n",
              "      <td id=\"T_6919f_row5_col3\" class=\"data row5 col3\" >18.37</td>\n",
              "      <td id=\"T_6919f_row5_col4\" class=\"data row5 col4\" >19.25</td>\n",
              "      <td id=\"T_6919f_row5_col5\" class=\"data row5 col5\" >18.08</td>\n",
              "    </tr>\n",
              "    <tr>\n",
              "      <th id=\"T_6919f_level0_row6\" class=\"row_heading level0 row6\" >G</th>\n",
              "      <td id=\"T_6919f_row6_col0\" class=\"data row6 col0\" >20.33</td>\n",
              "      <td id=\"T_6919f_row6_col1\" class=\"data row6 col1\" >20.08</td>\n",
              "      <td id=\"T_6919f_row6_col2\" class=\"data row6 col2\" >20.66</td>\n",
              "      <td id=\"T_6919f_row6_col3\" class=\"data row6 col3\" >20.29</td>\n",
              "      <td id=\"T_6919f_row6_col4\" class=\"data row6 col4\" >19.89</td>\n",
              "      <td id=\"T_6919f_row6_col5\" class=\"data row6 col5\" >20.17</td>\n",
              "    </tr>\n",
              "  </tbody>\n",
              "</table>\n"
            ]
          },
          "metadata": {},
          "execution_count": 12
        }
      ]
    },
    {
      "cell_type": "code",
      "source": [
        "taxa_juros_por_nota_std = pd.crosstab(dados.nota_emprestimo,\n",
        "                         dados.motivo_emprestimo,\n",
        "                         aggfunc = ['std'],\n",
        "                         values = dados.taxa_juros)\n",
        "\n",
        "taxa_juros_por_nota_std.style.format('{:.2f}')\n",
        "\n"
      ],
      "metadata": {
        "colab": {
          "base_uri": "https://localhost:8080/",
          "height": 332
        },
        "id": "JMP6aM9dsHbO",
        "outputId": "ee8d20d8-513c-4986-f032-66dfbb1375da"
      },
      "execution_count": 13,
      "outputs": [
        {
          "output_type": "execute_result",
          "data": {
            "text/plain": [
              "<pandas.io.formats.style.Styler at 0x7feb0162ad10>"
            ],
            "text/html": [
              "<style type=\"text/css\">\n",
              "</style>\n",
              "<table id=\"T_7f1af_\" class=\"dataframe\">\n",
              "  <thead>\n",
              "    <tr>\n",
              "      <th class=\"blank level0\" >&nbsp;</th>\n",
              "      <th class=\"col_heading level0 col0\" colspan=\"6\">std</th>\n",
              "    </tr>\n",
              "    <tr>\n",
              "      <th class=\"index_name level1\" >motivo_emprestimo</th>\n",
              "      <th class=\"col_heading level1 col0\" >Dividas</th>\n",
              "      <th class=\"col_heading level1 col1\" >Educacao</th>\n",
              "      <th class=\"col_heading level1 col2\" >Empreendimento</th>\n",
              "      <th class=\"col_heading level1 col3\" >Medico</th>\n",
              "      <th class=\"col_heading level1 col4\" >Pessoal</th>\n",
              "      <th class=\"col_heading level1 col5\" >Reforma</th>\n",
              "    </tr>\n",
              "    <tr>\n",
              "      <th class=\"index_name level0\" >nota_emprestimo</th>\n",
              "      <th class=\"blank col0\" >&nbsp;</th>\n",
              "      <th class=\"blank col1\" >&nbsp;</th>\n",
              "      <th class=\"blank col2\" >&nbsp;</th>\n",
              "      <th class=\"blank col3\" >&nbsp;</th>\n",
              "      <th class=\"blank col4\" >&nbsp;</th>\n",
              "      <th class=\"blank col5\" >&nbsp;</th>\n",
              "    </tr>\n",
              "  </thead>\n",
              "  <tbody>\n",
              "    <tr>\n",
              "      <th id=\"T_7f1af_level0_row0\" class=\"row_heading level0 row0\" >A</th>\n",
              "      <td id=\"T_7f1af_row0_col0\" class=\"data row0 col0\" >1.32</td>\n",
              "      <td id=\"T_7f1af_row0_col1\" class=\"data row0 col1\" >1.25</td>\n",
              "      <td id=\"T_7f1af_row0_col2\" class=\"data row0 col2\" >1.29</td>\n",
              "      <td id=\"T_7f1af_row0_col3\" class=\"data row0 col3\" >1.36</td>\n",
              "      <td id=\"T_7f1af_row0_col4\" class=\"data row0 col4\" >1.23</td>\n",
              "      <td id=\"T_7f1af_row0_col5\" class=\"data row0 col5\" >1.30</td>\n",
              "    </tr>\n",
              "    <tr>\n",
              "      <th id=\"T_7f1af_level0_row1\" class=\"row_heading level0 row1\" >B</th>\n",
              "      <td id=\"T_7f1af_row1_col0\" class=\"data row1 col0\" >1.08</td>\n",
              "      <td id=\"T_7f1af_row1_col1\" class=\"data row1 col1\" >1.07</td>\n",
              "      <td id=\"T_7f1af_row1_col2\" class=\"data row1 col2\" >1.01</td>\n",
              "      <td id=\"T_7f1af_row1_col3\" class=\"data row1 col3\" >1.08</td>\n",
              "      <td id=\"T_7f1af_row1_col4\" class=\"data row1 col4\" >1.04</td>\n",
              "      <td id=\"T_7f1af_row1_col5\" class=\"data row1 col5\" >1.01</td>\n",
              "    </tr>\n",
              "    <tr>\n",
              "      <th id=\"T_7f1af_level0_row2\" class=\"row_heading level0 row2\" >C</th>\n",
              "      <td id=\"T_7f1af_row2_col0\" class=\"data row2 col0\" >1.22</td>\n",
              "      <td id=\"T_7f1af_row2_col1\" class=\"data row2 col1\" >1.22</td>\n",
              "      <td id=\"T_7f1af_row2_col2\" class=\"data row2 col2\" >1.13</td>\n",
              "      <td id=\"T_7f1af_row2_col3\" class=\"data row2 col3\" >1.22</td>\n",
              "      <td id=\"T_7f1af_row2_col4\" class=\"data row2 col4\" >1.19</td>\n",
              "      <td id=\"T_7f1af_row2_col5\" class=\"data row2 col5\" >1.21</td>\n",
              "    </tr>\n",
              "    <tr>\n",
              "      <th id=\"T_7f1af_level0_row3\" class=\"row_heading level0 row3\" >D</th>\n",
              "      <td id=\"T_7f1af_row3_col0\" class=\"data row3 col0\" >1.48</td>\n",
              "      <td id=\"T_7f1af_row3_col1\" class=\"data row3 col1\" >1.38</td>\n",
              "      <td id=\"T_7f1af_row3_col2\" class=\"data row3 col2\" >1.45</td>\n",
              "      <td id=\"T_7f1af_row3_col3\" class=\"data row3 col3\" >1.26</td>\n",
              "      <td id=\"T_7f1af_row3_col4\" class=\"data row3 col4\" >1.46</td>\n",
              "      <td id=\"T_7f1af_row3_col5\" class=\"data row3 col5\" >1.41</td>\n",
              "    </tr>\n",
              "    <tr>\n",
              "      <th id=\"T_7f1af_level0_row4\" class=\"row_heading level0 row4\" >E</th>\n",
              "      <td id=\"T_7f1af_row4_col0\" class=\"data row4 col0\" >1.42</td>\n",
              "      <td id=\"T_7f1af_row4_col1\" class=\"data row4 col1\" >1.91</td>\n",
              "      <td id=\"T_7f1af_row4_col2\" class=\"data row4 col2\" >1.83</td>\n",
              "      <td id=\"T_7f1af_row4_col3\" class=\"data row4 col3\" >2.07</td>\n",
              "      <td id=\"T_7f1af_row4_col4\" class=\"data row4 col4\" >1.48</td>\n",
              "      <td id=\"T_7f1af_row4_col5\" class=\"data row4 col5\" >1.85</td>\n",
              "    </tr>\n",
              "    <tr>\n",
              "      <th id=\"T_7f1af_level0_row5\" class=\"row_heading level0 row5\" >F</th>\n",
              "      <td id=\"T_7f1af_row5_col0\" class=\"data row5 col0\" >1.35</td>\n",
              "      <td id=\"T_7f1af_row5_col1\" class=\"data row5 col1\" >1.86</td>\n",
              "      <td id=\"T_7f1af_row5_col2\" class=\"data row5 col2\" >2.18</td>\n",
              "      <td id=\"T_7f1af_row5_col3\" class=\"data row5 col3\" >1.50</td>\n",
              "      <td id=\"T_7f1af_row5_col4\" class=\"data row5 col4\" >1.20</td>\n",
              "      <td id=\"T_7f1af_row5_col5\" class=\"data row5 col5\" >1.42</td>\n",
              "    </tr>\n",
              "    <tr>\n",
              "      <th id=\"T_7f1af_level0_row6\" class=\"row_heading level0 row6\" >G</th>\n",
              "      <td id=\"T_7f1af_row6_col0\" class=\"data row6 col0\" >0.92</td>\n",
              "      <td id=\"T_7f1af_row6_col1\" class=\"data row6 col1\" >0.82</td>\n",
              "      <td id=\"T_7f1af_row6_col2\" class=\"data row6 col2\" >1.02</td>\n",
              "      <td id=\"T_7f1af_row6_col3\" class=\"data row6 col3\" >0.81</td>\n",
              "      <td id=\"T_7f1af_row6_col4\" class=\"data row6 col4\" >0.57</td>\n",
              "      <td id=\"T_7f1af_row6_col5\" class=\"data row6 col5\" >1.94</td>\n",
              "    </tr>\n",
              "  </tbody>\n",
              "</table>\n"
            ]
          },
          "metadata": {},
          "execution_count": 13
        }
      ]
    },
    {
      "cell_type": "code",
      "source": [
        "# os resultados nos mostram que há certo padrão de juros por nota e o desvio é pequeno.\n",
        "# vamos verificar se a justificativa implica em mudança nos valores\n",
        "\n",
        "dados.groupby(['motivo_emprestimo']).agg({'taxa_juros': ['mean', 'median', 'max', 'std']})\n"
      ],
      "metadata": {
        "colab": {
          "base_uri": "https://localhost:8080/",
          "height": 301
        },
        "id": "UJY_bRVErxzd",
        "outputId": "723a70d8-ed8e-4be8-efcf-b097d0cf1cf3"
      },
      "execution_count": 14,
      "outputs": [
        {
          "output_type": "execute_result",
          "data": {
            "text/plain": [
              "                  taxa_juros                        \n",
              "                        mean median    max       std\n",
              "motivo_emprestimo                                   \n",
              "Dividas            10.984931  10.99  22.11  3.262148\n",
              "Educacao           10.959092  10.99  21.74  3.190000\n",
              "Empreendimento     10.954141  10.99  22.48  3.222571\n",
              "Medico             11.053941  10.99  21.74  3.231814\n",
              "Pessoal            10.986074  10.99  21.74  3.223122\n",
              "Reforma            11.194842  11.14  23.22  3.352346"
            ],
            "text/html": [
              "\n",
              "  <div id=\"df-d032d369-d60e-463f-aad8-a8488a84a379\">\n",
              "    <div class=\"colab-df-container\">\n",
              "      <div>\n",
              "<style scoped>\n",
              "    .dataframe tbody tr th:only-of-type {\n",
              "        vertical-align: middle;\n",
              "    }\n",
              "\n",
              "    .dataframe tbody tr th {\n",
              "        vertical-align: top;\n",
              "    }\n",
              "\n",
              "    .dataframe thead tr th {\n",
              "        text-align: left;\n",
              "    }\n",
              "\n",
              "    .dataframe thead tr:last-of-type th {\n",
              "        text-align: right;\n",
              "    }\n",
              "</style>\n",
              "<table border=\"1\" class=\"dataframe\">\n",
              "  <thead>\n",
              "    <tr>\n",
              "      <th></th>\n",
              "      <th colspan=\"4\" halign=\"left\">taxa_juros</th>\n",
              "    </tr>\n",
              "    <tr>\n",
              "      <th></th>\n",
              "      <th>mean</th>\n",
              "      <th>median</th>\n",
              "      <th>max</th>\n",
              "      <th>std</th>\n",
              "    </tr>\n",
              "    <tr>\n",
              "      <th>motivo_emprestimo</th>\n",
              "      <th></th>\n",
              "      <th></th>\n",
              "      <th></th>\n",
              "      <th></th>\n",
              "    </tr>\n",
              "  </thead>\n",
              "  <tbody>\n",
              "    <tr>\n",
              "      <th>Dividas</th>\n",
              "      <td>10.984931</td>\n",
              "      <td>10.99</td>\n",
              "      <td>22.11</td>\n",
              "      <td>3.262148</td>\n",
              "    </tr>\n",
              "    <tr>\n",
              "      <th>Educacao</th>\n",
              "      <td>10.959092</td>\n",
              "      <td>10.99</td>\n",
              "      <td>21.74</td>\n",
              "      <td>3.190000</td>\n",
              "    </tr>\n",
              "    <tr>\n",
              "      <th>Empreendimento</th>\n",
              "      <td>10.954141</td>\n",
              "      <td>10.99</td>\n",
              "      <td>22.48</td>\n",
              "      <td>3.222571</td>\n",
              "    </tr>\n",
              "    <tr>\n",
              "      <th>Medico</th>\n",
              "      <td>11.053941</td>\n",
              "      <td>10.99</td>\n",
              "      <td>21.74</td>\n",
              "      <td>3.231814</td>\n",
              "    </tr>\n",
              "    <tr>\n",
              "      <th>Pessoal</th>\n",
              "      <td>10.986074</td>\n",
              "      <td>10.99</td>\n",
              "      <td>21.74</td>\n",
              "      <td>3.223122</td>\n",
              "    </tr>\n",
              "    <tr>\n",
              "      <th>Reforma</th>\n",
              "      <td>11.194842</td>\n",
              "      <td>11.14</td>\n",
              "      <td>23.22</td>\n",
              "      <td>3.352346</td>\n",
              "    </tr>\n",
              "  </tbody>\n",
              "</table>\n",
              "</div>\n",
              "      <button class=\"colab-df-convert\" onclick=\"convertToInteractive('df-d032d369-d60e-463f-aad8-a8488a84a379')\"\n",
              "              title=\"Convert this dataframe to an interactive table.\"\n",
              "              style=\"display:none;\">\n",
              "        \n",
              "  <svg xmlns=\"http://www.w3.org/2000/svg\" height=\"24px\"viewBox=\"0 0 24 24\"\n",
              "       width=\"24px\">\n",
              "    <path d=\"M0 0h24v24H0V0z\" fill=\"none\"/>\n",
              "    <path d=\"M18.56 5.44l.94 2.06.94-2.06 2.06-.94-2.06-.94-.94-2.06-.94 2.06-2.06.94zm-11 1L8.5 8.5l.94-2.06 2.06-.94-2.06-.94L8.5 2.5l-.94 2.06-2.06.94zm10 10l.94 2.06.94-2.06 2.06-.94-2.06-.94-.94-2.06-.94 2.06-2.06.94z\"/><path d=\"M17.41 7.96l-1.37-1.37c-.4-.4-.92-.59-1.43-.59-.52 0-1.04.2-1.43.59L10.3 9.45l-7.72 7.72c-.78.78-.78 2.05 0 2.83L4 21.41c.39.39.9.59 1.41.59.51 0 1.02-.2 1.41-.59l7.78-7.78 2.81-2.81c.8-.78.8-2.07 0-2.86zM5.41 20L4 18.59l7.72-7.72 1.47 1.35L5.41 20z\"/>\n",
              "  </svg>\n",
              "      </button>\n",
              "      \n",
              "  <style>\n",
              "    .colab-df-container {\n",
              "      display:flex;\n",
              "      flex-wrap:wrap;\n",
              "      gap: 12px;\n",
              "    }\n",
              "\n",
              "    .colab-df-convert {\n",
              "      background-color: #E8F0FE;\n",
              "      border: none;\n",
              "      border-radius: 50%;\n",
              "      cursor: pointer;\n",
              "      display: none;\n",
              "      fill: #1967D2;\n",
              "      height: 32px;\n",
              "      padding: 0 0 0 0;\n",
              "      width: 32px;\n",
              "    }\n",
              "\n",
              "    .colab-df-convert:hover {\n",
              "      background-color: #E2EBFA;\n",
              "      box-shadow: 0px 1px 2px rgba(60, 64, 67, 0.3), 0px 1px 3px 1px rgba(60, 64, 67, 0.15);\n",
              "      fill: #174EA6;\n",
              "    }\n",
              "\n",
              "    [theme=dark] .colab-df-convert {\n",
              "      background-color: #3B4455;\n",
              "      fill: #D2E3FC;\n",
              "    }\n",
              "\n",
              "    [theme=dark] .colab-df-convert:hover {\n",
              "      background-color: #434B5C;\n",
              "      box-shadow: 0px 1px 3px 1px rgba(0, 0, 0, 0.15);\n",
              "      filter: drop-shadow(0px 1px 2px rgba(0, 0, 0, 0.3));\n",
              "      fill: #FFFFFF;\n",
              "    }\n",
              "  </style>\n",
              "\n",
              "      <script>\n",
              "        const buttonEl =\n",
              "          document.querySelector('#df-d032d369-d60e-463f-aad8-a8488a84a379 button.colab-df-convert');\n",
              "        buttonEl.style.display =\n",
              "          google.colab.kernel.accessAllowed ? 'block' : 'none';\n",
              "\n",
              "        async function convertToInteractive(key) {\n",
              "          const element = document.querySelector('#df-d032d369-d60e-463f-aad8-a8488a84a379');\n",
              "          const dataTable =\n",
              "            await google.colab.kernel.invokeFunction('convertToInteractive',\n",
              "                                                     [key], {});\n",
              "          if (!dataTable) return;\n",
              "\n",
              "          const docLinkHtml = 'Like what you see? Visit the ' +\n",
              "            '<a target=\"_blank\" href=https://colab.research.google.com/notebooks/data_table.ipynb>data table notebook</a>'\n",
              "            + ' to learn more about interactive tables.';\n",
              "          element.innerHTML = '';\n",
              "          dataTable['output_type'] = 'display_data';\n",
              "          await google.colab.output.renderOutput(dataTable, element);\n",
              "          const docLink = document.createElement('div');\n",
              "          docLink.innerHTML = docLinkHtml;\n",
              "          element.appendChild(docLink);\n",
              "        }\n",
              "      </script>\n",
              "    </div>\n",
              "  </div>\n",
              "  "
            ]
          },
          "metadata": {},
          "execution_count": 14
        }
      ]
    },
    {
      "cell_type": "code",
      "source": [
        "# Sendo as médias das justificativas muito próximas, vamos apenas substituir as taxa de Juros NaN com as notas dadas (caso possua)\n",
        "\n",
        "dados.loc[(dados.nota_emprestimo == 'A') & (dados.taxa_juros.isna()), 'taxa_juros'] = taxa_juros_por_nota_mean.T.mean()[0]\n",
        "dados.loc[(dados.nota_emprestimo == 'B') & (dados.taxa_juros.isna()), 'taxa_juros'] = taxa_juros_por_nota_mean.T.mean()[1]\n",
        "dados.loc[(dados.nota_emprestimo == 'C') & (dados.taxa_juros.isna()), 'taxa_juros'] = taxa_juros_por_nota_mean.T.mean()[2]\n",
        "dados.loc[(dados.nota_emprestimo == 'D') & (dados.taxa_juros.isna()), 'taxa_juros'] = taxa_juros_por_nota_mean.T.mean()[3]\n",
        "dados.loc[(dados.nota_emprestimo == 'E') & (dados.taxa_juros.isna()), 'taxa_juros'] = taxa_juros_por_nota_mean.T.mean()[4]\n",
        "dados.loc[(dados.nota_emprestimo == 'F') & (dados.taxa_juros.isna()), 'taxa_juros'] = taxa_juros_por_nota_mean.T.mean()[5]\n",
        "dados.loc[(dados.nota_emprestimo == 'G') & (dados.taxa_juros.isna()), 'taxa_juros'] = taxa_juros_por_nota_mean.T.mean()[6]"
      ],
      "metadata": {
        "id": "d24UOOFzstt_"
      },
      "execution_count": 15,
      "outputs": []
    },
    {
      "cell_type": "code",
      "source": [
        "dados.isna().sum()"
      ],
      "metadata": {
        "colab": {
          "base_uri": "https://localhost:8080/"
        },
        "id": "EQTi5HUntBbZ",
        "outputId": "deacc5d0-e9ac-45d3-e91b-42eff32211e4"
      },
      "execution_count": 16,
      "outputs": [
        {
          "output_type": "execute_result",
          "data": {
            "text/plain": [
              "idade                       320\n",
              "renda                       335\n",
              "imovel                        0\n",
              "tempo_trabalhado           1254\n",
              "motivo_emprestimo           311\n",
              "nota_emprestimo             309\n",
              "total_emprestado            331\n",
              "taxa_juros                   61\n",
              "inadimplencia               343\n",
              "renda_alocada               315\n",
              "devedora                    366\n",
              "relacionamento_bancario       0\n",
              "dtype: int64"
            ]
          },
          "metadata": {},
          "execution_count": 16
        }
      ]
    },
    {
      "cell_type": "code",
      "source": [
        "# O percentual de renda alocada (renda_alocada) = renda / total_emprestado\n",
        "# Com isso podemos reverter algumas linhas nulas\n",
        "dados.loc[dados.renda_alocada.isna(), 'renda_alocada'] = (dados.total_emprestado / dados.renda).round(2) #corrigindo o renda alocada\n"
      ],
      "metadata": {
        "id": "YjxEPGzItPHq"
      },
      "execution_count": 17,
      "outputs": []
    },
    {
      "cell_type": "code",
      "source": [
        "# Para tratar o último caso de Nan com grande quantidade, vamos estimar o dado utilizando a média dos dados agrupados das outras idade\n",
        "\n",
        "dados.tempo_trabalhado.fillna(dados.groupby(['idade', 'relacionamento_bancario'])['tempo_trabalhado'].transform('median'), inplace=True)\n",
        "\n",
        "dados.isna().sum()\n"
      ],
      "metadata": {
        "colab": {
          "base_uri": "https://localhost:8080/"
        },
        "id": "fHxggzSer3_o",
        "outputId": "4ceda790-e8a8-4140-81b4-773754e464d9"
      },
      "execution_count": 18,
      "outputs": [
        {
          "output_type": "execute_result",
          "data": {
            "text/plain": [
              "idade                      320\n",
              "renda                      335\n",
              "imovel                       0\n",
              "tempo_trabalhado            73\n",
              "motivo_emprestimo          311\n",
              "nota_emprestimo            309\n",
              "total_emprestado           331\n",
              "taxa_juros                  61\n",
              "inadimplencia              343\n",
              "renda_alocada               56\n",
              "devedora                   366\n",
              "relacionamento_bancario      0\n",
              "dtype: int64"
            ]
          },
          "metadata": {},
          "execution_count": 18
        }
      ]
    },
    {
      "cell_type": "code",
      "source": [
        "# Por fim, vamos elimitar todos os NaN restantes\n",
        "\n",
        "dados.dropna(inplace = True)\n"
      ],
      "metadata": {
        "id": "JDXjKdFVtI-S"
      },
      "execution_count": 19,
      "outputs": []
    },
    {
      "cell_type": "code",
      "source": [
        "dados.info()"
      ],
      "metadata": {
        "colab": {
          "base_uri": "https://localhost:8080/"
        },
        "id": "i8QWgjyWtuus",
        "outputId": "39998b70-b103-4f95-b7e1-d4460de30f43"
      },
      "execution_count": 20,
      "outputs": [
        {
          "output_type": "stream",
          "name": "stdout",
          "text": [
            "<class 'pandas.core.frame.DataFrame'>\n",
            "Int64Index: 32833 entries, 0 to 34500\n",
            "Data columns (total 12 columns):\n",
            " #   Column                   Non-Null Count  Dtype  \n",
            "---  ------                   --------------  -----  \n",
            " 0   idade                    32833 non-null  float64\n",
            " 1   renda                    32833 non-null  float64\n",
            " 2   imovel                   32833 non-null  object \n",
            " 3   tempo_trabalhado         32833 non-null  float64\n",
            " 4   motivo_emprestimo        32833 non-null  object \n",
            " 5   nota_emprestimo          32833 non-null  object \n",
            " 6   total_emprestado         32833 non-null  float64\n",
            " 7   taxa_juros               32833 non-null  float64\n",
            " 8   inadimplencia            32833 non-null  float64\n",
            " 9   renda_alocada            32833 non-null  float64\n",
            " 10  devedora                 32833 non-null  object \n",
            " 11  relacionamento_bancario  32833 non-null  float64\n",
            "dtypes: float64(8), object(4)\n",
            "memory usage: 3.3+ MB\n"
          ]
        }
      ]
    },
    {
      "cell_type": "markdown",
      "source": [
        "\n",
        "*   Remoção de outliers\n",
        "\n",
        "\n"
      ],
      "metadata": {
        "id": "e88jS8K9t7X3"
      }
    },
    {
      "cell_type": "code",
      "source": [
        "dados.describe()"
      ],
      "metadata": {
        "colab": {
          "base_uri": "https://localhost:8080/",
          "height": 301
        },
        "id": "2FlfLhDXuEBS",
        "outputId": "fb9e70c1-f928-4c4a-bf5b-0ae9d4a662d7"
      },
      "execution_count": 21,
      "outputs": [
        {
          "output_type": "execute_result",
          "data": {
            "text/plain": [
              "              idade         renda  tempo_trabalhado  total_emprestado  \\\n",
              "count  32833.000000  3.283300e+04      32833.000000      32833.000000   \n",
              "mean      27.729084  6.608998e+04          4.768221       9590.750921   \n",
              "std        6.336082  6.194740e+04          4.084003       6321.679084   \n",
              "min       20.000000  4.000000e+03          0.000000        500.000000   \n",
              "25%       23.000000  3.850000e+04          2.000000       5000.000000   \n",
              "50%       26.000000  5.500000e+04          4.000000       8000.000000   \n",
              "75%       30.000000  7.920000e+04          7.000000      12200.000000   \n",
              "max      144.000000  6.000000e+06        123.000000      35000.000000   \n",
              "\n",
              "         taxa_juros  inadimplencia  renda_alocada  relacionamento_bancario  \n",
              "count  32833.000000   32833.000000   32833.000000             32833.000000  \n",
              "mean      11.007128       0.217891       0.170377                 5.802668  \n",
              "std        3.210405       0.412819       0.107263                 4.052840  \n",
              "min        5.420000       0.000000       0.000000                 2.000000  \n",
              "25%        7.880000       0.000000       0.090000                 3.000000  \n",
              "50%       10.990000       0.000000       0.150000                 4.000000  \n",
              "75%       13.384884       0.000000       0.230000                 8.000000  \n",
              "max       23.220000       1.000000       1.130000                30.000000  "
            ],
            "text/html": [
              "\n",
              "  <div id=\"df-7c3e6c42-03bf-40e3-880c-ec0c64fede8a\">\n",
              "    <div class=\"colab-df-container\">\n",
              "      <div>\n",
              "<style scoped>\n",
              "    .dataframe tbody tr th:only-of-type {\n",
              "        vertical-align: middle;\n",
              "    }\n",
              "\n",
              "    .dataframe tbody tr th {\n",
              "        vertical-align: top;\n",
              "    }\n",
              "\n",
              "    .dataframe thead th {\n",
              "        text-align: right;\n",
              "    }\n",
              "</style>\n",
              "<table border=\"1\" class=\"dataframe\">\n",
              "  <thead>\n",
              "    <tr style=\"text-align: right;\">\n",
              "      <th></th>\n",
              "      <th>idade</th>\n",
              "      <th>renda</th>\n",
              "      <th>tempo_trabalhado</th>\n",
              "      <th>total_emprestado</th>\n",
              "      <th>taxa_juros</th>\n",
              "      <th>inadimplencia</th>\n",
              "      <th>renda_alocada</th>\n",
              "      <th>relacionamento_bancario</th>\n",
              "    </tr>\n",
              "  </thead>\n",
              "  <tbody>\n",
              "    <tr>\n",
              "      <th>count</th>\n",
              "      <td>32833.000000</td>\n",
              "      <td>3.283300e+04</td>\n",
              "      <td>32833.000000</td>\n",
              "      <td>32833.000000</td>\n",
              "      <td>32833.000000</td>\n",
              "      <td>32833.000000</td>\n",
              "      <td>32833.000000</td>\n",
              "      <td>32833.000000</td>\n",
              "    </tr>\n",
              "    <tr>\n",
              "      <th>mean</th>\n",
              "      <td>27.729084</td>\n",
              "      <td>6.608998e+04</td>\n",
              "      <td>4.768221</td>\n",
              "      <td>9590.750921</td>\n",
              "      <td>11.007128</td>\n",
              "      <td>0.217891</td>\n",
              "      <td>0.170377</td>\n",
              "      <td>5.802668</td>\n",
              "    </tr>\n",
              "    <tr>\n",
              "      <th>std</th>\n",
              "      <td>6.336082</td>\n",
              "      <td>6.194740e+04</td>\n",
              "      <td>4.084003</td>\n",
              "      <td>6321.679084</td>\n",
              "      <td>3.210405</td>\n",
              "      <td>0.412819</td>\n",
              "      <td>0.107263</td>\n",
              "      <td>4.052840</td>\n",
              "    </tr>\n",
              "    <tr>\n",
              "      <th>min</th>\n",
              "      <td>20.000000</td>\n",
              "      <td>4.000000e+03</td>\n",
              "      <td>0.000000</td>\n",
              "      <td>500.000000</td>\n",
              "      <td>5.420000</td>\n",
              "      <td>0.000000</td>\n",
              "      <td>0.000000</td>\n",
              "      <td>2.000000</td>\n",
              "    </tr>\n",
              "    <tr>\n",
              "      <th>25%</th>\n",
              "      <td>23.000000</td>\n",
              "      <td>3.850000e+04</td>\n",
              "      <td>2.000000</td>\n",
              "      <td>5000.000000</td>\n",
              "      <td>7.880000</td>\n",
              "      <td>0.000000</td>\n",
              "      <td>0.090000</td>\n",
              "      <td>3.000000</td>\n",
              "    </tr>\n",
              "    <tr>\n",
              "      <th>50%</th>\n",
              "      <td>26.000000</td>\n",
              "      <td>5.500000e+04</td>\n",
              "      <td>4.000000</td>\n",
              "      <td>8000.000000</td>\n",
              "      <td>10.990000</td>\n",
              "      <td>0.000000</td>\n",
              "      <td>0.150000</td>\n",
              "      <td>4.000000</td>\n",
              "    </tr>\n",
              "    <tr>\n",
              "      <th>75%</th>\n",
              "      <td>30.000000</td>\n",
              "      <td>7.920000e+04</td>\n",
              "      <td>7.000000</td>\n",
              "      <td>12200.000000</td>\n",
              "      <td>13.384884</td>\n",
              "      <td>0.000000</td>\n",
              "      <td>0.230000</td>\n",
              "      <td>8.000000</td>\n",
              "    </tr>\n",
              "    <tr>\n",
              "      <th>max</th>\n",
              "      <td>144.000000</td>\n",
              "      <td>6.000000e+06</td>\n",
              "      <td>123.000000</td>\n",
              "      <td>35000.000000</td>\n",
              "      <td>23.220000</td>\n",
              "      <td>1.000000</td>\n",
              "      <td>1.130000</td>\n",
              "      <td>30.000000</td>\n",
              "    </tr>\n",
              "  </tbody>\n",
              "</table>\n",
              "</div>\n",
              "      <button class=\"colab-df-convert\" onclick=\"convertToInteractive('df-7c3e6c42-03bf-40e3-880c-ec0c64fede8a')\"\n",
              "              title=\"Convert this dataframe to an interactive table.\"\n",
              "              style=\"display:none;\">\n",
              "        \n",
              "  <svg xmlns=\"http://www.w3.org/2000/svg\" height=\"24px\"viewBox=\"0 0 24 24\"\n",
              "       width=\"24px\">\n",
              "    <path d=\"M0 0h24v24H0V0z\" fill=\"none\"/>\n",
              "    <path d=\"M18.56 5.44l.94 2.06.94-2.06 2.06-.94-2.06-.94-.94-2.06-.94 2.06-2.06.94zm-11 1L8.5 8.5l.94-2.06 2.06-.94-2.06-.94L8.5 2.5l-.94 2.06-2.06.94zm10 10l.94 2.06.94-2.06 2.06-.94-2.06-.94-.94-2.06-.94 2.06-2.06.94z\"/><path d=\"M17.41 7.96l-1.37-1.37c-.4-.4-.92-.59-1.43-.59-.52 0-1.04.2-1.43.59L10.3 9.45l-7.72 7.72c-.78.78-.78 2.05 0 2.83L4 21.41c.39.39.9.59 1.41.59.51 0 1.02-.2 1.41-.59l7.78-7.78 2.81-2.81c.8-.78.8-2.07 0-2.86zM5.41 20L4 18.59l7.72-7.72 1.47 1.35L5.41 20z\"/>\n",
              "  </svg>\n",
              "      </button>\n",
              "      \n",
              "  <style>\n",
              "    .colab-df-container {\n",
              "      display:flex;\n",
              "      flex-wrap:wrap;\n",
              "      gap: 12px;\n",
              "    }\n",
              "\n",
              "    .colab-df-convert {\n",
              "      background-color: #E8F0FE;\n",
              "      border: none;\n",
              "      border-radius: 50%;\n",
              "      cursor: pointer;\n",
              "      display: none;\n",
              "      fill: #1967D2;\n",
              "      height: 32px;\n",
              "      padding: 0 0 0 0;\n",
              "      width: 32px;\n",
              "    }\n",
              "\n",
              "    .colab-df-convert:hover {\n",
              "      background-color: #E2EBFA;\n",
              "      box-shadow: 0px 1px 2px rgba(60, 64, 67, 0.3), 0px 1px 3px 1px rgba(60, 64, 67, 0.15);\n",
              "      fill: #174EA6;\n",
              "    }\n",
              "\n",
              "    [theme=dark] .colab-df-convert {\n",
              "      background-color: #3B4455;\n",
              "      fill: #D2E3FC;\n",
              "    }\n",
              "\n",
              "    [theme=dark] .colab-df-convert:hover {\n",
              "      background-color: #434B5C;\n",
              "      box-shadow: 0px 1px 3px 1px rgba(0, 0, 0, 0.15);\n",
              "      filter: drop-shadow(0px 1px 2px rgba(0, 0, 0, 0.3));\n",
              "      fill: #FFFFFF;\n",
              "    }\n",
              "  </style>\n",
              "\n",
              "      <script>\n",
              "        const buttonEl =\n",
              "          document.querySelector('#df-7c3e6c42-03bf-40e3-880c-ec0c64fede8a button.colab-df-convert');\n",
              "        buttonEl.style.display =\n",
              "          google.colab.kernel.accessAllowed ? 'block' : 'none';\n",
              "\n",
              "        async function convertToInteractive(key) {\n",
              "          const element = document.querySelector('#df-7c3e6c42-03bf-40e3-880c-ec0c64fede8a');\n",
              "          const dataTable =\n",
              "            await google.colab.kernel.invokeFunction('convertToInteractive',\n",
              "                                                     [key], {});\n",
              "          if (!dataTable) return;\n",
              "\n",
              "          const docLinkHtml = 'Like what you see? Visit the ' +\n",
              "            '<a target=\"_blank\" href=https://colab.research.google.com/notebooks/data_table.ipynb>data table notebook</a>'\n",
              "            + ' to learn more about interactive tables.';\n",
              "          element.innerHTML = '';\n",
              "          dataTable['output_type'] = 'display_data';\n",
              "          await google.colab.output.renderOutput(dataTable, element);\n",
              "          const docLink = document.createElement('div');\n",
              "          docLink.innerHTML = docLinkHtml;\n",
              "          element.appendChild(docLink);\n",
              "        }\n",
              "      </script>\n",
              "    </div>\n",
              "  </div>\n",
              "  "
            ]
          },
          "metadata": {},
          "execution_count": 21
        }
      ]
    },
    {
      "cell_type": "code",
      "source": [
        "ax = sns.boxplot(data = dados.idade, orient = 'h', width = 0.3)\n",
        "ax.figure.set_size_inches(18, 5)\n",
        "ax.set_title('Idades', fontsize=20)\n",
        "ax"
      ],
      "metadata": {
        "colab": {
          "base_uri": "https://localhost:8080/",
          "height": 358
        },
        "id": "07VR3VREuR2A",
        "outputId": "f5f92c0e-9b60-495a-b733-42e65f40001e"
      },
      "execution_count": 22,
      "outputs": [
        {
          "output_type": "execute_result",
          "data": {
            "text/plain": [
              "<matplotlib.axes._subplots.AxesSubplot at 0x7feaff8007d0>"
            ]
          },
          "metadata": {},
          "execution_count": 22
        },
        {
          "output_type": "display_data",
          "data": {
            "text/plain": [
              "<Figure size 1296x360 with 1 Axes>"
            ],
            "image/png": "[encoded data removed]"
          },
          "metadata": {
            "needs_background": "light"
          }
        }
      ]
    },
    {
      "cell_type": "code",
      "source": [
        "#A busca nos mostrou idades ireais, podemos encarar como um erro de digitação e será deletado\n",
        "dados.drop(index = dados.query('idade > 100').index, inplace = True)"
      ],
      "metadata": {
        "id": "1QxRZjCduUQQ"
      },
      "execution_count": 23,
      "outputs": []
    },
    {
      "cell_type": "code",
      "source": [
        "ax = sns.boxplot(data = dados.tempo_trabalhado, orient = 'h', width = 0.3)\n",
        "ax.figure.set_size_inches(18, 5)\n",
        "ax.set_title('Tempo de trabalho', fontsize=20)\n",
        "ax"
      ],
      "metadata": {
        "colab": {
          "base_uri": "https://localhost:8080/",
          "height": 358
        },
        "id": "nZDqTmbzuUzt",
        "outputId": "9605bbe5-e760-4f72-dfc4-653dbcc29d1a"
      },
      "execution_count": 24,
      "outputs": [
        {
          "output_type": "execute_result",
          "data": {
            "text/plain": [
              "<matplotlib.axes._subplots.AxesSubplot at 0x7feaff6fb3d0>"
            ]
          },
          "metadata": {},
          "execution_count": 24
        },
        {
          "output_type": "display_data",
          "data": {
            "text/plain": [
              "<Figure size 1296x360 with 1 Axes>"
            ],
            "image/png": "[encoded data removed]"
          },
          "metadata": {
            "needs_background": "light"
          }
        }
      ]
    },
    {
      "cell_type": "code",
      "source": [
        "#A busca nos mostrou tempos de trabalho ireais, podemos encarar como um erro de digitação e será deletado\n",
        "dados.drop(index = dados.query('tempo_trabalhado > 100').index, inplace = True)"
      ],
      "metadata": {
        "id": "oZtAnlTUubuM"
      },
      "execution_count": 25,
      "outputs": []
    },
    {
      "cell_type": "code",
      "source": [
        "dados.describe().T"
      ],
      "metadata": {
        "colab": {
          "base_uri": "https://localhost:8080/",
          "height": 301
        },
        "id": "Hqr1Y6EdufBg",
        "outputId": "5758dca1-e563-42a3-d58c-edb96d9d624c"
      },
      "execution_count": 26,
      "outputs": [
        {
          "output_type": "execute_result",
          "data": {
            "text/plain": [
              "                           count          mean           std      min  \\\n",
              "idade                    32826.0     27.713032      6.193810    20.00   \n",
              "renda                    32826.0  65895.118290  52568.924131  4000.00   \n",
              "tempo_trabalhado         32826.0      4.760860      3.978550     0.00   \n",
              "total_emprestado         32826.0   9589.408548   6319.856230   500.00   \n",
              "taxa_juros               32826.0     11.006978      3.210482     5.42   \n",
              "inadimplencia            32826.0      0.217907      0.412830     0.00   \n",
              "renda_alocada            32826.0      0.170376      0.107236     0.00   \n",
              "relacionamento_bancario  32826.0      5.802565      4.051720     2.00   \n",
              "\n",
              "                              25%       50%           75%         max  \n",
              "idade                       23.00     26.00     30.000000       94.00  \n",
              "renda                    38500.00  55000.00  79200.000000  2039784.00  \n",
              "tempo_trabalhado             2.00      4.00      7.000000       41.00  \n",
              "total_emprestado          5000.00   8000.00  12200.000000    35000.00  \n",
              "taxa_juros                   7.88     10.99     13.384884       23.22  \n",
              "inadimplencia                0.00      0.00      0.000000        1.00  \n",
              "renda_alocada                0.09      0.15      0.230000        1.13  \n",
              "relacionamento_bancario      3.00      4.00      8.000000       30.00  "
            ],
            "text/html": [
              "\n",
              "  <div id=\"df-14d70642-79db-444a-84f6-d3437afbe98e\">\n",
              "    <div class=\"colab-df-container\">\n",
              "      <div>\n",
              "<style scoped>\n",
              "    .dataframe tbody tr th:only-of-type {\n",
              "        vertical-align: middle;\n",
              "    }\n",
              "\n",
              "    .dataframe tbody tr th {\n",
              "        vertical-align: top;\n",
              "    }\n",
              "\n",
              "    .dataframe thead th {\n",
              "        text-align: right;\n",
              "    }\n",
              "</style>\n",
              "<table border=\"1\" class=\"dataframe\">\n",
              "  <thead>\n",
              "    <tr style=\"text-align: right;\">\n",
              "      <th></th>\n",
              "      <th>count</th>\n",
              "      <th>mean</th>\n",
              "      <th>std</th>\n",
              "      <th>min</th>\n",
              "      <th>25%</th>\n",
              "      <th>50%</th>\n",
              "      <th>75%</th>\n",
              "      <th>max</th>\n",
              "    </tr>\n",
              "  </thead>\n",
              "  <tbody>\n",
              "    <tr>\n",
              "      <th>idade</th>\n",
              "      <td>32826.0</td>\n",
              "      <td>27.713032</td>\n",
              "      <td>6.193810</td>\n",
              "      <td>20.00</td>\n",
              "      <td>23.00</td>\n",
              "      <td>26.00</td>\n",
              "      <td>30.000000</td>\n",
              "      <td>94.00</td>\n",
              "    </tr>\n",
              "    <tr>\n",
              "      <th>renda</th>\n",
              "      <td>32826.0</td>\n",
              "      <td>65895.118290</td>\n",
              "      <td>52568.924131</td>\n",
              "      <td>4000.00</td>\n",
              "      <td>38500.00</td>\n",
              "      <td>55000.00</td>\n",
              "      <td>79200.000000</td>\n",
              "      <td>2039784.00</td>\n",
              "    </tr>\n",
              "    <tr>\n",
              "      <th>tempo_trabalhado</th>\n",
              "      <td>32826.0</td>\n",
              "      <td>4.760860</td>\n",
              "      <td>3.978550</td>\n",
              "      <td>0.00</td>\n",
              "      <td>2.00</td>\n",
              "      <td>4.00</td>\n",
              "      <td>7.000000</td>\n",
              "      <td>41.00</td>\n",
              "    </tr>\n",
              "    <tr>\n",
              "      <th>total_emprestado</th>\n",
              "      <td>32826.0</td>\n",
              "      <td>9589.408548</td>\n",
              "      <td>6319.856230</td>\n",
              "      <td>500.00</td>\n",
              "      <td>5000.00</td>\n",
              "      <td>8000.00</td>\n",
              "      <td>12200.000000</td>\n",
              "      <td>35000.00</td>\n",
              "    </tr>\n",
              "    <tr>\n",
              "      <th>taxa_juros</th>\n",
              "      <td>32826.0</td>\n",
              "      <td>11.006978</td>\n",
              "      <td>3.210482</td>\n",
              "      <td>5.42</td>\n",
              "      <td>7.88</td>\n",
              "      <td>10.99</td>\n",
              "      <td>13.384884</td>\n",
              "      <td>23.22</td>\n",
              "    </tr>\n",
              "    <tr>\n",
              "      <th>inadimplencia</th>\n",
              "      <td>32826.0</td>\n",
              "      <td>0.217907</td>\n",
              "      <td>0.412830</td>\n",
              "      <td>0.00</td>\n",
              "      <td>0.00</td>\n",
              "      <td>0.00</td>\n",
              "      <td>0.000000</td>\n",
              "      <td>1.00</td>\n",
              "    </tr>\n",
              "    <tr>\n",
              "      <th>renda_alocada</th>\n",
              "      <td>32826.0</td>\n",
              "      <td>0.170376</td>\n",
              "      <td>0.107236</td>\n",
              "      <td>0.00</td>\n",
              "      <td>0.09</td>\n",
              "      <td>0.15</td>\n",
              "      <td>0.230000</td>\n",
              "      <td>1.13</td>\n",
              "    </tr>\n",
              "    <tr>\n",
              "      <th>relacionamento_bancario</th>\n",
              "      <td>32826.0</td>\n",
              "      <td>5.802565</td>\n",
              "      <td>4.051720</td>\n",
              "      <td>2.00</td>\n",
              "      <td>3.00</td>\n",
              "      <td>4.00</td>\n",
              "      <td>8.000000</td>\n",
              "      <td>30.00</td>\n",
              "    </tr>\n",
              "  </tbody>\n",
              "</table>\n",
              "</div>\n",
              "      <button class=\"colab-df-convert\" onclick=\"convertToInteractive('df-14d70642-79db-444a-84f6-d3437afbe98e')\"\n",
              "              title=\"Convert this dataframe to an interactive table.\"\n",
              "              style=\"display:none;\">\n",
              "        \n",
              "  <svg xmlns=\"http://www.w3.org/2000/svg\" height=\"24px\"viewBox=\"0 0 24 24\"\n",
              "       width=\"24px\">\n",
              "    <path d=\"M0 0h24v24H0V0z\" fill=\"none\"/>\n",
              "    <path d=\"M18.56 5.44l.94 2.06.94-2.06 2.06-.94-2.06-.94-.94-2.06-.94 2.06-2.06.94zm-11 1L8.5 8.5l.94-2.06 2.06-.94-2.06-.94L8.5 2.5l-.94 2.06-2.06.94zm10 10l.94 2.06.94-2.06 2.06-.94-2.06-.94-.94-2.06-.94 2.06-2.06.94z\"/><path d=\"M17.41 7.96l-1.37-1.37c-.4-.4-.92-.59-1.43-.59-.52 0-1.04.2-1.43.59L10.3 9.45l-7.72 7.72c-.78.78-.78 2.05 0 2.83L4 21.41c.39.39.9.59 1.41.59.51 0 1.02-.2 1.41-.59l7.78-7.78 2.81-2.81c.8-.78.8-2.07 0-2.86zM5.41 20L4 18.59l7.72-7.72 1.47 1.35L5.41 20z\"/>\n",
              "  </svg>\n",
              "      </button>\n",
              "      \n",
              "  <style>\n",
              "    .colab-df-container {\n",
              "      display:flex;\n",
              "      flex-wrap:wrap;\n",
              "      gap: 12px;\n",
              "    }\n",
              "\n",
              "    .colab-df-convert {\n",
              "      background-color: #E8F0FE;\n",
              "      border: none;\n",
              "      border-radius: 50%;\n",
              "      cursor: pointer;\n",
              "      display: none;\n",
              "      fill: #1967D2;\n",
              "      height: 32px;\n",
              "      padding: 0 0 0 0;\n",
              "      width: 32px;\n",
              "    }\n",
              "\n",
              "    .colab-df-convert:hover {\n",
              "      background-color: #E2EBFA;\n",
              "      box-shadow: 0px 1px 2px rgba(60, 64, 67, 0.3), 0px 1px 3px 1px rgba(60, 64, 67, 0.15);\n",
              "      fill: #174EA6;\n",
              "    }\n",
              "\n",
              "    [theme=dark] .colab-df-convert {\n",
              "      background-color: #3B4455;\n",
              "      fill: #D2E3FC;\n",
              "    }\n",
              "\n",
              "    [theme=dark] .colab-df-convert:hover {\n",
              "      background-color: #434B5C;\n",
              "      box-shadow: 0px 1px 3px 1px rgba(0, 0, 0, 0.15);\n",
              "      filter: drop-shadow(0px 1px 2px rgba(0, 0, 0, 0.3));\n",
              "      fill: #FFFFFF;\n",
              "    }\n",
              "  </style>\n",
              "\n",
              "      <script>\n",
              "        const buttonEl =\n",
              "          document.querySelector('#df-14d70642-79db-444a-84f6-d3437afbe98e button.colab-df-convert');\n",
              "        buttonEl.style.display =\n",
              "          google.colab.kernel.accessAllowed ? 'block' : 'none';\n",
              "\n",
              "        async function convertToInteractive(key) {\n",
              "          const element = document.querySelector('#df-14d70642-79db-444a-84f6-d3437afbe98e');\n",
              "          const dataTable =\n",
              "            await google.colab.kernel.invokeFunction('convertToInteractive',\n",
              "                                                     [key], {});\n",
              "          if (!dataTable) return;\n",
              "\n",
              "          const docLinkHtml = 'Like what you see? Visit the ' +\n",
              "            '<a target=\"_blank\" href=https://colab.research.google.com/notebooks/data_table.ipynb>data table notebook</a>'\n",
              "            + ' to learn more about interactive tables.';\n",
              "          element.innerHTML = '';\n",
              "          dataTable['output_type'] = 'display_data';\n",
              "          await google.colab.output.renderOutput(dataTable, element);\n",
              "          const docLink = document.createElement('div');\n",
              "          docLink.innerHTML = docLinkHtml;\n",
              "          element.appendChild(docLink);\n",
              "        }\n",
              "      </script>\n",
              "    </div>\n",
              "  </div>\n",
              "  "
            ]
          },
          "metadata": {},
          "execution_count": 26
        }
      ]
    },
    {
      "cell_type": "markdown",
      "source": [
        "* Correlação"
      ],
      "metadata": {
        "id": "CESuEzM-yYnD"
      }
    },
    {
      "cell_type": "code",
      "source": [
        "corr = dados.corr()\n",
        "plt.subplots(figsize=(15, 15))\n",
        "sns.heatmap(corr, square = True, annot = True, cmap = 'Blues', linewidths = 0.25)"
      ],
      "metadata": {
        "colab": {
          "base_uri": "https://localhost:8080/",
          "height": 928
        },
        "id": "_wztrQdSybi3",
        "outputId": "430cb5b4-0e17-451d-ceea-f70409d04103"
      },
      "execution_count": 27,
      "outputs": [
        {
          "output_type": "execute_result",
          "data": {
            "text/plain": [
              "<matplotlib.axes._subplots.AxesSubplot at 0x7feaff252590>"
            ]
          },
          "metadata": {},
          "execution_count": 27
        },
        {
          "output_type": "display_data",
          "data": {
            "text/plain": [
              "<Figure size 1080x1080 with 2 Axes>"
            ],
            "image/png": "[encoded data removed]"
          },
          "metadata": {
            "needs_background": "light"
          }
        }
      ]
    },
    {
      "cell_type": "markdown",
      "source": [
        "\n",
        "\n",
        "### Encoding das variáveis categóricas\n"
      ],
      "metadata": {
        "id": "jVnVZzx0wAT5"
      }
    },
    {
      "cell_type": "code",
      "source": [
        "dados.columns"
      ],
      "metadata": {
        "colab": {
          "base_uri": "https://localhost:8080/"
        },
        "id": "hb5bZb-QuzOk",
        "outputId": "7e12bc6a-7a91-4219-c08d-c876301a5449"
      },
      "execution_count": 28,
      "outputs": [
        {
          "output_type": "execute_result",
          "data": {
            "text/plain": [
              "Index(['idade', 'renda', 'imovel', 'tempo_trabalhado', 'motivo_emprestimo',\n",
              "       'nota_emprestimo', 'total_emprestado', 'taxa_juros', 'inadimplencia',\n",
              "       'renda_alocada', 'devedora', 'relacionamento_bancario'],\n",
              "      dtype='object')"
            ]
          },
          "metadata": {},
          "execution_count": 28
        }
      ]
    },
    {
      "cell_type": "code",
      "source": [
        "dados[['imovel', 'motivo_emprestimo', 'nota_emprestimo', 'devedora']]"
      ],
      "metadata": {
        "colab": {
          "base_uri": "https://localhost:8080/",
          "height": 424
        },
        "id": "A4VAj-Q8wV9y",
        "outputId": "60395be9-5fd7-42f0-e4d0-00e42bf418f4"
      },
      "execution_count": 29,
      "outputs": [
        {
          "output_type": "execute_result",
          "data": {
            "text/plain": [
              "           imovel motivo_emprestimo nota_emprestimo devedora\n",
              "0      Financiado           Reforma               A        N\n",
              "1         Alugado    Empreendimento               C        Y\n",
              "2         Alugado           Dividas               A        N\n",
              "3         Alugado           Reforma               A        N\n",
              "4         Alugado           Pessoal               A        N\n",
              "...           ...               ...             ...      ...\n",
              "34496     Alugado            Medico               B        N\n",
              "34497     Alugado           Dividas               D        Y\n",
              "34498     Propria    Empreendimento               C        Y\n",
              "34499     Alugado            Medico               B        N\n",
              "34500  Financiado          Educacao               C        Y\n",
              "\n",
              "[32826 rows x 4 columns]"
            ],
            "text/html": [
              "\n",
              "  <div id=\"df-52009607-6067-47a3-9b65-f209503e7bc0\">\n",
              "    <div class=\"colab-df-container\">\n",
              "      <div>\n",
              "<style scoped>\n",
              "    .dataframe tbody tr th:only-of-type {\n",
              "        vertical-align: middle;\n",
              "    }\n",
              "\n",
              "    .dataframe tbody tr th {\n",
              "        vertical-align: top;\n",
              "    }\n",
              "\n",
              "    .dataframe thead th {\n",
              "        text-align: right;\n",
              "    }\n",
              "</style>\n",
              "<table border=\"1\" class=\"dataframe\">\n",
              "  <thead>\n",
              "    <tr style=\"text-align: right;\">\n",
              "      <th></th>\n",
              "      <th>imovel</th>\n",
              "      <th>motivo_emprestimo</th>\n",
              "      <th>nota_emprestimo</th>\n",
              "      <th>devedora</th>\n",
              "    </tr>\n",
              "  </thead>\n",
              "  <tbody>\n",
              "    <tr>\n",
              "      <th>0</th>\n",
              "      <td>Financiado</td>\n",
              "      <td>Reforma</td>\n",
              "      <td>A</td>\n",
              "      <td>N</td>\n",
              "    </tr>\n",
              "    <tr>\n",
              "      <th>1</th>\n",
              "      <td>Alugado</td>\n",
              "      <td>Empreendimento</td>\n",
              "      <td>C</td>\n",
              "      <td>Y</td>\n",
              "    </tr>\n",
              "    <tr>\n",
              "      <th>2</th>\n",
              "      <td>Alugado</td>\n",
              "      <td>Dividas</td>\n",
              "      <td>A</td>\n",
              "      <td>N</td>\n",
              "    </tr>\n",
              "    <tr>\n",
              "      <th>3</th>\n",
              "      <td>Alugado</td>\n",
              "      <td>Reforma</td>\n",
              "      <td>A</td>\n",
              "      <td>N</td>\n",
              "    </tr>\n",
              "    <tr>\n",
              "      <th>4</th>\n",
              "      <td>Alugado</td>\n",
              "      <td>Pessoal</td>\n",
              "      <td>A</td>\n",
              "      <td>N</td>\n",
              "    </tr>\n",
              "    <tr>\n",
              "      <th>...</th>\n",
              "      <td>...</td>\n",
              "      <td>...</td>\n",
              "      <td>...</td>\n",
              "      <td>...</td>\n",
              "    </tr>\n",
              "    <tr>\n",
              "      <th>34496</th>\n",
              "      <td>Alugado</td>\n",
              "      <td>Medico</td>\n",
              "      <td>B</td>\n",
              "      <td>N</td>\n",
              "    </tr>\n",
              "    <tr>\n",
              "      <th>34497</th>\n",
              "      <td>Alugado</td>\n",
              "      <td>Dividas</td>\n",
              "      <td>D</td>\n",
              "      <td>Y</td>\n",
              "    </tr>\n",
              "    <tr>\n",
              "      <th>34498</th>\n",
              "      <td>Propria</td>\n",
              "      <td>Empreendimento</td>\n",
              "      <td>C</td>\n",
              "      <td>Y</td>\n",
              "    </tr>\n",
              "    <tr>\n",
              "      <th>34499</th>\n",
              "      <td>Alugado</td>\n",
              "      <td>Medico</td>\n",
              "      <td>B</td>\n",
              "      <td>N</td>\n",
              "    </tr>\n",
              "    <tr>\n",
              "      <th>34500</th>\n",
              "      <td>Financiado</td>\n",
              "      <td>Educacao</td>\n",
              "      <td>C</td>\n",
              "      <td>Y</td>\n",
              "    </tr>\n",
              "  </tbody>\n",
              "</table>\n",
              "<p>32826 rows × 4 columns</p>\n",
              "</div>\n",
              "      <button class=\"colab-df-convert\" onclick=\"convertToInteractive('df-52009607-6067-47a3-9b65-f209503e7bc0')\"\n",
              "              title=\"Convert this dataframe to an interactive table.\"\n",
              "              style=\"display:none;\">\n",
              "        \n",
              "  <svg xmlns=\"http://www.w3.org/2000/svg\" height=\"24px\"viewBox=\"0 0 24 24\"\n",
              "       width=\"24px\">\n",
              "    <path d=\"M0 0h24v24H0V0z\" fill=\"none\"/>\n",
              "    <path d=\"M18.56 5.44l.94 2.06.94-2.06 2.06-.94-2.06-.94-.94-2.06-.94 2.06-2.06.94zm-11 1L8.5 8.5l.94-2.06 2.06-.94-2.06-.94L8.5 2.5l-.94 2.06-2.06.94zm10 10l.94 2.06.94-2.06 2.06-.94-2.06-.94-.94-2.06-.94 2.06-2.06.94z\"/><path d=\"M17.41 7.96l-1.37-1.37c-.4-.4-.92-.59-1.43-.59-.52 0-1.04.2-1.43.59L10.3 9.45l-7.72 7.72c-.78.78-.78 2.05 0 2.83L4 21.41c.39.39.9.59 1.41.59.51 0 1.02-.2 1.41-.59l7.78-7.78 2.81-2.81c.8-.78.8-2.07 0-2.86zM5.41 20L4 18.59l7.72-7.72 1.47 1.35L5.41 20z\"/>\n",
              "  </svg>\n",
              "      </button>\n",
              "      \n",
              "  <style>\n",
              "    .colab-df-container {\n",
              "      display:flex;\n",
              "      flex-wrap:wrap;\n",
              "      gap: 12px;\n",
              "    }\n",
              "\n",
              "    .colab-df-convert {\n",
              "      background-color: #E8F0FE;\n",
              "      border: none;\n",
              "      border-radius: 50%;\n",
              "      cursor: pointer;\n",
              "      display: none;\n",
              "      fill: #1967D2;\n",
              "      height: 32px;\n",
              "      padding: 0 0 0 0;\n",
              "      width: 32px;\n",
              "    }\n",
              "\n",
              "    .colab-df-convert:hover {\n",
              "      background-color: #E2EBFA;\n",
              "      box-shadow: 0px 1px 2px rgba(60, 64, 67, 0.3), 0px 1px 3px 1px rgba(60, 64, 67, 0.15);\n",
              "      fill: #174EA6;\n",
              "    }\n",
              "\n",
              "    [theme=dark] .colab-df-convert {\n",
              "      background-color: #3B4455;\n",
              "      fill: #D2E3FC;\n",
              "    }\n",
              "\n",
              "    [theme=dark] .colab-df-convert:hover {\n",
              "      background-color: #434B5C;\n",
              "      box-shadow: 0px 1px 3px 1px rgba(0, 0, 0, 0.15);\n",
              "      filter: drop-shadow(0px 1px 2px rgba(0, 0, 0, 0.3));\n",
              "      fill: #FFFFFF;\n",
              "    }\n",
              "  </style>\n",
              "\n",
              "      <script>\n",
              "        const buttonEl =\n",
              "          document.querySelector('#df-52009607-6067-47a3-9b65-f209503e7bc0 button.colab-df-convert');\n",
              "        buttonEl.style.display =\n",
              "          google.colab.kernel.accessAllowed ? 'block' : 'none';\n",
              "\n",
              "        async function convertToInteractive(key) {\n",
              "          const element = document.querySelector('#df-52009607-6067-47a3-9b65-f209503e7bc0');\n",
              "          const dataTable =\n",
              "            await google.colab.kernel.invokeFunction('convertToInteractive',\n",
              "                                                     [key], {});\n",
              "          if (!dataTable) return;\n",
              "\n",
              "          const docLinkHtml = 'Like what you see? Visit the ' +\n",
              "            '<a target=\"_blank\" href=https://colab.research.google.com/notebooks/data_table.ipynb>data table notebook</a>'\n",
              "            + ' to learn more about interactive tables.';\n",
              "          element.innerHTML = '';\n",
              "          dataTable['output_type'] = 'display_data';\n",
              "          await google.colab.output.renderOutput(dataTable, element);\n",
              "          const docLink = document.createElement('div');\n",
              "          docLink.innerHTML = docLinkHtml;\n",
              "          element.appendChild(docLink);\n",
              "        }\n",
              "      </script>\n",
              "    </div>\n",
              "  </div>\n",
              "  "
            ]
          },
          "metadata": {},
          "execution_count": 29
        }
      ]
    },
    {
      "cell_type": "code",
      "source": [
        "dicionario = {\n",
        "    #substituindo os dados da devedora\n",
        "    'N': 0,\n",
        "    'Y': 1,\n",
        "\n",
        "    #substituindo as notas dos empréstimos\n",
        "    'A': 0,\n",
        "    'B': 1,\n",
        "    'C': 2,\n",
        "    'D': 3,\n",
        "    'E': 4,\n",
        "    'F': 5,\n",
        "    'G': 6\n",
        "}\n",
        "\n",
        "#optei por utilizar label encoding nas notas dos empréstimos pois possuem uma relação hierarquica.\n",
        "\n",
        "dados.replace(dicionario, inplace = True)\n",
        "dados.head()"
      ],
      "metadata": {
        "colab": {
          "base_uri": "https://localhost:8080/",
          "height": 206
        },
        "id": "qDp43pqHwxcj",
        "outputId": "6f3f017e-b140-46f2-ad6f-0fef404bf049"
      },
      "execution_count": 30,
      "outputs": [
        {
          "output_type": "execute_result",
          "data": {
            "text/plain": [
              "   idade     renda      imovel  tempo_trabalhado motivo_emprestimo  \\\n",
              "0   29.0  175000.0  Financiado               2.0           Reforma   \n",
              "1   21.0   41900.0     Alugado               2.0    Empreendimento   \n",
              "2   30.0  100000.0     Alugado              13.0           Dividas   \n",
              "3   27.0   68000.0     Alugado               4.0           Reforma   \n",
              "4   26.0   31200.0     Alugado               8.0           Pessoal   \n",
              "\n",
              "   nota_emprestimo  total_emprestado  taxa_juros  inadimplencia  \\\n",
              "0                0           10000.0    7.422942            0.0   \n",
              "1                2           16000.0   12.840000            1.0   \n",
              "2                0           12000.0    7.880000            0.0   \n",
              "3                0            8700.0    7.880000            0.0   \n",
              "4                0            5000.0    8.630000            0.0   \n",
              "\n",
              "   renda_alocada  devedora  relacionamento_bancario  \n",
              "0           0.06         0                      9.0  \n",
              "1           0.38         1                      2.0  \n",
              "2           0.12         0                      9.0  \n",
              "3           0.13         0                      5.0  \n",
              "4           0.16         0                      2.0  "
            ],
            "text/html": [
              "\n",
              "  <div id=\"df-5a147216-d94f-4305-98e0-0cd724d9e133\">\n",
              "    <div class=\"colab-df-container\">\n",
              "      <div>\n",
              "<style scoped>\n",
              "    .dataframe tbody tr th:only-of-type {\n",
              "        vertical-align: middle;\n",
              "    }\n",
              "\n",
              "    .dataframe tbody tr th {\n",
              "        vertical-align: top;\n",
              "    }\n",
              "\n",
              "    .dataframe thead th {\n",
              "        text-align: right;\n",
              "    }\n",
              "</style>\n",
              "<table border=\"1\" class=\"dataframe\">\n",
              "  <thead>\n",
              "    <tr style=\"text-align: right;\">\n",
              "      <th></th>\n",
              "      <th>idade</th>\n",
              "      <th>renda</th>\n",
              "      <th>imovel</th>\n",
              "      <th>tempo_trabalhado</th>\n",
              "      <th>motivo_emprestimo</th>\n",
              "      <th>nota_emprestimo</th>\n",
              "      <th>total_emprestado</th>\n",
              "      <th>taxa_juros</th>\n",
              "      <th>inadimplencia</th>\n",
              "      <th>renda_alocada</th>\n",
              "      <th>devedora</th>\n",
              "      <th>relacionamento_bancario</th>\n",
              "    </tr>\n",
              "  </thead>\n",
              "  <tbody>\n",
              "    <tr>\n",
              "      <th>0</th>\n",
              "      <td>29.0</td>\n",
              "      <td>175000.0</td>\n",
              "      <td>Financiado</td>\n",
              "      <td>2.0</td>\n",
              "      <td>Reforma</td>\n",
              "      <td>0</td>\n",
              "      <td>10000.0</td>\n",
              "      <td>7.422942</td>\n",
              "      <td>0.0</td>\n",
              "      <td>0.06</td>\n",
              "      <td>0</td>\n",
              "      <td>9.0</td>\n",
              "    </tr>\n",
              "    <tr>\n",
              "      <th>1</th>\n",
              "      <td>21.0</td>\n",
              "      <td>41900.0</td>\n",
              "      <td>Alugado</td>\n",
              "      <td>2.0</td>\n",
              "      <td>Empreendimento</td>\n",
              "      <td>2</td>\n",
              "      <td>16000.0</td>\n",
              "      <td>12.840000</td>\n",
              "      <td>1.0</td>\n",
              "      <td>0.38</td>\n",
              "      <td>1</td>\n",
              "      <td>2.0</td>\n",
              "    </tr>\n",
              "    <tr>\n",
              "      <th>2</th>\n",
              "      <td>30.0</td>\n",
              "      <td>100000.0</td>\n",
              "      <td>Alugado</td>\n",
              "      <td>13.0</td>\n",
              "      <td>Dividas</td>\n",
              "      <td>0</td>\n",
              "      <td>12000.0</td>\n",
              "      <td>7.880000</td>\n",
              "      <td>0.0</td>\n",
              "      <td>0.12</td>\n",
              "      <td>0</td>\n",
              "      <td>9.0</td>\n",
              "    </tr>\n",
              "    <tr>\n",
              "      <th>3</th>\n",
              "      <td>27.0</td>\n",
              "      <td>68000.0</td>\n",
              "      <td>Alugado</td>\n",
              "      <td>4.0</td>\n",
              "      <td>Reforma</td>\n",
              "      <td>0</td>\n",
              "      <td>8700.0</td>\n",
              "      <td>7.880000</td>\n",
              "      <td>0.0</td>\n",
              "      <td>0.13</td>\n",
              "      <td>0</td>\n",
              "      <td>5.0</td>\n",
              "    </tr>\n",
              "    <tr>\n",
              "      <th>4</th>\n",
              "      <td>26.0</td>\n",
              "      <td>31200.0</td>\n",
              "      <td>Alugado</td>\n",
              "      <td>8.0</td>\n",
              "      <td>Pessoal</td>\n",
              "      <td>0</td>\n",
              "      <td>5000.0</td>\n",
              "      <td>8.630000</td>\n",
              "      <td>0.0</td>\n",
              "      <td>0.16</td>\n",
              "      <td>0</td>\n",
              "      <td>2.0</td>\n",
              "    </tr>\n",
              "  </tbody>\n",
              "</table>\n",
              "</div>\n",
              "      <button class=\"colab-df-convert\" onclick=\"convertToInteractive('df-5a147216-d94f-4305-98e0-0cd724d9e133')\"\n",
              "              title=\"Convert this dataframe to an interactive table.\"\n",
              "              style=\"display:none;\">\n",
              "        \n",
              "  <svg xmlns=\"http://www.w3.org/2000/svg\" height=\"24px\"viewBox=\"0 0 24 24\"\n",
              "       width=\"24px\">\n",
              "    <path d=\"M0 0h24v24H0V0z\" fill=\"none\"/>\n",
              "    <path d=\"M18.56 5.44l.94 2.06.94-2.06 2.06-.94-2.06-.94-.94-2.06-.94 2.06-2.06.94zm-11 1L8.5 8.5l.94-2.06 2.06-.94-2.06-.94L8.5 2.5l-.94 2.06-2.06.94zm10 10l.94 2.06.94-2.06 2.06-.94-2.06-.94-.94-2.06-.94 2.06-2.06.94z\"/><path d=\"M17.41 7.96l-1.37-1.37c-.4-.4-.92-.59-1.43-.59-.52 0-1.04.2-1.43.59L10.3 9.45l-7.72 7.72c-.78.78-.78 2.05 0 2.83L4 21.41c.39.39.9.59 1.41.59.51 0 1.02-.2 1.41-.59l7.78-7.78 2.81-2.81c.8-.78.8-2.07 0-2.86zM5.41 20L4 18.59l7.72-7.72 1.47 1.35L5.41 20z\"/>\n",
              "  </svg>\n",
              "      </button>\n",
              "      \n",
              "  <style>\n",
              "    .colab-df-container {\n",
              "      display:flex;\n",
              "      flex-wrap:wrap;\n",
              "      gap: 12px;\n",
              "    }\n",
              "\n",
              "    .colab-df-convert {\n",
              "      background-color: #E8F0FE;\n",
              "      border: none;\n",
              "      border-radius: 50%;\n",
              "      cursor: pointer;\n",
              "      display: none;\n",
              "      fill: #1967D2;\n",
              "      height: 32px;\n",
              "      padding: 0 0 0 0;\n",
              "      width: 32px;\n",
              "    }\n",
              "\n",
              "    .colab-df-convert:hover {\n",
              "      background-color: #E2EBFA;\n",
              "      box-shadow: 0px 1px 2px rgba(60, 64, 67, 0.3), 0px 1px 3px 1px rgba(60, 64, 67, 0.15);\n",
              "      fill: #174EA6;\n",
              "    }\n",
              "\n",
              "    [theme=dark] .colab-df-convert {\n",
              "      background-color: #3B4455;\n",
              "      fill: #D2E3FC;\n",
              "    }\n",
              "\n",
              "    [theme=dark] .colab-df-convert:hover {\n",
              "      background-color: #434B5C;\n",
              "      box-shadow: 0px 1px 3px 1px rgba(0, 0, 0, 0.15);\n",
              "      filter: drop-shadow(0px 1px 2px rgba(0, 0, 0, 0.3));\n",
              "      fill: #FFFFFF;\n",
              "    }\n",
              "  </style>\n",
              "\n",
              "      <script>\n",
              "        const buttonEl =\n",
              "          document.querySelector('#df-5a147216-d94f-4305-98e0-0cd724d9e133 button.colab-df-convert');\n",
              "        buttonEl.style.display =\n",
              "          google.colab.kernel.accessAllowed ? 'block' : 'none';\n",
              "\n",
              "        async function convertToInteractive(key) {\n",
              "          const element = document.querySelector('#df-5a147216-d94f-4305-98e0-0cd724d9e133');\n",
              "          const dataTable =\n",
              "            await google.colab.kernel.invokeFunction('convertToInteractive',\n",
              "                                                     [key], {});\n",
              "          if (!dataTable) return;\n",
              "\n",
              "          const docLinkHtml = 'Like what you see? Visit the ' +\n",
              "            '<a target=\"_blank\" href=https://colab.research.google.com/notebooks/data_table.ipynb>data table notebook</a>'\n",
              "            + ' to learn more about interactive tables.';\n",
              "          element.innerHTML = '';\n",
              "          dataTable['output_type'] = 'display_data';\n",
              "          await google.colab.output.renderOutput(dataTable, element);\n",
              "          const docLink = document.createElement('div');\n",
              "          docLink.innerHTML = docLinkHtml;\n",
              "          element.appendChild(docLink);\n",
              "        }\n",
              "      </script>\n",
              "    </div>\n",
              "  </div>\n",
              "  "
            ]
          },
          "metadata": {},
          "execution_count": 30
        }
      ]
    },
    {
      "cell_type": "markdown",
      "source": [],
      "metadata": {
        "id": "M2dupqUG16Ts"
      }
    },
    {
      "cell_type": "code",
      "source": [
        "from sklearn.compose import make_column_transformer\n",
        "from sklearn.preprocessing import OneHotEncoder\n",
        "\n",
        "colunas = ['imovel', 'motivo_emprestimo']\n",
        "\n",
        "one_hot_enc = make_column_transformer(\n",
        "    (OneHotEncoder(), colunas),\n",
        "    remainder='passthrough')\n",
        "\n",
        "dados_final = one_hot_enc.fit_transform(dados)\n",
        "dados_final = pd.DataFrame(dados_final, columns=one_hot_enc.get_feature_names_out())\n",
        "dados_final.head()"
      ],
      "metadata": {
        "colab": {
          "base_uri": "https://localhost:8080/",
          "height": 270
        },
        "id": "QgVw3rfQxyzR",
        "outputId": "bf864b46-aa8f-4213-a651-19b758401638"
      },
      "execution_count": 31,
      "outputs": [
        {
          "output_type": "execute_result",
          "data": {
            "text/plain": [
              "   onehotencoder__imovel_Alugado  onehotencoder__imovel_Financiado  \\\n",
              "0                            0.0                               1.0   \n",
              "1                            1.0                               0.0   \n",
              "2                            1.0                               0.0   \n",
              "3                            1.0                               0.0   \n",
              "4                            1.0                               0.0   \n",
              "\n",
              "   onehotencoder__imovel_Outro  onehotencoder__imovel_Propria  \\\n",
              "0                          0.0                            0.0   \n",
              "1                          0.0                            0.0   \n",
              "2                          0.0                            0.0   \n",
              "3                          0.0                            0.0   \n",
              "4                          0.0                            0.0   \n",
              "\n",
              "   onehotencoder__motivo_emprestimo_Dividas  \\\n",
              "0                                       0.0   \n",
              "1                                       0.0   \n",
              "2                                       1.0   \n",
              "3                                       0.0   \n",
              "4                                       0.0   \n",
              "\n",
              "   onehotencoder__motivo_emprestimo_Educacao  \\\n",
              "0                                        0.0   \n",
              "1                                        0.0   \n",
              "2                                        0.0   \n",
              "3                                        0.0   \n",
              "4                                        0.0   \n",
              "\n",
              "   onehotencoder__motivo_emprestimo_Empreendimento  \\\n",
              "0                                              0.0   \n",
              "1                                              1.0   \n",
              "2                                              0.0   \n",
              "3                                              0.0   \n",
              "4                                              0.0   \n",
              "\n",
              "   onehotencoder__motivo_emprestimo_Medico  \\\n",
              "0                                      0.0   \n",
              "1                                      0.0   \n",
              "2                                      0.0   \n",
              "3                                      0.0   \n",
              "4                                      0.0   \n",
              "\n",
              "   onehotencoder__motivo_emprestimo_Pessoal  \\\n",
              "0                                       0.0   \n",
              "1                                       0.0   \n",
              "2                                       0.0   \n",
              "3                                       0.0   \n",
              "4                                       1.0   \n",
              "\n",
              "   onehotencoder__motivo_emprestimo_Reforma  remainder__idade  \\\n",
              "0                                       1.0              29.0   \n",
              "1                                       0.0              21.0   \n",
              "2                                       0.0              30.0   \n",
              "3                                       1.0              27.0   \n",
              "4                                       0.0              26.0   \n",
              "\n",
              "   remainder__renda  remainder__tempo_trabalhado  remainder__nota_emprestimo  \\\n",
              "0          175000.0                          2.0                         0.0   \n",
              "1           41900.0                          2.0                         2.0   \n",
              "2          100000.0                         13.0                         0.0   \n",
              "3           68000.0                          4.0                         0.0   \n",
              "4           31200.0                          8.0                         0.0   \n",
              "\n",
              "   remainder__total_emprestado  remainder__taxa_juros  \\\n",
              "0                      10000.0               7.422942   \n",
              "1                      16000.0              12.840000   \n",
              "2                      12000.0               7.880000   \n",
              "3                       8700.0               7.880000   \n",
              "4                       5000.0               8.630000   \n",
              "\n",
              "   remainder__inadimplencia  remainder__renda_alocada  remainder__devedora  \\\n",
              "0                       0.0                      0.06                  0.0   \n",
              "1                       1.0                      0.38                  1.0   \n",
              "2                       0.0                      0.12                  0.0   \n",
              "3                       0.0                      0.13                  0.0   \n",
              "4                       0.0                      0.16                  0.0   \n",
              "\n",
              "   remainder__relacionamento_bancario  \n",
              "0                                 9.0  \n",
              "1                                 2.0  \n",
              "2                                 9.0  \n",
              "3                                 5.0  \n",
              "4                                 2.0  "
            ],
            "text/html": [
              "\n",
              "  <div id=\"df-07c7b67e-8281-4abf-a83f-764524e1fc6c\">\n",
              "    <div class=\"colab-df-container\">\n",
              "      <div>\n",
              "<style scoped>\n",
              "    .dataframe tbody tr th:only-of-type {\n",
              "        vertical-align: middle;\n",
              "    }\n",
              "\n",
              "    .dataframe tbody tr th {\n",
              "        vertical-align: top;\n",
              "    }\n",
              "\n",
              "    .dataframe thead th {\n",
              "        text-align: right;\n",
              "    }\n",
              "</style>\n",
              "<table border=\"1\" class=\"dataframe\">\n",
              "  <thead>\n",
              "    <tr style=\"text-align: right;\">\n",
              "      <th></th>\n",
              "      <th>onehotencoder__imovel_Alugado</th>\n",
              "      <th>onehotencoder__imovel_Financiado</th>\n",
              "      <th>onehotencoder__imovel_Outro</th>\n",
              "      <th>onehotencoder__imovel_Propria</th>\n",
              "      <th>onehotencoder__motivo_emprestimo_Dividas</th>\n",
              "      <th>onehotencoder__motivo_emprestimo_Educacao</th>\n",
              "      <th>onehotencoder__motivo_emprestimo_Empreendimento</th>\n",
              "      <th>onehotencoder__motivo_emprestimo_Medico</th>\n",
              "      <th>onehotencoder__motivo_emprestimo_Pessoal</th>\n",
              "      <th>onehotencoder__motivo_emprestimo_Reforma</th>\n",
              "      <th>remainder__idade</th>\n",
              "      <th>remainder__renda</th>\n",
              "      <th>remainder__tempo_trabalhado</th>\n",
              "      <th>remainder__nota_emprestimo</th>\n",
              "      <th>remainder__total_emprestado</th>\n",
              "      <th>remainder__taxa_juros</th>\n",
              "      <th>remainder__inadimplencia</th>\n",
              "      <th>remainder__renda_alocada</th>\n",
              "      <th>remainder__devedora</th>\n",
              "      <th>remainder__relacionamento_bancario</th>\n",
              "    </tr>\n",
              "  </thead>\n",
              "  <tbody>\n",
              "    <tr>\n",
              "      <th>0</th>\n",
              "      <td>0.0</td>\n",
              "      <td>1.0</td>\n",
              "      <td>0.0</td>\n",
              "      <td>0.0</td>\n",
              "      <td>0.0</td>\n",
              "      <td>0.0</td>\n",
              "      <td>0.0</td>\n",
              "      <td>0.0</td>\n",
              "      <td>0.0</td>\n",
              "      <td>1.0</td>\n",
              "      <td>29.0</td>\n",
              "      <td>175000.0</td>\n",
              "      <td>2.0</td>\n",
              "      <td>0.0</td>\n",
              "      <td>10000.0</td>\n",
              "      <td>7.422942</td>\n",
              "      <td>0.0</td>\n",
              "      <td>0.06</td>\n",
              "      <td>0.0</td>\n",
              "      <td>9.0</td>\n",
              "    </tr>\n",
              "    <tr>\n",
              "      <th>1</th>\n",
              "      <td>1.0</td>\n",
              "      <td>0.0</td>\n",
              "      <td>0.0</td>\n",
              "      <td>0.0</td>\n",
              "      <td>0.0</td>\n",
              "      <td>0.0</td>\n",
              "      <td>1.0</td>\n",
              "      <td>0.0</td>\n",
              "      <td>0.0</td>\n",
              "      <td>0.0</td>\n",
              "      <td>21.0</td>\n",
              "      <td>41900.0</td>\n",
              "      <td>2.0</td>\n",
              "      <td>2.0</td>\n",
              "      <td>16000.0</td>\n",
              "      <td>12.840000</td>\n",
              "      <td>1.0</td>\n",
              "      <td>0.38</td>\n",
              "      <td>1.0</td>\n",
              "      <td>2.0</td>\n",
              "    </tr>\n",
              "    <tr>\n",
              "      <th>2</th>\n",
              "      <td>1.0</td>\n",
              "      <td>0.0</td>\n",
              "      <td>0.0</td>\n",
              "      <td>0.0</td>\n",
              "      <td>1.0</td>\n",
              "      <td>0.0</td>\n",
              "      <td>0.0</td>\n",
              "      <td>0.0</td>\n",
              "      <td>0.0</td>\n",
              "      <td>0.0</td>\n",
              "      <td>30.0</td>\n",
              "      <td>100000.0</td>\n",
              "      <td>13.0</td>\n",
              "      <td>0.0</td>\n",
              "      <td>12000.0</td>\n",
              "      <td>7.880000</td>\n",
              "      <td>0.0</td>\n",
              "      <td>0.12</td>\n",
              "      <td>0.0</td>\n",
              "      <td>9.0</td>\n",
              "    </tr>\n",
              "    <tr>\n",
              "      <th>3</th>\n",
              "      <td>1.0</td>\n",
              "      <td>0.0</td>\n",
              "      <td>0.0</td>\n",
              "      <td>0.0</td>\n",
              "      <td>0.0</td>\n",
              "      <td>0.0</td>\n",
              "      <td>0.0</td>\n",
              "      <td>0.0</td>\n",
              "      <td>0.0</td>\n",
              "      <td>1.0</td>\n",
              "      <td>27.0</td>\n",
              "      <td>68000.0</td>\n",
              "      <td>4.0</td>\n",
              "      <td>0.0</td>\n",
              "      <td>8700.0</td>\n",
              "      <td>7.880000</td>\n",
              "      <td>0.0</td>\n",
              "      <td>0.13</td>\n",
              "      <td>0.0</td>\n",
              "      <td>5.0</td>\n",
              "    </tr>\n",
              "    <tr>\n",
              "      <th>4</th>\n",
              "      <td>1.0</td>\n",
              "      <td>0.0</td>\n",
              "      <td>0.0</td>\n",
              "      <td>0.0</td>\n",
              "      <td>0.0</td>\n",
              "      <td>0.0</td>\n",
              "      <td>0.0</td>\n",
              "      <td>0.0</td>\n",
              "      <td>1.0</td>\n",
              "      <td>0.0</td>\n",
              "      <td>26.0</td>\n",
              "      <td>31200.0</td>\n",
              "      <td>8.0</td>\n",
              "      <td>0.0</td>\n",
              "      <td>5000.0</td>\n",
              "      <td>8.630000</td>\n",
              "      <td>0.0</td>\n",
              "      <td>0.16</td>\n",
              "      <td>0.0</td>\n",
              "      <td>2.0</td>\n",
              "    </tr>\n",
              "  </tbody>\n",
              "</table>\n",
              "</div>\n",
              "      <button class=\"colab-df-convert\" onclick=\"convertToInteractive('df-07c7b67e-8281-4abf-a83f-764524e1fc6c')\"\n",
              "              title=\"Convert this dataframe to an interactive table.\"\n",
              "              style=\"display:none;\">\n",
              "        \n",
              "  <svg xmlns=\"http://www.w3.org/2000/svg\" height=\"24px\"viewBox=\"0 0 24 24\"\n",
              "       width=\"24px\">\n",
              "    <path d=\"M0 0h24v24H0V0z\" fill=\"none\"/>\n",
              "    <path d=\"M18.56 5.44l.94 2.06.94-2.06 2.06-.94-2.06-.94-.94-2.06-.94 2.06-2.06.94zm-11 1L8.5 8.5l.94-2.06 2.06-.94-2.06-.94L8.5 2.5l-.94 2.06-2.06.94zm10 10l.94 2.06.94-2.06 2.06-.94-2.06-.94-.94-2.06-.94 2.06-2.06.94z\"/><path d=\"M17.41 7.96l-1.37-1.37c-.4-.4-.92-.59-1.43-.59-.52 0-1.04.2-1.43.59L10.3 9.45l-7.72 7.72c-.78.78-.78 2.05 0 2.83L4 21.41c.39.39.9.59 1.41.59.51 0 1.02-.2 1.41-.59l7.78-7.78 2.81-2.81c.8-.78.8-2.07 0-2.86zM5.41 20L4 18.59l7.72-7.72 1.47 1.35L5.41 20z\"/>\n",
              "  </svg>\n",
              "      </button>\n",
              "      \n",
              "  <style>\n",
              "    .colab-df-container {\n",
              "      display:flex;\n",
              "      flex-wrap:wrap;\n",
              "      gap: 12px;\n",
              "    }\n",
              "\n",
              "    .colab-df-convert {\n",
              "      background-color: #E8F0FE;\n",
              "      border: none;\n",
              "      border-radius: 50%;\n",
              "      cursor: pointer;\n",
              "      display: none;\n",
              "      fill: #1967D2;\n",
              "      height: 32px;\n",
              "      padding: 0 0 0 0;\n",
              "      width: 32px;\n",
              "    }\n",
              "\n",
              "    .colab-df-convert:hover {\n",
              "      background-color: #E2EBFA;\n",
              "      box-shadow: 0px 1px 2px rgba(60, 64, 67, 0.3), 0px 1px 3px 1px rgba(60, 64, 67, 0.15);\n",
              "      fill: #174EA6;\n",
              "    }\n",
              "\n",
              "    [theme=dark] .colab-df-convert {\n",
              "      background-color: #3B4455;\n",
              "      fill: #D2E3FC;\n",
              "    }\n",
              "\n",
              "    [theme=dark] .colab-df-convert:hover {\n",
              "      background-color: #434B5C;\n",
              "      box-shadow: 0px 1px 3px 1px rgba(0, 0, 0, 0.15);\n",
              "      filter: drop-shadow(0px 1px 2px rgba(0, 0, 0, 0.3));\n",
              "      fill: #FFFFFF;\n",
              "    }\n",
              "  </style>\n",
              "\n",
              "      <script>\n",
              "        const buttonEl =\n",
              "          document.querySelector('#df-07c7b67e-8281-4abf-a83f-764524e1fc6c button.colab-df-convert');\n",
              "        buttonEl.style.display =\n",
              "          google.colab.kernel.accessAllowed ? 'block' : 'none';\n",
              "\n",
              "        async function convertToInteractive(key) {\n",
              "          const element = document.querySelector('#df-07c7b67e-8281-4abf-a83f-764524e1fc6c');\n",
              "          const dataTable =\n",
              "            await google.colab.kernel.invokeFunction('convertToInteractive',\n",
              "                                                     [key], {});\n",
              "          if (!dataTable) return;\n",
              "\n",
              "          const docLinkHtml = 'Like what you see? Visit the ' +\n",
              "            '<a target=\"_blank\" href=https://colab.research.google.com/notebooks/data_table.ipynb>data table notebook</a>'\n",
              "            + ' to learn more about interactive tables.';\n",
              "          element.innerHTML = '';\n",
              "          dataTable['output_type'] = 'display_data';\n",
              "          await google.colab.output.renderOutput(dataTable, element);\n",
              "          const docLink = document.createElement('div');\n",
              "          docLink.innerHTML = docLinkHtml;\n",
              "          element.appendChild(docLink);\n",
              "        }\n",
              "      </script>\n",
              "    </div>\n",
              "  </div>\n",
              "  "
            ]
          },
          "metadata": {},
          "execution_count": 31
        }
      ]
    },
    {
      "cell_type": "markdown",
      "source": [
        "### Normalização\n"
      ],
      "metadata": {
        "id": "DdkkZURh2APs"
      }
    },
    {
      "cell_type": "code",
      "source": [
        "# Realizando a divisão dos dados\n",
        "x = dados_final.drop(columns = 'remainder__inadimplencia')\n",
        "y = dados_final['remainder__inadimplencia']"
      ],
      "metadata": {
        "id": "UxzYfWpT1FJI"
      },
      "execution_count": 32,
      "outputs": []
    },
    {
      "cell_type": "code",
      "source": [
        "#Normalização dos dados.\n",
        "\n",
        "from sklearn.preprocessing import StandardScaler\n",
        "\n",
        "scaler = StandardScaler()\n",
        "X = scaler.fit_transform(x)\n",
        "X = pd.DataFrame(X, columns = x.columns)\n",
        "X"
      ],
      "metadata": {
        "colab": {
          "base_uri": "https://localhost:8080/",
          "height": 488
        },
        "id": "jh3uD74b6NSd",
        "outputId": "8305cb4d-4263-4434-a3e0-9439f48abd13"
      },
      "execution_count": 33,
      "outputs": [
        {
          "output_type": "execute_result",
          "data": {
            "text/plain": [
              "       onehotencoder__imovel_Alugado  onehotencoder__imovel_Financiado  \\\n",
              "0                          -1.005805                          1.196777   \n",
              "1                           0.994229                         -0.835577   \n",
              "2                           0.994229                         -0.835577   \n",
              "3                           0.994229                         -0.835577   \n",
              "4                           0.994229                         -0.835577   \n",
              "...                              ...                               ...   \n",
              "32821                       0.994229                         -0.835577   \n",
              "32822                       0.994229                         -0.835577   \n",
              "32823                      -1.005805                         -0.835577   \n",
              "32824                       0.994229                         -0.835577   \n",
              "32825                      -1.005805                          1.196777   \n",
              "\n",
              "       onehotencoder__imovel_Outro  onehotencoder__imovel_Propria  \\\n",
              "0                        -0.083262                      -0.293044   \n",
              "1                        -0.083262                      -0.293044   \n",
              "2                        -0.083262                      -0.293044   \n",
              "3                        -0.083262                      -0.293044   \n",
              "4                        -0.083262                      -0.293044   \n",
              "...                            ...                            ...   \n",
              "32821                    -0.083262                      -0.293044   \n",
              "32822                    -0.083262                      -0.293044   \n",
              "32823                    -0.083262                       3.412453   \n",
              "32824                    -0.083262                      -0.293044   \n",
              "32825                    -0.083262                      -0.293044   \n",
              "\n",
              "       onehotencoder__motivo_emprestimo_Dividas  \\\n",
              "0                                     -0.436131   \n",
              "1                                     -0.436131   \n",
              "2                                      2.292889   \n",
              "3                                     -0.436131   \n",
              "4                                     -0.436131   \n",
              "...                                         ...   \n",
              "32821                                 -0.436131   \n",
              "32822                                  2.292889   \n",
              "32823                                 -0.436131   \n",
              "32824                                 -0.436131   \n",
              "32825                                 -0.436131   \n",
              "\n",
              "       onehotencoder__motivo_emprestimo_Educacao  \\\n",
              "0                                      -0.496990   \n",
              "1                                      -0.496990   \n",
              "2                                      -0.496990   \n",
              "3                                      -0.496990   \n",
              "4                                      -0.496990   \n",
              "...                                          ...   \n",
              "32821                                  -0.496990   \n",
              "32822                                  -0.496990   \n",
              "32823                                  -0.496990   \n",
              "32824                                  -0.496990   \n",
              "32825                                   2.012113   \n",
              "\n",
              "       onehotencoder__motivo_emprestimo_Empreendimento  \\\n",
              "0                                            -0.461462   \n",
              "1                                             2.167024   \n",
              "2                                            -0.461462   \n",
              "3                                            -0.461462   \n",
              "4                                            -0.461462   \n",
              "...                                                ...   \n",
              "32821                                        -0.461462   \n",
              "32822                                        -0.461462   \n",
              "32823                                         2.167024   \n",
              "32824                                        -0.461462   \n",
              "32825                                        -0.461462   \n",
              "\n",
              "       onehotencoder__motivo_emprestimo_Medico  \\\n",
              "0                                    -0.478853   \n",
              "1                                    -0.478853   \n",
              "2                                    -0.478853   \n",
              "3                                    -0.478853   \n",
              "4                                    -0.478853   \n",
              "...                                        ...   \n",
              "32821                                 2.088324   \n",
              "32822                                -0.478853   \n",
              "32823                                -0.478853   \n",
              "32824                                 2.088324   \n",
              "32825                                -0.478853   \n",
              "\n",
              "       onehotencoder__motivo_emprestimo_Pessoal  \\\n",
              "0                                     -0.451425   \n",
              "1                                     -0.451425   \n",
              "2                                     -0.451425   \n",
              "3                                     -0.451425   \n",
              "4                                      2.215207   \n",
              "...                                         ...   \n",
              "32821                                 -0.451425   \n",
              "32822                                 -0.451425   \n",
              "32823                                 -0.451425   \n",
              "32824                                 -0.451425   \n",
              "32825                                 -0.451425   \n",
              "\n",
              "       onehotencoder__motivo_emprestimo_Reforma  remainder__idade  \\\n",
              "0                                      2.833820          0.207786   \n",
              "1                                     -0.352881         -1.083846   \n",
              "2                                     -0.352881          0.369240   \n",
              "3                                      2.833820         -0.115122   \n",
              "4                                     -0.352881         -0.276576   \n",
              "...                                         ...               ...   \n",
              "32821                                 -0.352881         -0.115122   \n",
              "32822                                 -0.352881          6.827399   \n",
              "32823                                 -0.352881         -0.599484   \n",
              "32824                                 -0.352881         -0.760938   \n",
              "32825                                 -0.352881         -0.760938   \n",
              "\n",
              "       remainder__renda  remainder__tempo_trabalhado  \\\n",
              "0              2.075495                    -0.693947   \n",
              "1             -0.456458                    -0.693947   \n",
              "2              0.648775                     2.070922   \n",
              "3              0.040041                    -0.191244   \n",
              "4             -0.660003                     0.814163   \n",
              "...                 ...                          ...   \n",
              "32821         -0.359441                     1.568218   \n",
              "32822         -0.682831                    -1.196650   \n",
              "32823         -0.416509                     1.065515   \n",
              "32824         -0.017028                     0.562812   \n",
              "32825          0.082576                     0.562812   \n",
              "\n",
              "       remainder__nota_emprestimo  remainder__total_emprestado  \\\n",
              "0                       -1.043796                     0.064969   \n",
              "1                        0.671574                     1.014373   \n",
              "2                       -1.043796                     0.381437   \n",
              "3                       -1.043796                    -0.140735   \n",
              "4                       -1.043796                    -0.726200   \n",
              "...                           ...                          ...   \n",
              "32821                   -0.186111                    -1.311665   \n",
              "32822                    1.529259                    -1.359135   \n",
              "32823                    0.671574                    -0.567966   \n",
              "32824                   -0.186111                    -0.947727   \n",
              "32825                    0.671574                    -0.140735   \n",
              "\n",
              "       remainder__taxa_juros  remainder__renda_alocada  remainder__devedora  \\\n",
              "0                  -1.116372                 -1.029291            -0.462191   \n",
              "1                   0.570958                  1.954819             2.163609   \n",
              "2                  -0.974005                 -0.469770            -0.462191   \n",
              "3                  -0.974005                 -0.376517            -0.462191   \n",
              "4                  -0.740392                 -0.096756            -0.462191   \n",
              "...                      ...                       ...                  ...   \n",
              "32821              -0.170375                 -1.309051            -0.462191   \n",
              "32822               2.019360                 -1.309051             2.163609   \n",
              "32823               1.542789                 -0.283263             2.163609   \n",
              "32824              -0.129882                 -1.029291            -0.462191   \n",
              "32825               0.767193                 -0.469770             2.163609   \n",
              "\n",
              "       remainder__relacionamento_bancario  \n",
              "0                                0.789167  \n",
              "1                               -0.938521  \n",
              "2                                0.789167  \n",
              "3                               -0.198083  \n",
              "4                               -0.938521  \n",
              "...                                   ...  \n",
              "32821                            0.542354  \n",
              "32822                            3.750917  \n",
              "32823                           -0.444896  \n",
              "32824                           -0.691708  \n",
              "32825                           -0.444896  \n",
              "\n",
              "[32826 rows x 19 columns]"
            ],
            "text/html": [
              "\n",
              "  <div id=\"df-075de6e2-40c7-4a50-8e36-68a9fa2ea6bd\">\n",
              "    <div class=\"colab-df-container\">\n",
              "      <div>\n",
              "<style scoped>\n",
              "    .dataframe tbody tr th:only-of-type {\n",
              "        vertical-align: middle;\n",
              "    }\n",
              "\n",
              "    .dataframe tbody tr th {\n",
              "        vertical-align: top;\n",
              "    }\n",
              "\n",
              "    .dataframe thead th {\n",
              "        text-align: right;\n",
              "    }\n",
              "</style>\n",
              "<table border=\"1\" class=\"dataframe\">\n",
              "  <thead>\n",
              "    <tr style=\"text-align: right;\">\n",
              "      <th></th>\n",
              "      <th>onehotencoder__imovel_Alugado</th>\n",
              "      <th>onehotencoder__imovel_Financiado</th>\n",
              "      <th>onehotencoder__imovel_Outro</th>\n",
              "      <th>onehotencoder__imovel_Propria</th>\n",
              "      <th>onehotencoder__motivo_emprestimo_Dividas</th>\n",
              "      <th>onehotencoder__motivo_emprestimo_Educacao</th>\n",
              "      <th>onehotencoder__motivo_emprestimo_Empreendimento</th>\n",
              "      <th>onehotencoder__motivo_emprestimo_Medico</th>\n",
              "      <th>onehotencoder__motivo_emprestimo_Pessoal</th>\n",
              "      <th>onehotencoder__motivo_emprestimo_Reforma</th>\n",
              "      <th>remainder__idade</th>\n",
              "      <th>remainder__renda</th>\n",
              "      <th>remainder__tempo_trabalhado</th>\n",
              "      <th>remainder__nota_emprestimo</th>\n",
              "      <th>remainder__total_emprestado</th>\n",
              "      <th>remainder__taxa_juros</th>\n",
              "      <th>remainder__renda_alocada</th>\n",
              "      <th>remainder__devedora</th>\n",
              "      <th>remainder__relacionamento_bancario</th>\n",
              "    </tr>\n",
              "  </thead>\n",
              "  <tbody>\n",
              "    <tr>\n",
              "      <th>0</th>\n",
              "      <td>-1.005805</td>\n",
              "      <td>1.196777</td>\n",
              "      <td>-0.083262</td>\n",
              "      <td>-0.293044</td>\n",
              "      <td>-0.436131</td>\n",
              "      <td>-0.496990</td>\n",
              "      <td>-0.461462</td>\n",
              "      <td>-0.478853</td>\n",
              "      <td>-0.451425</td>\n",
              "      <td>2.833820</td>\n",
              "      <td>0.207786</td>\n",
              "      <td>2.075495</td>\n",
              "      <td>-0.693947</td>\n",
              "      <td>-1.043796</td>\n",
              "      <td>0.064969</td>\n",
              "      <td>-1.116372</td>\n",
              "      <td>-1.029291</td>\n",
              "      <td>-0.462191</td>\n",
              "      <td>0.789167</td>\n",
              "    </tr>\n",
              "    <tr>\n",
              "      <th>1</th>\n",
              "      <td>0.994229</td>\n",
              "      <td>-0.835577</td>\n",
              "      <td>-0.083262</td>\n",
              "      <td>-0.293044</td>\n",
              "      <td>-0.436131</td>\n",
              "      <td>-0.496990</td>\n",
              "      <td>2.167024</td>\n",
              "      <td>-0.478853</td>\n",
              "      <td>-0.451425</td>\n",
              "      <td>-0.352881</td>\n",
              "      <td>-1.083846</td>\n",
              "      <td>-0.456458</td>\n",
              "      <td>-0.693947</td>\n",
              "      <td>0.671574</td>\n",
              "      <td>1.014373</td>\n",
              "      <td>0.570958</td>\n",
              "      <td>1.954819</td>\n",
              "      <td>2.163609</td>\n",
              "      <td>-0.938521</td>\n",
              "    </tr>\n",
              "    <tr>\n",
              "      <th>2</th>\n",
              "      <td>0.994229</td>\n",
              "      <td>-0.835577</td>\n",
              "      <td>-0.083262</td>\n",
              "      <td>-0.293044</td>\n",
              "      <td>2.292889</td>\n",
              "      <td>-0.496990</td>\n",
              "      <td>-0.461462</td>\n",
              "      <td>-0.478853</td>\n",
              "      <td>-0.451425</td>\n",
              "      <td>-0.352881</td>\n",
              "      <td>0.369240</td>\n",
              "      <td>0.648775</td>\n",
              "      <td>2.070922</td>\n",
              "      <td>-1.043796</td>\n",
              "      <td>0.381437</td>\n",
              "      <td>-0.974005</td>\n",
              "      <td>-0.469770</td>\n",
              "      <td>-0.462191</td>\n",
              "      <td>0.789167</td>\n",
              "    </tr>\n",
              "    <tr>\n",
              "      <th>3</th>\n",
              "      <td>0.994229</td>\n",
              "      <td>-0.835577</td>\n",
              "      <td>-0.083262</td>\n",
              "      <td>-0.293044</td>\n",
              "      <td>-0.436131</td>\n",
              "      <td>-0.496990</td>\n",
              "      <td>-0.461462</td>\n",
              "      <td>-0.478853</td>\n",
              "      <td>-0.451425</td>\n",
              "      <td>2.833820</td>\n",
              "      <td>-0.115122</td>\n",
              "      <td>0.040041</td>\n",
              "      <td>-0.191244</td>\n",
              "      <td>-1.043796</td>\n",
              "      <td>-0.140735</td>\n",
              "      <td>-0.974005</td>\n",
              "      <td>-0.376517</td>\n",
              "      <td>-0.462191</td>\n",
              "      <td>-0.198083</td>\n",
              "    </tr>\n",
              "    <tr>\n",
              "      <th>4</th>\n",
              "      <td>0.994229</td>\n",
              "      <td>-0.835577</td>\n",
              "      <td>-0.083262</td>\n",
              "      <td>-0.293044</td>\n",
              "      <td>-0.436131</td>\n",
              "      <td>-0.496990</td>\n",
              "      <td>-0.461462</td>\n",
              "      <td>-0.478853</td>\n",
              "      <td>2.215207</td>\n",
              "      <td>-0.352881</td>\n",
              "      <td>-0.276576</td>\n",
              "      <td>-0.660003</td>\n",
              "      <td>0.814163</td>\n",
              "      <td>-1.043796</td>\n",
              "      <td>-0.726200</td>\n",
              "      <td>-0.740392</td>\n",
              "      <td>-0.096756</td>\n",
              "      <td>-0.462191</td>\n",
              "      <td>-0.938521</td>\n",
              "    </tr>\n",
              "    <tr>\n",
              "      <th>...</th>\n",
              "      <td>...</td>\n",
              "      <td>...</td>\n",
              "      <td>...</td>\n",
              "      <td>...</td>\n",
              "      <td>...</td>\n",
              "      <td>...</td>\n",
              "      <td>...</td>\n",
              "      <td>...</td>\n",
              "      <td>...</td>\n",
              "      <td>...</td>\n",
              "      <td>...</td>\n",
              "      <td>...</td>\n",
              "      <td>...</td>\n",
              "      <td>...</td>\n",
              "      <td>...</td>\n",
              "      <td>...</td>\n",
              "      <td>...</td>\n",
              "      <td>...</td>\n",
              "      <td>...</td>\n",
              "    </tr>\n",
              "    <tr>\n",
              "      <th>32821</th>\n",
              "      <td>0.994229</td>\n",
              "      <td>-0.835577</td>\n",
              "      <td>-0.083262</td>\n",
              "      <td>-0.293044</td>\n",
              "      <td>-0.436131</td>\n",
              "      <td>-0.496990</td>\n",
              "      <td>-0.461462</td>\n",
              "      <td>2.088324</td>\n",
              "      <td>-0.451425</td>\n",
              "      <td>-0.352881</td>\n",
              "      <td>-0.115122</td>\n",
              "      <td>-0.359441</td>\n",
              "      <td>1.568218</td>\n",
              "      <td>-0.186111</td>\n",
              "      <td>-1.311665</td>\n",
              "      <td>-0.170375</td>\n",
              "      <td>-1.309051</td>\n",
              "      <td>-0.462191</td>\n",
              "      <td>0.542354</td>\n",
              "    </tr>\n",
              "    <tr>\n",
              "      <th>32822</th>\n",
              "      <td>0.994229</td>\n",
              "      <td>-0.835577</td>\n",
              "      <td>-0.083262</td>\n",
              "      <td>-0.293044</td>\n",
              "      <td>2.292889</td>\n",
              "      <td>-0.496990</td>\n",
              "      <td>-0.461462</td>\n",
              "      <td>-0.478853</td>\n",
              "      <td>-0.451425</td>\n",
              "      <td>-0.352881</td>\n",
              "      <td>6.827399</td>\n",
              "      <td>-0.682831</td>\n",
              "      <td>-1.196650</td>\n",
              "      <td>1.529259</td>\n",
              "      <td>-1.359135</td>\n",
              "      <td>2.019360</td>\n",
              "      <td>-1.309051</td>\n",
              "      <td>2.163609</td>\n",
              "      <td>3.750917</td>\n",
              "    </tr>\n",
              "    <tr>\n",
              "      <th>32823</th>\n",
              "      <td>-1.005805</td>\n",
              "      <td>-0.835577</td>\n",
              "      <td>-0.083262</td>\n",
              "      <td>3.412453</td>\n",
              "      <td>-0.436131</td>\n",
              "      <td>-0.496990</td>\n",
              "      <td>2.167024</td>\n",
              "      <td>-0.478853</td>\n",
              "      <td>-0.451425</td>\n",
              "      <td>-0.352881</td>\n",
              "      <td>-0.599484</td>\n",
              "      <td>-0.416509</td>\n",
              "      <td>1.065515</td>\n",
              "      <td>0.671574</td>\n",
              "      <td>-0.567966</td>\n",
              "      <td>1.542789</td>\n",
              "      <td>-0.283263</td>\n",
              "      <td>2.163609</td>\n",
              "      <td>-0.444896</td>\n",
              "    </tr>\n",
              "    <tr>\n",
              "      <th>32824</th>\n",
              "      <td>0.994229</td>\n",
              "      <td>-0.835577</td>\n",
              "      <td>-0.083262</td>\n",
              "      <td>-0.293044</td>\n",
              "      <td>-0.436131</td>\n",
              "      <td>-0.496990</td>\n",
              "      <td>-0.461462</td>\n",
              "      <td>2.088324</td>\n",
              "      <td>-0.451425</td>\n",
              "      <td>-0.352881</td>\n",
              "      <td>-0.760938</td>\n",
              "      <td>-0.017028</td>\n",
              "      <td>0.562812</td>\n",
              "      <td>-0.186111</td>\n",
              "      <td>-0.947727</td>\n",
              "      <td>-0.129882</td>\n",
              "      <td>-1.029291</td>\n",
              "      <td>-0.462191</td>\n",
              "      <td>-0.691708</td>\n",
              "    </tr>\n",
              "    <tr>\n",
              "      <th>32825</th>\n",
              "      <td>-1.005805</td>\n",
              "      <td>1.196777</td>\n",
              "      <td>-0.083262</td>\n",
              "      <td>-0.293044</td>\n",
              "      <td>-0.436131</td>\n",
              "      <td>2.012113</td>\n",
              "      <td>-0.461462</td>\n",
              "      <td>-0.478853</td>\n",
              "      <td>-0.451425</td>\n",
              "      <td>-0.352881</td>\n",
              "      <td>-0.760938</td>\n",
              "      <td>0.082576</td>\n",
              "      <td>0.562812</td>\n",
              "      <td>0.671574</td>\n",
              "      <td>-0.140735</td>\n",
              "      <td>0.767193</td>\n",
              "      <td>-0.469770</td>\n",
              "      <td>2.163609</td>\n",
              "      <td>-0.444896</td>\n",
              "    </tr>\n",
              "  </tbody>\n",
              "</table>\n",
              "<p>32826 rows × 19 columns</p>\n",
              "</div>\n",
              "      <button class=\"colab-df-convert\" onclick=\"convertToInteractive('df-075de6e2-40c7-4a50-8e36-68a9fa2ea6bd')\"\n",
              "              title=\"Convert this dataframe to an interactive table.\"\n",
              "              style=\"display:none;\">\n",
              "        \n",
              "  <svg xmlns=\"http://www.w3.org/2000/svg\" height=\"24px\"viewBox=\"0 0 24 24\"\n",
              "       width=\"24px\">\n",
              "    <path d=\"M0 0h24v24H0V0z\" fill=\"none\"/>\n",
              "    <path d=\"M18.56 5.44l.94 2.06.94-2.06 2.06-.94-2.06-.94-.94-2.06-.94 2.06-2.06.94zm-11 1L8.5 8.5l.94-2.06 2.06-.94-2.06-.94L8.5 2.5l-.94 2.06-2.06.94zm10 10l.94 2.06.94-2.06 2.06-.94-2.06-.94-.94-2.06-.94 2.06-2.06.94z\"/><path d=\"M17.41 7.96l-1.37-1.37c-.4-.4-.92-.59-1.43-.59-.52 0-1.04.2-1.43.59L10.3 9.45l-7.72 7.72c-.78.78-.78 2.05 0 2.83L4 21.41c.39.39.9.59 1.41.59.51 0 1.02-.2 1.41-.59l7.78-7.78 2.81-2.81c.8-.78.8-2.07 0-2.86zM5.41 20L4 18.59l7.72-7.72 1.47 1.35L5.41 20z\"/>\n",
              "  </svg>\n",
              "      </button>\n",
              "      \n",
              "  <style>\n",
              "    .colab-df-container {\n",
              "      display:flex;\n",
              "      flex-wrap:wrap;\n",
              "      gap: 12px;\n",
              "    }\n",
              "\n",
              "    .colab-df-convert {\n",
              "      background-color: #E8F0FE;\n",
              "      border: none;\n",
              "      border-radius: 50%;\n",
              "      cursor: pointer;\n",
              "      display: none;\n",
              "      fill: #1967D2;\n",
              "      height: 32px;\n",
              "      padding: 0 0 0 0;\n",
              "      width: 32px;\n",
              "    }\n",
              "\n",
              "    .colab-df-convert:hover {\n",
              "      background-color: #E2EBFA;\n",
              "      box-shadow: 0px 1px 2px rgba(60, 64, 67, 0.3), 0px 1px 3px 1px rgba(60, 64, 67, 0.15);\n",
              "      fill: #174EA6;\n",
              "    }\n",
              "\n",
              "    [theme=dark] .colab-df-convert {\n",
              "      background-color: #3B4455;\n",
              "      fill: #D2E3FC;\n",
              "    }\n",
              "\n",
              "    [theme=dark] .colab-df-convert:hover {\n",
              "      background-color: #434B5C;\n",
              "      box-shadow: 0px 1px 3px 1px rgba(0, 0, 0, 0.15);\n",
              "      filter: drop-shadow(0px 1px 2px rgba(0, 0, 0, 0.3));\n",
              "      fill: #FFFFFF;\n",
              "    }\n",
              "  </style>\n",
              "\n",
              "      <script>\n",
              "        const buttonEl =\n",
              "          document.querySelector('#df-075de6e2-40c7-4a50-8e36-68a9fa2ea6bd button.colab-df-convert');\n",
              "        buttonEl.style.display =\n",
              "          google.colab.kernel.accessAllowed ? 'block' : 'none';\n",
              "\n",
              "        async function convertToInteractive(key) {\n",
              "          const element = document.querySelector('#df-075de6e2-40c7-4a50-8e36-68a9fa2ea6bd');\n",
              "          const dataTable =\n",
              "            await google.colab.kernel.invokeFunction('convertToInteractive',\n",
              "                                                     [key], {});\n",
              "          if (!dataTable) return;\n",
              "\n",
              "          const docLinkHtml = 'Like what you see? Visit the ' +\n",
              "            '<a target=\"_blank\" href=https://colab.research.google.com/notebooks/data_table.ipynb>data table notebook</a>'\n",
              "            + ' to learn more about interactive tables.';\n",
              "          element.innerHTML = '';\n",
              "          dataTable['output_type'] = 'display_data';\n",
              "          await google.colab.output.renderOutput(dataTable, element);\n",
              "          const docLink = document.createElement('div');\n",
              "          docLink.innerHTML = docLinkHtml;\n",
              "          element.appendChild(docLink);\n",
              "        }\n",
              "      </script>\n",
              "    </div>\n",
              "  </div>\n",
              "  "
            ]
          },
          "metadata": {},
          "execution_count": 33
        }
      ]
    },
    {
      "cell_type": "code",
      "source": [
        "#Vamos agora realizar o balanceamento da variável alvo.\n",
        "\n",
        "nao_devedora = y.value_counts()[0] # Não devedora\n",
        "devedora = y.value_counts()[1] # Não devedora\n",
        "total = y.count()\n",
        "\n",
        "print('O dataset contêm um total de %d linhas'% total)\n",
        "print('Onde %d linhas são de clientes não inadimplentes e corresponde a %.2f%% dos dados.' %(nao_devedora, (nao_devedora/total)*100))\n",
        "print('Enquanto %d linhas são clientes inadimplentes, correspondendo a %.2f%% dos dados.' %(devedora,(devedora/total)*100))"
      ],
      "metadata": {
        "colab": {
          "base_uri": "https://localhost:8080/"
        },
        "id": "IqZw28rA7Lmx",
        "outputId": "8e604f98-0747-457a-a154-49611a3ebd0c"
      },
      "execution_count": 34,
      "outputs": [
        {
          "output_type": "stream",
          "name": "stdout",
          "text": [
            "O dataset contêm um total de 32826 linhas\n",
            "Onde 25673 linhas são de clientes não inadimplentes e corresponde a 78.21% dos dados.\n",
            "Enquanto 7153 linhas são clientes inadimplentes, correspondendo a 21.79% dos dados.\n"
          ]
        }
      ]
    },
    {
      "cell_type": "markdown",
      "source": [
        "Devido ao desbalanceamento será necessário uma técnica de oversampling para equlibrar"
      ],
      "metadata": {
        "id": "v5F5MmkI8Qq7"
      }
    },
    {
      "cell_type": "code",
      "source": [
        "\n",
        "# Realizando o import do Smote\n",
        "from imblearn.over_sampling import SMOTE\n",
        "\n",
        "# Instanciando um objeto Smote()\n",
        "smt = SMOTE()\n",
        "# Aplicando o Resample das classes\n",
        "X,y = smt.fit_resample(X,y)\n",
        "\n",
        "# Visualizando a nova distribuição das classes\n",
        "y.value_counts()"
      ],
      "metadata": {
        "colab": {
          "base_uri": "https://localhost:8080/"
        },
        "id": "bfGyahYr7rH0",
        "outputId": "db873759-d68e-4dc6-958b-e9f424046d54"
      },
      "execution_count": 35,
      "outputs": [
        {
          "output_type": "execute_result",
          "data": {
            "text/plain": [
              "0.0    25673\n",
              "1.0    25673\n",
              "Name: remainder__inadimplencia, dtype: int64"
            ]
          },
          "metadata": {},
          "execution_count": 35
        }
      ]
    },
    {
      "cell_type": "markdown",
      "source": [
        "## Aprendizado"
      ],
      "metadata": {
        "id": "Ijhpjdkj8tTc"
      }
    },
    {
      "cell_type": "markdown",
      "source": [
        "Definindo a funçao básica para chamar os diversos modelos"
      ],
      "metadata": {
        "id": "wKpZISkS9RP8"
      }
    },
    {
      "cell_type": "code",
      "source": [
        "# Importando os modelos \n",
        "from sklearn.model_selection import train_test_split\n",
        "from sklearn.dummy import DummyClassifier\n",
        "from sklearn.tree import DecisionTreeClassifier\n",
        "from sklearn.ensemble import RandomForestClassifier\n",
        "from sklearn.ensemble import GradientBoostingClassifier\n",
        "from sklearn.linear_model import LogisticRegression\n",
        "\n",
        "# Importando as métricas\n",
        "from sklearn.metrics import accuracy_score\n",
        "from sklearn.metrics import precision_score\n",
        "from sklearn.metrics import f1_score\n",
        "from sklearn.metrics import recall_score\n",
        "from sklearn.metrics import confusion_matrix\n",
        "from sklearn.metrics import ConfusionMatrixDisplay\n",
        "from sklearn.metrics import roc_auc_score\n",
        "from sklearn.metrics import roc_curve\n",
        "from sklearn.metrics import classification_report\n",
        "\n",
        "  # SEED\n",
        "SEED = 10\n",
        "\n",
        "# separando os dados\n",
        "treino_X, teste_X, treino_y, teste_y = train_test_split(X, y, test_size=0.30, random_state = SEED, stratify = y)"
      ],
      "metadata": {
        "id": "Ugx6NdQB_PqC"
      },
      "execution_count": 49,
      "outputs": []
    },
    {
      "cell_type": "code",
      "source": [
        "# def roda_tudo(classificador, X, y):\n",
        "\n",
        "  \n",
        "#   # classificador\n",
        "#   modelo = classificador\n",
        "#   modelo.fit(treino_X, treino_y)\n",
        "\n",
        "#   # Predição \n",
        "#   previsoes = modelo.predict(teste_X)\n",
        "\n",
        "#   # Métricas\n",
        "#   acuracia = accuracy_score(teste_y, previsoes)*100\n",
        "#   precisao = precision_score(teste_y, previsoes)*100\n",
        "#   recall = recall_score(teste_y, previsoes)*100\n",
        "#   f1 = f1_score(teste_y, previsoes)*100\n",
        "    \n",
        "#   print('A acurácia do modelo foi de %.2f%%' %acuracia)\n",
        "#   print('A precisão do modelo foi de %.2f%%'%precisao)\n",
        "#   print('A taxa de recall do modelo foi de %.2f%%'% recall)\n",
        "#   print('A taxa de balanceamento do modelo foi de %.2f%%'%f1)\n",
        "    \n",
        "#   mc = confusion_matrix(teste_y, previsoes)\n",
        "#   display = ConfusionMatrixDisplay(confusion_matrix = mc)\n",
        "#   display.plot()\n",
        "\n",
        "#   print(100*'-')\n",
        "#   prob_previsao = modelo.predict_proba(teste_X)[:,1]\n",
        "   \n",
        "#   tfp, tvp, limite = roc_curve(teste_y, prob_previsao)\n",
        "#   print('roc_auc:', roc_auc_score(teste_y, prob_previsao))\n",
        "    \n",
        "#   plt.subplots(1, figsize=(5,5))\n",
        "#   plt.title('Curva ROC')\n",
        "#   plt.plot(tfp, tvp)\n",
        "#   plt.plot([0, 1], ls=\"--\", c = 'red') #plotando linha pontilhada guia para regressao aleatoria\n",
        "#   plt.plot([0, 0], [1, 0], ls=\"--\", c = 'green'), plt.plot([1, 1], ls=\"--\", c = 'green') #plotando linha pontilhada guia para regressao perfeita\n",
        "#   plt.ylabel('Sensibilidade')\n",
        "#   plt.xlabel('Especificidade')\n",
        "#   plt.show()\n",
        "\n"
      ],
      "metadata": {
        "id": "XsdsiIKu-Osc"
      },
      "execution_count": 37,
      "outputs": []
    },
    {
      "cell_type": "code",
      "source": [
        "dummy = DummyClassifier(random_state=SEED)\n",
        "dummy.fit(treino_X, treino_y)\n",
        "previsao_dummy = dummy.predict(teste_X)"
      ],
      "metadata": {
        "id": "CJbnGN2OOrHB"
      },
      "execution_count": null,
      "outputs": []
    },
    {
      "cell_type": "code",
      "source": [
        "arvore = DecisionTreeClassifier(random_state=SEED)\n",
        "arvore.fit(treino_X, treino_y)\n",
        "previsao_arvore = arvore.predict(teste_X)"
      ],
      "metadata": {
        "id": "NZrr9YsOA0Jj"
      },
      "execution_count": 37,
      "outputs": []
    },
    {
      "cell_type": "code",
      "source": [
        "floresta = RandomForestClassifier(random_state=SEED)\n",
        "floresta.fit(treino_X, treino_y)\n",
        "previsao_floresta = floresta.predict(teste_X)"
      ],
      "metadata": {
        "id": "06z0L2C5Ox8D"
      },
      "execution_count": null,
      "outputs": []
    },
    {
      "cell_type": "code",
      "source": [
        "gboost = GradientBoostingClassifier(random_state=SEED)\n",
        "gboost.fit(treino_X, treino_y)\n",
        "previsao_gboost = gboost.predict(teste_X)"
      ],
      "metadata": {
        "id": "rReWr3fPOx2z"
      },
      "execution_count": null,
      "outputs": []
    },
    {
      "cell_type": "code",
      "source": [
        "logreg = LogisticRegression(random_state=SEED)\n",
        "logreg.fit(treino_X, treino_y)\n",
        "previsao_logreg = logreg.predict(teste_X)"
      ],
      "metadata": {
        "id": "2ZCcgBf0OxtZ"
      },
      "execution_count": null,
      "outputs": []
    },
    {
      "cell_type": "code",
      "source": [
        "from sklearn.metrics import recall_score\n",
        "metricas_over = pd.DataFrame({'Acurácia treino':[arvore.score(treino_X, treino_y), \n",
        "                                 gboost.score(treino_X, treino_y), \n",
        "                                 logreg.score(treino_X, treino_y),\n",
        "                                 dummy.score(treino_X, treino_y)], \n",
        "                              \n",
        "            'Acurácia teste': [arvore.score(teste_X, teste_y), \n",
        "                                 gboost.score(teste_X, teste_y), \n",
        "                                 logreg.score(teste_X, teste_y),\n",
        "                               dummy.score(teste_X, treino_y)],\n",
        "                               \n",
        "            'Recall':[recall_score(teste_y, previsao_arvore),\n",
        "                      recall_score(teste_y, previsao_gboost),\n",
        "                      recall_score(teste_y, logreg),\n",
        "                      recall_score(teste_y, dummy)]\n",
        "                      },\n",
        "             index = ['Árvore de Decisão', 'Gradient Boosting', 'Regressão Logísitica', 'DummyClassifier'])"
      ],
      "metadata": {
        "id": "1uXJQwn0PWLz"
      },
      "execution_count": null,
      "outputs": []
    },
    {
      "cell_type": "code",
      "source": [
        "roda_tudo(DummyClassifier(), X, y)"
      ],
      "metadata": {
        "colab": {
          "base_uri": "https://localhost:8080/",
          "height": 771
        },
        "id": "CTXOTfLf_3c-",
        "outputId": "c2619d59-e3ee-4119-8514-386624c5ab3b"
      },
      "execution_count": 38,
      "outputs": [
        {
          "output_type": "stream",
          "name": "stderr",
          "text": [
            "/usr/local/lib/python3.7/dist-packages/sklearn/metrics/_classification.py:1318: UndefinedMetricWarning: Precision is ill-defined and being set to 0.0 due to no predicted samples. Use `zero_division` parameter to control this behavior.\n",
            "  _warn_prf(average, modifier, msg_start, len(result))\n"
          ]
        },
        {
          "output_type": "stream",
          "name": "stdout",
          "text": [
            "A acurácia do modelo foi de 50.00%\n",
            "A precisão do modelo foi de 0.00%\n",
            "A taxa de recall do modelo foi de 0.00%\n",
            "A taxa de balanceamento do modelo foi de 0.00%\n",
            "----------------------------------------------------------------------------------------------------\n",
            "roc_auc: 0.5\n"
          ]
        },
        {
          "output_type": "display_data",
          "data": {
            "text/plain": [
              "<Figure size 432x288 with 2 Axes>"
            ],
            "image/png": "[encoded data removed]"
          },
          "metadata": {
            "needs_background": "light"
          }
        },
        {
          "output_type": "display_data",
          "data": {
            "text/plain": [
              "<Figure size 360x360 with 1 Axes>"
            ],
            "image/png": "[encoded data removed]"
          },
          "metadata": {
            "needs_background": "light"
          }
        }
      ]
    },
    {
      "cell_type": "code",
      "source": [
        "roda_tudo(DecisionTreeClassifier(random_state = SEED), X, y)"
      ],
      "metadata": {
        "colab": {
          "base_uri": "https://localhost:8080/",
          "height": 716
        },
        "id": "jvnXyMICAqA5",
        "outputId": "123d9691-758d-4296-83ef-3be25600bc29"
      },
      "execution_count": 39,
      "outputs": [
        {
          "output_type": "stream",
          "name": "stdout",
          "text": [
            "A acurácia do modelo foi de 89.78%\n",
            "A precisão do modelo foi de 89.18%\n",
            "A taxa de recall do modelo foi de 90.55%\n",
            "A taxa de balanceamento do modelo foi de 89.86%\n",
            "----------------------------------------------------------------------------------------------------\n",
            "roc_auc: 0.8978187483770449\n"
          ]
        },
        {
          "output_type": "display_data",
          "data": {
            "text/plain": [
              "<Figure size 432x288 with 2 Axes>"
            ],
            "image/png": "[encoded data removed]"
          },
          "metadata": {
            "needs_background": "light"
          }
        },
        {
          "output_type": "display_data",
          "data": {
            "text/plain": [
              "<Figure size 360x360 with 1 Axes>"
            ],
            "image/png": "[encoded data removed]"
          },
          "metadata": {
            "needs_background": "light"
          }
        }
      ]
    },
    {
      "cell_type": "code",
      "source": [
        "roda_tudo(RandomForestClassifier(random_state = SEED), X, y)"
      ],
      "metadata": {
        "colab": {
          "base_uri": "https://localhost:8080/",
          "height": 716
        },
        "id": "spgOd1rwBImW",
        "outputId": "ce886fbd-e620-4c8e-f4c3-ab8bdcc3b568"
      },
      "execution_count": 40,
      "outputs": [
        {
          "output_type": "stream",
          "name": "stdout",
          "text": [
            "A acurácia do modelo foi de 94.19%\n",
            "A precisão do modelo foi de 97.74%\n",
            "A taxa de recall do modelo foi de 90.47%\n",
            "A taxa de balanceamento do modelo foi de 93.97%\n",
            "----------------------------------------------------------------------------------------------------\n",
            "roc_auc: 0.9854942036861133\n"
          ]
        },
        {
          "output_type": "display_data",
          "data": {
            "text/plain": [
              "<Figure size 432x288 with 2 Axes>"
            ],
            "image/png": "[encoded data removed]"
          },
          "metadata": {
            "needs_background": "light"
          }
        },
        {
          "output_type": "display_data",
          "data": {
            "text/plain": [
              "<Figure size 360x360 with 1 Axes>"
            ],
            "image/png": "[encoded data removed]"
          },
          "metadata": {
            "needs_background": "light"
          }
        }
      ]
    },
    {
      "cell_type": "code",
      "source": [
        "roda_tudo(GradientBoostingClassifier(random_state = SEED), X, y)"
      ],
      "metadata": {
        "colab": {
          "base_uri": "https://localhost:8080/",
          "height": 716
        },
        "id": "Bu3AvBS3BtmN",
        "outputId": "357db3bc-32f2-4e13-b1f8-e809a72e5ee0"
      },
      "execution_count": 41,
      "outputs": [
        {
          "output_type": "stream",
          "name": "stdout",
          "text": [
            "A acurácia do modelo foi de 90.17%\n",
            "A precisão do modelo foi de 93.89%\n",
            "A taxa de recall do modelo foi de 85.94%\n",
            "A taxa de balanceamento do modelo foi de 89.74%\n",
            "----------------------------------------------------------------------------------------------------\n",
            "roc_auc: 0.9631998328950498\n"
          ]
        },
        {
          "output_type": "display_data",
          "data": {
            "text/plain": [
              "<Figure size 432x288 with 2 Axes>"
            ],
            "image/png": "[encoded data removed]"
          },
          "metadata": {
            "needs_background": "light"
          }
        },
        {
          "output_type": "display_data",
          "data": {
            "text/plain": [
              "<Figure size 360x360 with 1 Axes>"
            ],
            "image/png": "[encoded data removed]"
          },
          "metadata": {
            "needs_background": "light"
          }
        }
      ]
    },
    {
      "cell_type": "code",
      "source": [
        "roda_tudo(LogisticRegression(random_state = SEED), X, y)"
      ],
      "metadata": {
        "colab": {
          "base_uri": "https://localhost:8080/",
          "height": 716
        },
        "id": "j22w2sfsBxrQ",
        "outputId": "44a5cbbf-ec6c-4800-b8a3-bc91df2cc29b"
      },
      "execution_count": 42,
      "outputs": [
        {
          "output_type": "stream",
          "name": "stdout",
          "text": [
            "A acurácia do modelo foi de 78.50%\n",
            "A precisão do modelo foi de 79.00%\n",
            "A taxa de recall do modelo foi de 77.63%\n",
            "A taxa de balanceamento do modelo foi de 78.31%\n",
            "----------------------------------------------------------------------------------------------------\n",
            "roc_auc: 0.8632273089218413\n"
          ]
        },
        {
          "output_type": "display_data",
          "data": {
            "text/plain": [
              "<Figure size 432x288 with 2 Axes>"
            ],
            "image/png": "[encoded data removed]"
          },
          "metadata": {
            "needs_background": "light"
          }
        },
        {
          "output_type": "display_data",
          "data": {
            "text/plain": [
              "<Figure size 360x360 with 1 Axes>"
            ],
            "image/png": "[encoded data removed]"
          },
          "metadata": {
            "needs_background": "light"
          }
        }
      ]
    },
    {
      "cell_type": "markdown",
      "source": [
        "O problema do banco está relacionado a questão da inadimplencia, nosso modelo deve focar em ser capaz de diferenciar ambas categorias com maior eficácia possível.\n",
        "\n",
        "Dessa forma vamos escolher os dois melhores modelos, RandomForestClassifier e o GradientBoostingClassifier, e buscar sua otimização."
      ],
      "metadata": {
        "id": "MiTOE5ayCNII"
      }
    },
    {
      "cell_type": "markdown",
      "source": [
        "## Otimizando os modelos"
      ],
      "metadata": {
        "id": "VqGNMw1NDtGr"
      }
    },
    {
      "cell_type": "code",
      "source": [
        "from sklearn.model_selection import GridSearchCV\n",
        "import numpy as np"
      ],
      "metadata": {
        "id": "SlVFz-OLEOaY"
      },
      "execution_count": 43,
      "outputs": []
    },
    {
      "cell_type": "code",
      "source": [
        "parametros = { 'n_estimators' : [100, 500],\n",
        "              'criterion' : ['gini','entropy'],\n",
        "              'max_depth' : [4, 64, 'log-uniform'],\n",
        "              'min_samples_split' : [4, 120],\n",
        "              'min_samples_leaf' : [2, 120]}\n",
        "\n",
        "grid_search = GridSearchCV(RandomForestClassifier(random_state = SEED), parametros,scoring='recall',cv=3,verbose = 1)\n",
        "\n",
        "grid_search.fit(treino_X, treino_y)\n"
      ],
      "metadata": {
        "colab": {
          "base_uri": "https://localhost:8080/"
        },
        "id": "aAtezn6dB28Z",
        "outputId": "067cbfef-8cb1-4af4-f3d7-28ffafb4b77c"
      },
      "execution_count": 44,
      "outputs": [
        {
          "output_type": "stream",
          "name": "stdout",
          "text": [
            "Fitting 3 folds for each of 48 candidates, totalling 144 fits\n"
          ]
        },
        {
          "output_type": "stream",
          "name": "stderr",
          "text": [
            "/usr/local/lib/python3.7/dist-packages/sklearn/model_selection/_validation.py:372: FitFailedWarning: \n",
            "48 fits failed out of a total of 144.\n",
            "The score on these train-test partitions for these parameters will be set to nan.\n",
            "If these failures are not expected, you can try to debug them by setting error_score='raise'.\n",
            "\n",
            "Below are more details about the failures:\n",
            "--------------------------------------------------------------------------------\n",
            "48 fits failed with the following error:\n",
            "Traceback (most recent call last):\n",
            "  File \"/usr/local/lib/python3.7/dist-packages/sklearn/model_selection/_validation.py\", line 680, in _fit_and_score\n",
            "    estimator.fit(X_train, y_train, **fit_params)\n",
            "  File \"/usr/local/lib/python3.7/dist-packages/sklearn/ensemble/_forest.py\", line 467, in fit\n",
            "    for i, t in enumerate(trees)\n",
            "  File \"/usr/local/lib/python3.7/dist-packages/joblib/parallel.py\", line 1043, in __call__\n",
            "    if self.dispatch_one_batch(iterator):\n",
            "  File \"/usr/local/lib/python3.7/dist-packages/joblib/parallel.py\", line 861, in dispatch_one_batch\n",
            "    self._dispatch(tasks)\n",
            "  File \"/usr/local/lib/python3.7/dist-packages/joblib/parallel.py\", line 779, in _dispatch\n",
            "    job = self._backend.apply_async(batch, callback=cb)\n",
            "  File \"/usr/local/lib/python3.7/dist-packages/joblib/_parallel_backends.py\", line 208, in apply_async\n",
            "    result = ImmediateResult(func)\n",
            "  File \"/usr/local/lib/python3.7/dist-packages/joblib/_parallel_backends.py\", line 572, in __init__\n",
            "    self.results = batch()\n",
            "  File \"/usr/local/lib/python3.7/dist-packages/joblib/parallel.py\", line 263, in __call__\n",
            "    for func, args, kwargs in self.items]\n",
            "  File \"/usr/local/lib/python3.7/dist-packages/joblib/parallel.py\", line 263, in <listcomp>\n",
            "    for func, args, kwargs in self.items]\n",
            "  File \"/usr/local/lib/python3.7/dist-packages/sklearn/utils/fixes.py\", line 216, in __call__\n",
            "    return self.function(*args, **kwargs)\n",
            "  File \"/usr/local/lib/python3.7/dist-packages/sklearn/ensemble/_forest.py\", line 185, in _parallel_build_trees\n",
            "    tree.fit(X, y, sample_weight=curr_sample_weight, check_input=False)\n",
            "  File \"/usr/local/lib/python3.7/dist-packages/sklearn/tree/_classes.py\", line 942, in fit\n",
            "    X_idx_sorted=X_idx_sorted,\n",
            "  File \"/usr/local/lib/python3.7/dist-packages/sklearn/tree/_classes.py\", line 305, in fit\n",
            "    if max_depth <= 0:\n",
            "TypeError: '<=' not supported between instances of 'str' and 'int'\n",
            "\n",
            "  warnings.warn(some_fits_failed_message, FitFailedWarning)\n",
            "/usr/local/lib/python3.7/dist-packages/sklearn/model_selection/_search.py:972: UserWarning: One or more of the test scores are non-finite: [0.76556675 0.77146523 0.76690228 0.7717991  0.76395289 0.77068608\n",
            " 0.76395289 0.77068608 0.87574409 0.87691275 0.81503565 0.81587023\n",
            " 0.79528141 0.79400161 0.79528141 0.79400161        nan        nan\n",
            "        nan        nan        nan        nan        nan        nan\n",
            " 0.76384186 0.7708531  0.76439832 0.77090874 0.76334087 0.76935061\n",
            " 0.76334087 0.76935061 0.87869339 0.88019572 0.81648227 0.81687175\n",
            " 0.79389026 0.79272177 0.79389026 0.79272177        nan        nan\n",
            "        nan        nan        nan        nan        nan        nan]\n",
            "  category=UserWarning,\n"
          ]
        },
        {
          "output_type": "execute_result",
          "data": {
            "text/plain": [
              "GridSearchCV(cv=3, estimator=RandomForestClassifier(random_state=10),\n",
              "             param_grid={'criterion': ['gini', 'entropy'],\n",
              "                         'max_depth': [4, 64, 'log-uniform'],\n",
              "                         'min_samples_leaf': [2, 120],\n",
              "                         'min_samples_split': [4, 120],\n",
              "                         'n_estimators': [100, 500]},\n",
              "             scoring='recall', verbose=1)"
            ]
          },
          "metadata": {},
          "execution_count": 44
        }
      ]
    },
    {
      "cell_type": "code",
      "source": [
        "parameters = {\n",
        "    \"loss\":[\"deviance\"],\n",
        "    \"max_depth\":[3,5,8],\n",
        "    \"max_features\":[\"log2\",\"sqrt\"],\n",
        "    \"criterion\": [\"friedman_mse\",  \"absolute_error\"],\n",
        "    \"subsample\":[0.5, 0.618, 0.8, 0.85, 0.9],\n",
        "    \"n_estimators\":[10,100]\n",
        "    }\n",
        "\n",
        "grid_search_GBossting = GridSearchCV(GradientBoostingClassifier(random_state = SEED), parameters,scoring='recall',cv=3,verbose = 1)\n",
        "\n",
        "grid_search_GBossting.fit(treino_X, treino_y)\n"
      ],
      "metadata": {
        "colab": {
          "base_uri": "https://localhost:8080/"
        },
        "id": "3N9yT5VbD8Ol",
        "outputId": "3ad383f1-b7f5-40c5-c7e1-0199638cfbbd"
      },
      "execution_count": null,
      "outputs": [
        {
          "output_type": "stream",
          "name": "stdout",
          "text": [
            "Fitting 3 folds for each of 120 candidates, totalling 360 fits\n"
          ]
        },
        {
          "output_type": "stream",
          "name": "stderr",
          "text": [
            "/usr/local/lib/python3.7/dist-packages/sklearn/ensemble/_gb.py:1290: FutureWarning: criterion='mae' was deprecated in version 0.24 and will be removed in version 1.1 (renaming of 0.26). Use criterion='friedman_mse' or 'squared_error' instead, as trees should use a squared error criterion in Gradient Boosting.\n",
            "  FutureWarning,\n",
            "/usr/local/lib/python3.7/dist-packages/sklearn/ensemble/_gb.py:1290: FutureWarning: criterion='mae' was deprecated in version 0.24 and will be removed in version 1.1 (renaming of 0.26). Use criterion='friedman_mse' or 'squared_error' instead, as trees should use a squared error criterion in Gradient Boosting.\n",
            "  FutureWarning,\n",
            "/usr/local/lib/python3.7/dist-packages/sklearn/ensemble/_gb.py:1290: FutureWarning: criterion='mae' was deprecated in version 0.24 and will be removed in version 1.1 (renaming of 0.26). Use criterion='friedman_mse' or 'squared_error' instead, as trees should use a squared error criterion in Gradient Boosting.\n",
            "  FutureWarning,\n",
            "/usr/local/lib/python3.7/dist-packages/sklearn/ensemble/_gb.py:1290: FutureWarning: criterion='mae' was deprecated in version 0.24 and will be removed in version 1.1 (renaming of 0.26). Use criterion='friedman_mse' or 'squared_error' instead, as trees should use a squared error criterion in Gradient Boosting.\n",
            "  FutureWarning,\n",
            "/usr/local/lib/python3.7/dist-packages/sklearn/ensemble/_gb.py:1290: FutureWarning: criterion='mae' was deprecated in version 0.24 and will be removed in version 1.1 (renaming of 0.26). Use criterion='friedman_mse' or 'squared_error' instead, as trees should use a squared error criterion in Gradient Boosting.\n",
            "  FutureWarning,\n",
            "/usr/local/lib/python3.7/dist-packages/sklearn/ensemble/_gb.py:1290: FutureWarning: criterion='mae' was deprecated in version 0.24 and will be removed in version 1.1 (renaming of 0.26). Use criterion='friedman_mse' or 'squared_error' instead, as trees should use a squared error criterion in Gradient Boosting.\n",
            "  FutureWarning,\n",
            "/usr/local/lib/python3.7/dist-packages/sklearn/ensemble/_gb.py:1290: FutureWarning: criterion='mae' was deprecated in version 0.24 and will be removed in version 1.1 (renaming of 0.26). Use criterion='friedman_mse' or 'squared_error' instead, as trees should use a squared error criterion in Gradient Boosting.\n",
            "  FutureWarning,\n",
            "/usr/local/lib/python3.7/dist-packages/sklearn/ensemble/_gb.py:1290: FutureWarning: criterion='mae' was deprecated in version 0.24 and will be removed in version 1.1 (renaming of 0.26). Use criterion='friedman_mse' or 'squared_error' instead, as trees should use a squared error criterion in Gradient Boosting.\n",
            "  FutureWarning,\n",
            "/usr/local/lib/python3.7/dist-packages/sklearn/ensemble/_gb.py:1290: FutureWarning: criterion='mae' was deprecated in version 0.24 and will be removed in version 1.1 (renaming of 0.26). Use criterion='friedman_mse' or 'squared_error' instead, as trees should use a squared error criterion in Gradient Boosting.\n",
            "  FutureWarning,\n",
            "/usr/local/lib/python3.7/dist-packages/sklearn/ensemble/_gb.py:1290: FutureWarning: criterion='mae' was deprecated in version 0.24 and will be removed in version 1.1 (renaming of 0.26). Use criterion='friedman_mse' or 'squared_error' instead, as trees should use a squared error criterion in Gradient Boosting.\n",
            "  FutureWarning,\n",
            "/usr/local/lib/python3.7/dist-packages/sklearn/ensemble/_gb.py:1290: FutureWarning: criterion='mae' was deprecated in version 0.24 and will be removed in version 1.1 (renaming of 0.26). Use criterion='friedman_mse' or 'squared_error' instead, as trees should use a squared error criterion in Gradient Boosting.\n",
            "  FutureWarning,\n",
            "/usr/local/lib/python3.7/dist-packages/sklearn/ensemble/_gb.py:1290: FutureWarning: criterion='mae' was deprecated in version 0.24 and will be removed in version 1.1 (renaming of 0.26). Use criterion='friedman_mse' or 'squared_error' instead, as trees should use a squared error criterion in Gradient Boosting.\n",
            "  FutureWarning,\n",
            "/usr/local/lib/python3.7/dist-packages/sklearn/ensemble/_gb.py:1290: FutureWarning: criterion='mae' was deprecated in version 0.24 and will be removed in version 1.1 (renaming of 0.26). Use criterion='friedman_mse' or 'squared_error' instead, as trees should use a squared error criterion in Gradient Boosting.\n",
            "  FutureWarning,\n",
            "/usr/local/lib/python3.7/dist-packages/sklearn/ensemble/_gb.py:1290: FutureWarning: criterion='mae' was deprecated in version 0.24 and will be removed in version 1.1 (renaming of 0.26). Use criterion='friedman_mse' or 'squared_error' instead, as trees should use a squared error criterion in Gradient Boosting.\n",
            "  FutureWarning,\n",
            "/usr/local/lib/python3.7/dist-packages/sklearn/ensemble/_gb.py:1290: FutureWarning: criterion='mae' was deprecated in version 0.24 and will be removed in version 1.1 (renaming of 0.26). Use criterion='friedman_mse' or 'squared_error' instead, as trees should use a squared error criterion in Gradient Boosting.\n",
            "  FutureWarning,\n",
            "/usr/local/lib/python3.7/dist-packages/sklearn/ensemble/_gb.py:1290: FutureWarning: criterion='mae' was deprecated in version 0.24 and will be removed in version 1.1 (renaming of 0.26). Use criterion='friedman_mse' or 'squared_error' instead, as trees should use a squared error criterion in Gradient Boosting.\n",
            "  FutureWarning,\n",
            "/usr/local/lib/python3.7/dist-packages/sklearn/ensemble/_gb.py:1290: FutureWarning: criterion='mae' was deprecated in version 0.24 and will be removed in version 1.1 (renaming of 0.26). Use criterion='friedman_mse' or 'squared_error' instead, as trees should use a squared error criterion in Gradient Boosting.\n",
            "  FutureWarning,\n",
            "/usr/local/lib/python3.7/dist-packages/sklearn/ensemble/_gb.py:1290: FutureWarning: criterion='mae' was deprecated in version 0.24 and will be removed in version 1.1 (renaming of 0.26). Use criterion='friedman_mse' or 'squared_error' instead, as trees should use a squared error criterion in Gradient Boosting.\n",
            "  FutureWarning,\n",
            "/usr/local/lib/python3.7/dist-packages/sklearn/ensemble/_gb.py:1290: FutureWarning: criterion='mae' was deprecated in version 0.24 and will be removed in version 1.1 (renaming of 0.26). Use criterion='friedman_mse' or 'squared_error' instead, as trees should use a squared error criterion in Gradient Boosting.\n",
            "  FutureWarning,\n"
          ]
        }
      ]
    },
    {
      "cell_type": "code",
      "source": [
        "previsao_grid_search = grid_search.best_estimator_\n",
        "previsao_grid = previsao_grid_search.predict(teste_X)\n",
        "grid_search.best_estimator_"
      ],
      "metadata": {
        "colab": {
          "base_uri": "https://localhost:8080/"
        },
        "id": "P3Ys16ZhELgZ",
        "outputId": "a0d00dd6-3265-41cf-9767-bb1bd0633e2d"
      },
      "execution_count": 47,
      "outputs": [
        {
          "output_type": "execute_result",
          "data": {
            "text/plain": [
              "RandomForestClassifier(criterion='entropy', max_depth=64, min_samples_leaf=2,\n",
              "                       min_samples_split=4, n_estimators=500, random_state=10)"
            ]
          },
          "metadata": {},
          "execution_count": 47
        }
      ]
    },
    {
      "cell_type": "code",
      "source": [
        "print(classification_report(teste_y, previsao_grid))"
      ],
      "metadata": {
        "colab": {
          "base_uri": "https://localhost:8080/"
        },
        "id": "6SEQ2LMyKWbx",
        "outputId": "413c7f27-602b-492b-8c2b-d8d1fc2001f3"
      },
      "execution_count": 50,
      "outputs": [
        {
          "output_type": "stream",
          "name": "stdout",
          "text": [
            "              precision    recall  f1-score   support\n",
            "\n",
            "         0.0       0.90      0.98      0.94      7702\n",
            "         1.0       0.98      0.89      0.93      7702\n",
            "\n",
            "    accuracy                           0.94     15404\n",
            "   macro avg       0.94      0.94      0.94     15404\n",
            "weighted avg       0.94      0.94      0.94     15404\n",
            "\n"
          ]
        }
      ]
    },
    {
      "cell_type": "code",
      "source": [
        "ConfusionMatrixDisplay.from_estimator(previsao_grid_search, teste_X, teste_y)\n",
        "plt.grid(False)\n",
        "plt.show()"
      ],
      "metadata": {
        "colab": {
          "base_uri": "https://localhost:8080/",
          "height": 279
        },
        "id": "tGchKXb4Ko1w",
        "outputId": "87be4ad1-f243-47b2-b3c5-7d97c2e0fa9f"
      },
      "execution_count": 52,
      "outputs": [
        {
          "output_type": "display_data",
          "data": {
            "text/plain": [
              "<Figure size 432x288 with 2 Axes>"
            ],
            "image/png": "[encoded data removed]"
          },
          "metadata": {
            "needs_background": "light"
          }
        }
      ]
    },
    {
      "cell_type": "code",
      "source": [
        "previsao_grid_search = grid_search_GBossting.best_estimator_\n",
        "previsao_grid = previsao_grid_search.predict(teste_X)\n",
        "grid_search_GBossting.best_estimator_"
      ],
      "metadata": {
        "id": "JmPLCZRGLDb_"
      },
      "execution_count": null,
      "outputs": []
    },
    {
      "cell_type": "code",
      "source": [
        "ConfusionMatrixDisplay.from_estimator(previsao_grid_search, teste_X, teste_y)\n",
        "plt.grid(False)\n",
        "plt.show()"
      ],
      "metadata": {
        "id": "sVsYI-fHMr3n"
      },
      "execution_count": null,
      "outputs": []
    }
  ]
}